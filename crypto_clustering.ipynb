{
 "cells": [
  {
   "cell_type": "markdown",
   "metadata": {},
   "source": [
    "# Clustering Crypto"
   ]
  },
  {
   "cell_type": "code",
   "execution_count": 2,
   "metadata": {},
   "outputs": [],
   "source": [
    "# Initial imports\n",
    "import pandas as pd\n",
    "import hvplot.pandas\n",
    "from pathlib import Path\n",
    "import plotly.express as px\n",
    "from sklearn.preprocessing import StandardScaler, MinMaxScaler\n",
    "from sklearn.decomposition import PCA\n",
    "from sklearn.cluster import KMeans\n"
   ]
  },
  {
   "cell_type": "markdown",
   "metadata": {},
   "source": [
    "### Deliverable 1: Preprocessing the Data for PCA"
   ]
  },
  {
   "cell_type": "code",
   "execution_count": 3,
   "metadata": {},
   "outputs": [
    {
     "data": {
      "text/html": [
       "<div>\n",
       "<style scoped>\n",
       "    .dataframe tbody tr th:only-of-type {\n",
       "        vertical-align: middle;\n",
       "    }\n",
       "\n",
       "    .dataframe tbody tr th {\n",
       "        vertical-align: top;\n",
       "    }\n",
       "\n",
       "    .dataframe thead th {\n",
       "        text-align: right;\n",
       "    }\n",
       "</style>\n",
       "<table border=\"1\" class=\"dataframe\">\n",
       "  <thead>\n",
       "    <tr style=\"text-align: right;\">\n",
       "      <th></th>\n",
       "      <th>Unnamed: 0</th>\n",
       "      <th>CoinName</th>\n",
       "      <th>Algorithm</th>\n",
       "      <th>IsTrading</th>\n",
       "      <th>ProofType</th>\n",
       "      <th>TotalCoinsMined</th>\n",
       "      <th>TotalCoinSupply</th>\n",
       "    </tr>\n",
       "  </thead>\n",
       "  <tbody>\n",
       "    <tr>\n",
       "      <th>0</th>\n",
       "      <td>42</td>\n",
       "      <td>42 Coin</td>\n",
       "      <td>Scrypt</td>\n",
       "      <td>True</td>\n",
       "      <td>PoW/PoS</td>\n",
       "      <td>4.199995e+01</td>\n",
       "      <td>42</td>\n",
       "    </tr>\n",
       "    <tr>\n",
       "      <th>1</th>\n",
       "      <td>365</td>\n",
       "      <td>365Coin</td>\n",
       "      <td>X11</td>\n",
       "      <td>True</td>\n",
       "      <td>PoW/PoS</td>\n",
       "      <td>NaN</td>\n",
       "      <td>2300000000</td>\n",
       "    </tr>\n",
       "    <tr>\n",
       "      <th>2</th>\n",
       "      <td>404</td>\n",
       "      <td>404Coin</td>\n",
       "      <td>Scrypt</td>\n",
       "      <td>True</td>\n",
       "      <td>PoW/PoS</td>\n",
       "      <td>1.055185e+09</td>\n",
       "      <td>532000000</td>\n",
       "    </tr>\n",
       "    <tr>\n",
       "      <th>3</th>\n",
       "      <td>611</td>\n",
       "      <td>SixEleven</td>\n",
       "      <td>SHA-256</td>\n",
       "      <td>True</td>\n",
       "      <td>PoW</td>\n",
       "      <td>NaN</td>\n",
       "      <td>611000</td>\n",
       "    </tr>\n",
       "    <tr>\n",
       "      <th>4</th>\n",
       "      <td>808</td>\n",
       "      <td>808</td>\n",
       "      <td>SHA-256</td>\n",
       "      <td>True</td>\n",
       "      <td>PoW/PoS</td>\n",
       "      <td>0.000000e+00</td>\n",
       "      <td>0</td>\n",
       "    </tr>\n",
       "  </tbody>\n",
       "</table>\n",
       "</div>"
      ],
      "text/plain": [
       "  Unnamed: 0   CoinName Algorithm  IsTrading ProofType  TotalCoinsMined  \\\n",
       "0         42    42 Coin    Scrypt       True   PoW/PoS     4.199995e+01   \n",
       "1        365    365Coin       X11       True   PoW/PoS              NaN   \n",
       "2        404    404Coin    Scrypt       True   PoW/PoS     1.055185e+09   \n",
       "3        611  SixEleven   SHA-256       True       PoW              NaN   \n",
       "4        808        808   SHA-256       True   PoW/PoS     0.000000e+00   \n",
       "\n",
       "  TotalCoinSupply  \n",
       "0              42  \n",
       "1      2300000000  \n",
       "2       532000000  \n",
       "3          611000  \n",
       "4               0  "
      ]
     },
     "execution_count": 3,
     "metadata": {},
     "output_type": "execute_result"
    }
   ],
   "source": [
    "# Load the crypto_data.csv dataset.\n",
    "# YOUR CODE HERE\n",
    "\n",
    "file_path = \"crypto_data.csv\"\n",
    "df_crypto = pd.read_csv(file_path)\n",
    "df_crypto.head(5)"
   ]
  },
  {
   "cell_type": "code",
   "execution_count": 4,
   "metadata": {},
   "outputs": [
    {
     "data": {
      "text/html": [
       "<div>\n",
       "<style scoped>\n",
       "    .dataframe tbody tr th:only-of-type {\n",
       "        vertical-align: middle;\n",
       "    }\n",
       "\n",
       "    .dataframe tbody tr th {\n",
       "        vertical-align: top;\n",
       "    }\n",
       "\n",
       "    .dataframe thead th {\n",
       "        text-align: right;\n",
       "    }\n",
       "</style>\n",
       "<table border=\"1\" class=\"dataframe\">\n",
       "  <thead>\n",
       "    <tr style=\"text-align: right;\">\n",
       "      <th></th>\n",
       "      <th>CoinName</th>\n",
       "      <th>Algorithm</th>\n",
       "      <th>IsTrading</th>\n",
       "      <th>ProofType</th>\n",
       "      <th>TotalCoinsMined</th>\n",
       "      <th>TotalCoinSupply</th>\n",
       "    </tr>\n",
       "  </thead>\n",
       "  <tbody>\n",
       "    <tr>\n",
       "      <th>42</th>\n",
       "      <td>42 Coin</td>\n",
       "      <td>Scrypt</td>\n",
       "      <td>True</td>\n",
       "      <td>PoW/PoS</td>\n",
       "      <td>4.199995e+01</td>\n",
       "      <td>42</td>\n",
       "    </tr>\n",
       "    <tr>\n",
       "      <th>365</th>\n",
       "      <td>365Coin</td>\n",
       "      <td>X11</td>\n",
       "      <td>True</td>\n",
       "      <td>PoW/PoS</td>\n",
       "      <td>NaN</td>\n",
       "      <td>2300000000</td>\n",
       "    </tr>\n",
       "    <tr>\n",
       "      <th>404</th>\n",
       "      <td>404Coin</td>\n",
       "      <td>Scrypt</td>\n",
       "      <td>True</td>\n",
       "      <td>PoW/PoS</td>\n",
       "      <td>1.055185e+09</td>\n",
       "      <td>532000000</td>\n",
       "    </tr>\n",
       "    <tr>\n",
       "      <th>611</th>\n",
       "      <td>SixEleven</td>\n",
       "      <td>SHA-256</td>\n",
       "      <td>True</td>\n",
       "      <td>PoW</td>\n",
       "      <td>NaN</td>\n",
       "      <td>611000</td>\n",
       "    </tr>\n",
       "    <tr>\n",
       "      <th>808</th>\n",
       "      <td>808</td>\n",
       "      <td>SHA-256</td>\n",
       "      <td>True</td>\n",
       "      <td>PoW/PoS</td>\n",
       "      <td>0.000000e+00</td>\n",
       "      <td>0</td>\n",
       "    </tr>\n",
       "  </tbody>\n",
       "</table>\n",
       "</div>"
      ],
      "text/plain": [
       "      CoinName Algorithm  IsTrading ProofType  TotalCoinsMined TotalCoinSupply\n",
       "42     42 Coin    Scrypt       True   PoW/PoS     4.199995e+01              42\n",
       "365    365Coin       X11       True   PoW/PoS              NaN      2300000000\n",
       "404    404Coin    Scrypt       True   PoW/PoS     1.055185e+09       532000000\n",
       "611  SixEleven   SHA-256       True       PoW              NaN          611000\n",
       "808        808   SHA-256       True   PoW/PoS     0.000000e+00               0"
      ]
     },
     "execution_count": 4,
     "metadata": {},
     "output_type": "execute_result"
    }
   ],
   "source": [
    "# Keep all the cryptocurrencies that are being traded.\n",
    "df_crypto = df_crypto.set_index(\"Unnamed: 0\")\n",
    "df_crypto.index.name = None\n",
    "df_crypto.head()"
   ]
  },
  {
   "cell_type": "code",
   "execution_count": 5,
   "metadata": {},
   "outputs": [
    {
     "data": {
      "text/html": [
       "<div>\n",
       "<style scoped>\n",
       "    .dataframe tbody tr th:only-of-type {\n",
       "        vertical-align: middle;\n",
       "    }\n",
       "\n",
       "    .dataframe tbody tr th {\n",
       "        vertical-align: top;\n",
       "    }\n",
       "\n",
       "    .dataframe thead th {\n",
       "        text-align: right;\n",
       "    }\n",
       "</style>\n",
       "<table border=\"1\" class=\"dataframe\">\n",
       "  <thead>\n",
       "    <tr style=\"text-align: right;\">\n",
       "      <th></th>\n",
       "      <th>CoinName</th>\n",
       "      <th>Algorithm</th>\n",
       "      <th>IsTrading</th>\n",
       "      <th>ProofType</th>\n",
       "      <th>TotalCoinsMined</th>\n",
       "      <th>TotalCoinSupply</th>\n",
       "    </tr>\n",
       "  </thead>\n",
       "  <tbody>\n",
       "    <tr>\n",
       "      <th>42</th>\n",
       "      <td>42 Coin</td>\n",
       "      <td>Scrypt</td>\n",
       "      <td>True</td>\n",
       "      <td>PoW/PoS</td>\n",
       "      <td>4.199995e+01</td>\n",
       "      <td>42</td>\n",
       "    </tr>\n",
       "    <tr>\n",
       "      <th>365</th>\n",
       "      <td>365Coin</td>\n",
       "      <td>X11</td>\n",
       "      <td>True</td>\n",
       "      <td>PoW/PoS</td>\n",
       "      <td>NaN</td>\n",
       "      <td>2300000000</td>\n",
       "    </tr>\n",
       "    <tr>\n",
       "      <th>404</th>\n",
       "      <td>404Coin</td>\n",
       "      <td>Scrypt</td>\n",
       "      <td>True</td>\n",
       "      <td>PoW/PoS</td>\n",
       "      <td>1.055185e+09</td>\n",
       "      <td>532000000</td>\n",
       "    </tr>\n",
       "    <tr>\n",
       "      <th>611</th>\n",
       "      <td>SixEleven</td>\n",
       "      <td>SHA-256</td>\n",
       "      <td>True</td>\n",
       "      <td>PoW</td>\n",
       "      <td>NaN</td>\n",
       "      <td>611000</td>\n",
       "    </tr>\n",
       "    <tr>\n",
       "      <th>808</th>\n",
       "      <td>808</td>\n",
       "      <td>SHA-256</td>\n",
       "      <td>True</td>\n",
       "      <td>PoW/PoS</td>\n",
       "      <td>0.000000e+00</td>\n",
       "      <td>0</td>\n",
       "    </tr>\n",
       "  </tbody>\n",
       "</table>\n",
       "</div>"
      ],
      "text/plain": [
       "      CoinName Algorithm  IsTrading ProofType  TotalCoinsMined TotalCoinSupply\n",
       "42     42 Coin    Scrypt       True   PoW/PoS     4.199995e+01              42\n",
       "365    365Coin       X11       True   PoW/PoS              NaN      2300000000\n",
       "404    404Coin    Scrypt       True   PoW/PoS     1.055185e+09       532000000\n",
       "611  SixEleven   SHA-256       True       PoW              NaN          611000\n",
       "808        808   SHA-256       True   PoW/PoS     0.000000e+00               0"
      ]
     },
     "execution_count": 5,
     "metadata": {},
     "output_type": "execute_result"
    }
   ],
   "source": [
    "# Keep all the cryptocurrencies that have a working algorithm.\n",
    "# YOUR CODE HERE\n",
    "\n",
    "df_crypto=df_crypto[df_crypto['IsTrading'] == True]\n",
    "df_crypto.head()"
   ]
  },
  {
   "cell_type": "code",
   "execution_count": 6,
   "metadata": {},
   "outputs": [
    {
     "data": {
      "text/html": [
       "<div>\n",
       "<style scoped>\n",
       "    .dataframe tbody tr th:only-of-type {\n",
       "        vertical-align: middle;\n",
       "    }\n",
       "\n",
       "    .dataframe tbody tr th {\n",
       "        vertical-align: top;\n",
       "    }\n",
       "\n",
       "    .dataframe thead th {\n",
       "        text-align: right;\n",
       "    }\n",
       "</style>\n",
       "<table border=\"1\" class=\"dataframe\">\n",
       "  <thead>\n",
       "    <tr style=\"text-align: right;\">\n",
       "      <th></th>\n",
       "      <th>CoinName</th>\n",
       "      <th>Algorithm</th>\n",
       "      <th>ProofType</th>\n",
       "      <th>TotalCoinsMined</th>\n",
       "      <th>TotalCoinSupply</th>\n",
       "    </tr>\n",
       "  </thead>\n",
       "  <tbody>\n",
       "    <tr>\n",
       "      <th>42</th>\n",
       "      <td>42 Coin</td>\n",
       "      <td>Scrypt</td>\n",
       "      <td>PoW/PoS</td>\n",
       "      <td>4.199995e+01</td>\n",
       "      <td>42</td>\n",
       "    </tr>\n",
       "    <tr>\n",
       "      <th>365</th>\n",
       "      <td>365Coin</td>\n",
       "      <td>X11</td>\n",
       "      <td>PoW/PoS</td>\n",
       "      <td>NaN</td>\n",
       "      <td>2300000000</td>\n",
       "    </tr>\n",
       "    <tr>\n",
       "      <th>404</th>\n",
       "      <td>404Coin</td>\n",
       "      <td>Scrypt</td>\n",
       "      <td>PoW/PoS</td>\n",
       "      <td>1.055185e+09</td>\n",
       "      <td>532000000</td>\n",
       "    </tr>\n",
       "    <tr>\n",
       "      <th>611</th>\n",
       "      <td>SixEleven</td>\n",
       "      <td>SHA-256</td>\n",
       "      <td>PoW</td>\n",
       "      <td>NaN</td>\n",
       "      <td>611000</td>\n",
       "    </tr>\n",
       "    <tr>\n",
       "      <th>808</th>\n",
       "      <td>808</td>\n",
       "      <td>SHA-256</td>\n",
       "      <td>PoW/PoS</td>\n",
       "      <td>0.000000e+00</td>\n",
       "      <td>0</td>\n",
       "    </tr>\n",
       "  </tbody>\n",
       "</table>\n",
       "</div>"
      ],
      "text/plain": [
       "      CoinName Algorithm ProofType  TotalCoinsMined TotalCoinSupply\n",
       "42     42 Coin    Scrypt   PoW/PoS     4.199995e+01              42\n",
       "365    365Coin       X11   PoW/PoS              NaN      2300000000\n",
       "404    404Coin    Scrypt   PoW/PoS     1.055185e+09       532000000\n",
       "611  SixEleven   SHA-256       PoW              NaN          611000\n",
       "808        808   SHA-256   PoW/PoS     0.000000e+00               0"
      ]
     },
     "execution_count": 6,
     "metadata": {},
     "output_type": "execute_result"
    }
   ],
   "source": [
    "# Remove the \"IsTrading\" column. \n",
    "\n",
    "df_crypto.drop(columns=[\"IsTrading\"], inplace = True)\n",
    "df_crypto.head()"
   ]
  },
  {
   "cell_type": "code",
   "execution_count": 23,
   "metadata": {},
   "outputs": [
    {
     "name": "stdout",
     "output_type": "stream",
     "text": [
      "Column CoinName has 0\n",
      "Column Algorithm has 0\n",
      "Column ProofType has 0\n",
      "Column TotalCoinsMined has 459\n",
      "Column TotalCoinSupply has 0\n"
     ]
    }
   ],
   "source": [
    "# Remove rows that have at least 1 null value.\n",
    "# YOUR CODE HERE\n",
    "# find null values\n",
    "for column in df_crypto.columns:\n",
    "    print(f\"Column {column} has {df_crypto[column].isnull().sum()}\")\n",
    "#    print(f\"Column {column} has {df_crypto[column].isnull().sum()})"
   ]
  },
  {
   "cell_type": "code",
   "execution_count": 24,
   "metadata": {},
   "outputs": [],
   "source": [
    "#drop the null rows\n",
    "df_crypto=df_crypto.dropna()"
   ]
  },
  {
   "cell_type": "code",
   "execution_count": 25,
   "metadata": {},
   "outputs": [
    {
     "data": {
      "text/html": [
       "<div>\n",
       "<style scoped>\n",
       "    .dataframe tbody tr th:only-of-type {\n",
       "        vertical-align: middle;\n",
       "    }\n",
       "\n",
       "    .dataframe tbody tr th {\n",
       "        vertical-align: top;\n",
       "    }\n",
       "\n",
       "    .dataframe thead th {\n",
       "        text-align: right;\n",
       "    }\n",
       "</style>\n",
       "<table border=\"1\" class=\"dataframe\">\n",
       "  <thead>\n",
       "    <tr style=\"text-align: right;\">\n",
       "      <th></th>\n",
       "      <th>CoinName</th>\n",
       "      <th>Algorithm</th>\n",
       "      <th>ProofType</th>\n",
       "      <th>TotalCoinsMined</th>\n",
       "      <th>TotalCoinSupply</th>\n",
       "    </tr>\n",
       "  </thead>\n",
       "  <tbody>\n",
       "    <tr>\n",
       "      <th>42</th>\n",
       "      <td>42 Coin</td>\n",
       "      <td>Scrypt</td>\n",
       "      <td>PoW/PoS</td>\n",
       "      <td>4.199995e+01</td>\n",
       "      <td>42</td>\n",
       "    </tr>\n",
       "    <tr>\n",
       "      <th>404</th>\n",
       "      <td>404Coin</td>\n",
       "      <td>Scrypt</td>\n",
       "      <td>PoW/PoS</td>\n",
       "      <td>1.055185e+09</td>\n",
       "      <td>532000000</td>\n",
       "    </tr>\n",
       "    <tr>\n",
       "      <th>1337</th>\n",
       "      <td>EliteCoin</td>\n",
       "      <td>X13</td>\n",
       "      <td>PoW/PoS</td>\n",
       "      <td>2.927942e+10</td>\n",
       "      <td>314159265359</td>\n",
       "    </tr>\n",
       "    <tr>\n",
       "      <th>BTC</th>\n",
       "      <td>Bitcoin</td>\n",
       "      <td>SHA-256</td>\n",
       "      <td>PoW</td>\n",
       "      <td>1.792718e+07</td>\n",
       "      <td>21000000</td>\n",
       "    </tr>\n",
       "    <tr>\n",
       "      <th>ETH</th>\n",
       "      <td>Ethereum</td>\n",
       "      <td>Ethash</td>\n",
       "      <td>PoW</td>\n",
       "      <td>1.076842e+08</td>\n",
       "      <td>0</td>\n",
       "    </tr>\n",
       "    <tr>\n",
       "      <th>...</th>\n",
       "      <td>...</td>\n",
       "      <td>...</td>\n",
       "      <td>...</td>\n",
       "      <td>...</td>\n",
       "      <td>...</td>\n",
       "    </tr>\n",
       "    <tr>\n",
       "      <th>ZEPH</th>\n",
       "      <td>ZEPHYR</td>\n",
       "      <td>SHA-256</td>\n",
       "      <td>DPoS</td>\n",
       "      <td>2.000000e+09</td>\n",
       "      <td>2000000000</td>\n",
       "    </tr>\n",
       "    <tr>\n",
       "      <th>GAP</th>\n",
       "      <td>Gapcoin</td>\n",
       "      <td>Scrypt</td>\n",
       "      <td>PoW/PoS</td>\n",
       "      <td>1.493105e+07</td>\n",
       "      <td>250000000</td>\n",
       "    </tr>\n",
       "    <tr>\n",
       "      <th>BDX</th>\n",
       "      <td>Beldex</td>\n",
       "      <td>CryptoNight</td>\n",
       "      <td>PoW</td>\n",
       "      <td>9.802226e+08</td>\n",
       "      <td>1400222610</td>\n",
       "    </tr>\n",
       "    <tr>\n",
       "      <th>ZEN</th>\n",
       "      <td>Horizen</td>\n",
       "      <td>Equihash</td>\n",
       "      <td>PoW</td>\n",
       "      <td>7.296538e+06</td>\n",
       "      <td>21000000</td>\n",
       "    </tr>\n",
       "    <tr>\n",
       "      <th>XBC</th>\n",
       "      <td>BitcoinPlus</td>\n",
       "      <td>Scrypt</td>\n",
       "      <td>PoS</td>\n",
       "      <td>1.283270e+05</td>\n",
       "      <td>1000000</td>\n",
       "    </tr>\n",
       "  </tbody>\n",
       "</table>\n",
       "<p>532 rows × 5 columns</p>\n",
       "</div>"
      ],
      "text/plain": [
       "         CoinName    Algorithm ProofType  TotalCoinsMined TotalCoinSupply\n",
       "42        42 Coin       Scrypt   PoW/PoS     4.199995e+01              42\n",
       "404       404Coin       Scrypt   PoW/PoS     1.055185e+09       532000000\n",
       "1337    EliteCoin          X13   PoW/PoS     2.927942e+10    314159265359\n",
       "BTC       Bitcoin      SHA-256       PoW     1.792718e+07        21000000\n",
       "ETH      Ethereum       Ethash       PoW     1.076842e+08               0\n",
       "...           ...          ...       ...              ...             ...\n",
       "ZEPH       ZEPHYR      SHA-256      DPoS     2.000000e+09      2000000000\n",
       "GAP       Gapcoin       Scrypt   PoW/PoS     1.493105e+07       250000000\n",
       "BDX        Beldex  CryptoNight       PoW     9.802226e+08      1400222610\n",
       "ZEN       Horizen     Equihash       PoW     7.296538e+06        21000000\n",
       "XBC   BitcoinPlus       Scrypt       PoS     1.283270e+05         1000000\n",
       "\n",
       "[532 rows x 5 columns]"
      ]
     },
     "execution_count": 25,
     "metadata": {},
     "output_type": "execute_result"
    }
   ],
   "source": [
    "# Keep the rows where coins are mined.\n",
    "# YOUR CODE HERE \n",
    "#same as null coins mines....\n",
    "df_crypto = df_crypto[df_crypto['TotalCoinsMined'] > 0]\n",
    "df_crypto"
   ]
  },
  {
   "cell_type": "code",
   "execution_count": 26,
   "metadata": {},
   "outputs": [
    {
     "data": {
      "text/html": [
       "<div>\n",
       "<style scoped>\n",
       "    .dataframe tbody tr th:only-of-type {\n",
       "        vertical-align: middle;\n",
       "    }\n",
       "\n",
       "    .dataframe tbody tr th {\n",
       "        vertical-align: top;\n",
       "    }\n",
       "\n",
       "    .dataframe thead th {\n",
       "        text-align: right;\n",
       "    }\n",
       "</style>\n",
       "<table border=\"1\" class=\"dataframe\">\n",
       "  <thead>\n",
       "    <tr style=\"text-align: right;\">\n",
       "      <th></th>\n",
       "      <th>CoinName</th>\n",
       "    </tr>\n",
       "  </thead>\n",
       "  <tbody>\n",
       "    <tr>\n",
       "      <th>42</th>\n",
       "      <td>42 Coin</td>\n",
       "    </tr>\n",
       "    <tr>\n",
       "      <th>404</th>\n",
       "      <td>404Coin</td>\n",
       "    </tr>\n",
       "    <tr>\n",
       "      <th>1337</th>\n",
       "      <td>EliteCoin</td>\n",
       "    </tr>\n",
       "    <tr>\n",
       "      <th>BTC</th>\n",
       "      <td>Bitcoin</td>\n",
       "    </tr>\n",
       "    <tr>\n",
       "      <th>ETH</th>\n",
       "      <td>Ethereum</td>\n",
       "    </tr>\n",
       "  </tbody>\n",
       "</table>\n",
       "</div>"
      ],
      "text/plain": [
       "       CoinName\n",
       "42      42 Coin\n",
       "404     404Coin\n",
       "1337  EliteCoin\n",
       "BTC     Bitcoin\n",
       "ETH    Ethereum"
      ]
     },
     "execution_count": 26,
     "metadata": {},
     "output_type": "execute_result"
    }
   ],
   "source": [
    "# Create a new DataFrame that holds only the cryptocurrencies names.\n",
    "# YOUR CODE HERE\n",
    "df_coinname = pd.DataFrame(df_crypto['CoinName'])\n",
    "df_coinname.head()\n"
   ]
  },
  {
   "cell_type": "code",
   "execution_count": 27,
   "metadata": {},
   "outputs": [
    {
     "data": {
      "text/html": [
       "<div>\n",
       "<style scoped>\n",
       "    .dataframe tbody tr th:only-of-type {\n",
       "        vertical-align: middle;\n",
       "    }\n",
       "\n",
       "    .dataframe tbody tr th {\n",
       "        vertical-align: top;\n",
       "    }\n",
       "\n",
       "    .dataframe thead th {\n",
       "        text-align: right;\n",
       "    }\n",
       "</style>\n",
       "<table border=\"1\" class=\"dataframe\">\n",
       "  <thead>\n",
       "    <tr style=\"text-align: right;\">\n",
       "      <th></th>\n",
       "      <th>Algorithm</th>\n",
       "      <th>ProofType</th>\n",
       "      <th>TotalCoinsMined</th>\n",
       "      <th>TotalCoinSupply</th>\n",
       "    </tr>\n",
       "  </thead>\n",
       "  <tbody>\n",
       "    <tr>\n",
       "      <th>42</th>\n",
       "      <td>Scrypt</td>\n",
       "      <td>PoW/PoS</td>\n",
       "      <td>4.199995e+01</td>\n",
       "      <td>42</td>\n",
       "    </tr>\n",
       "    <tr>\n",
       "      <th>404</th>\n",
       "      <td>Scrypt</td>\n",
       "      <td>PoW/PoS</td>\n",
       "      <td>1.055185e+09</td>\n",
       "      <td>532000000</td>\n",
       "    </tr>\n",
       "    <tr>\n",
       "      <th>1337</th>\n",
       "      <td>X13</td>\n",
       "      <td>PoW/PoS</td>\n",
       "      <td>2.927942e+10</td>\n",
       "      <td>314159265359</td>\n",
       "    </tr>\n",
       "    <tr>\n",
       "      <th>BTC</th>\n",
       "      <td>SHA-256</td>\n",
       "      <td>PoW</td>\n",
       "      <td>1.792718e+07</td>\n",
       "      <td>21000000</td>\n",
       "    </tr>\n",
       "    <tr>\n",
       "      <th>ETH</th>\n",
       "      <td>Ethash</td>\n",
       "      <td>PoW</td>\n",
       "      <td>1.076842e+08</td>\n",
       "      <td>0</td>\n",
       "    </tr>\n",
       "  </tbody>\n",
       "</table>\n",
       "</div>"
      ],
      "text/plain": [
       "     Algorithm ProofType  TotalCoinsMined TotalCoinSupply\n",
       "42      Scrypt   PoW/PoS     4.199995e+01              42\n",
       "404     Scrypt   PoW/PoS     1.055185e+09       532000000\n",
       "1337       X13   PoW/PoS     2.927942e+10    314159265359\n",
       "BTC    SHA-256       PoW     1.792718e+07        21000000\n",
       "ETH     Ethash       PoW     1.076842e+08               0"
      ]
     },
     "execution_count": 27,
     "metadata": {},
     "output_type": "execute_result"
    }
   ],
   "source": [
    "# Drop the 'CoinName' column since it's not going to be used on the clustering algorithm.\n",
    "# YOUR CODE HERE\n",
    "\n",
    "df_crypto.drop(columns=[\"CoinName\"], inplace=True)\n",
    "df_crypto.head()"
   ]
  },
  {
   "cell_type": "code",
   "execution_count": 28,
   "metadata": {},
   "outputs": [],
   "source": [
    "# Use get_dummies() to create variables for text features.\n",
    "# YOUR CODE HERE\n",
    "X = pd.get_dummies(df_crypto, columns=[\"Algorithm\",\"ProofType\"])"
   ]
  },
  {
   "cell_type": "code",
   "execution_count": 29,
   "metadata": {},
   "outputs": [
    {
     "data": {
      "text/html": [
       "<div>\n",
       "<style scoped>\n",
       "    .dataframe tbody tr th:only-of-type {\n",
       "        vertical-align: middle;\n",
       "    }\n",
       "\n",
       "    .dataframe tbody tr th {\n",
       "        vertical-align: top;\n",
       "    }\n",
       "\n",
       "    .dataframe thead th {\n",
       "        text-align: right;\n",
       "    }\n",
       "</style>\n",
       "<table border=\"1\" class=\"dataframe\">\n",
       "  <thead>\n",
       "    <tr style=\"text-align: right;\">\n",
       "      <th></th>\n",
       "      <th>TotalCoinsMined</th>\n",
       "      <th>TotalCoinSupply</th>\n",
       "      <th>Algorithm_1GB AES Pattern Search</th>\n",
       "      <th>Algorithm_536</th>\n",
       "      <th>Algorithm_Argon2d</th>\n",
       "      <th>Algorithm_BLAKE256</th>\n",
       "      <th>Algorithm_Blake</th>\n",
       "      <th>Algorithm_Blake2S</th>\n",
       "      <th>Algorithm_Blake2b</th>\n",
       "      <th>Algorithm_C11</th>\n",
       "      <th>...</th>\n",
       "      <th>ProofType_PoW/PoS</th>\n",
       "      <th>ProofType_PoW/PoS</th>\n",
       "      <th>ProofType_PoW/PoW</th>\n",
       "      <th>ProofType_PoW/nPoS</th>\n",
       "      <th>ProofType_Pos</th>\n",
       "      <th>ProofType_Proof of Authority</th>\n",
       "      <th>ProofType_Proof of Trust</th>\n",
       "      <th>ProofType_TPoS</th>\n",
       "      <th>ProofType_Zero-Knowledge Proof</th>\n",
       "      <th>ProofType_dPoW/PoW</th>\n",
       "    </tr>\n",
       "  </thead>\n",
       "  <tbody>\n",
       "    <tr>\n",
       "      <th>42</th>\n",
       "      <td>4.199995e+01</td>\n",
       "      <td>42</td>\n",
       "      <td>0</td>\n",
       "      <td>0</td>\n",
       "      <td>0</td>\n",
       "      <td>0</td>\n",
       "      <td>0</td>\n",
       "      <td>0</td>\n",
       "      <td>0</td>\n",
       "      <td>0</td>\n",
       "      <td>...</td>\n",
       "      <td>1</td>\n",
       "      <td>0</td>\n",
       "      <td>0</td>\n",
       "      <td>0</td>\n",
       "      <td>0</td>\n",
       "      <td>0</td>\n",
       "      <td>0</td>\n",
       "      <td>0</td>\n",
       "      <td>0</td>\n",
       "      <td>0</td>\n",
       "    </tr>\n",
       "    <tr>\n",
       "      <th>404</th>\n",
       "      <td>1.055185e+09</td>\n",
       "      <td>532000000</td>\n",
       "      <td>0</td>\n",
       "      <td>0</td>\n",
       "      <td>0</td>\n",
       "      <td>0</td>\n",
       "      <td>0</td>\n",
       "      <td>0</td>\n",
       "      <td>0</td>\n",
       "      <td>0</td>\n",
       "      <td>...</td>\n",
       "      <td>1</td>\n",
       "      <td>0</td>\n",
       "      <td>0</td>\n",
       "      <td>0</td>\n",
       "      <td>0</td>\n",
       "      <td>0</td>\n",
       "      <td>0</td>\n",
       "      <td>0</td>\n",
       "      <td>0</td>\n",
       "      <td>0</td>\n",
       "    </tr>\n",
       "    <tr>\n",
       "      <th>1337</th>\n",
       "      <td>2.927942e+10</td>\n",
       "      <td>314159265359</td>\n",
       "      <td>0</td>\n",
       "      <td>0</td>\n",
       "      <td>0</td>\n",
       "      <td>0</td>\n",
       "      <td>0</td>\n",
       "      <td>0</td>\n",
       "      <td>0</td>\n",
       "      <td>0</td>\n",
       "      <td>...</td>\n",
       "      <td>1</td>\n",
       "      <td>0</td>\n",
       "      <td>0</td>\n",
       "      <td>0</td>\n",
       "      <td>0</td>\n",
       "      <td>0</td>\n",
       "      <td>0</td>\n",
       "      <td>0</td>\n",
       "      <td>0</td>\n",
       "      <td>0</td>\n",
       "    </tr>\n",
       "    <tr>\n",
       "      <th>BTC</th>\n",
       "      <td>1.792718e+07</td>\n",
       "      <td>21000000</td>\n",
       "      <td>0</td>\n",
       "      <td>0</td>\n",
       "      <td>0</td>\n",
       "      <td>0</td>\n",
       "      <td>0</td>\n",
       "      <td>0</td>\n",
       "      <td>0</td>\n",
       "      <td>0</td>\n",
       "      <td>...</td>\n",
       "      <td>0</td>\n",
       "      <td>0</td>\n",
       "      <td>0</td>\n",
       "      <td>0</td>\n",
       "      <td>0</td>\n",
       "      <td>0</td>\n",
       "      <td>0</td>\n",
       "      <td>0</td>\n",
       "      <td>0</td>\n",
       "      <td>0</td>\n",
       "    </tr>\n",
       "    <tr>\n",
       "      <th>ETH</th>\n",
       "      <td>1.076842e+08</td>\n",
       "      <td>0</td>\n",
       "      <td>0</td>\n",
       "      <td>0</td>\n",
       "      <td>0</td>\n",
       "      <td>0</td>\n",
       "      <td>0</td>\n",
       "      <td>0</td>\n",
       "      <td>0</td>\n",
       "      <td>0</td>\n",
       "      <td>...</td>\n",
       "      <td>0</td>\n",
       "      <td>0</td>\n",
       "      <td>0</td>\n",
       "      <td>0</td>\n",
       "      <td>0</td>\n",
       "      <td>0</td>\n",
       "      <td>0</td>\n",
       "      <td>0</td>\n",
       "      <td>0</td>\n",
       "      <td>0</td>\n",
       "    </tr>\n",
       "  </tbody>\n",
       "</table>\n",
       "<p>5 rows × 98 columns</p>\n",
       "</div>"
      ],
      "text/plain": [
       "      TotalCoinsMined TotalCoinSupply  Algorithm_1GB AES Pattern Search  \\\n",
       "42       4.199995e+01              42                                 0   \n",
       "404      1.055185e+09       532000000                                 0   \n",
       "1337     2.927942e+10    314159265359                                 0   \n",
       "BTC      1.792718e+07        21000000                                 0   \n",
       "ETH      1.076842e+08               0                                 0   \n",
       "\n",
       "      Algorithm_536  Algorithm_Argon2d  Algorithm_BLAKE256  Algorithm_Blake  \\\n",
       "42                0                  0                   0                0   \n",
       "404               0                  0                   0                0   \n",
       "1337              0                  0                   0                0   \n",
       "BTC               0                  0                   0                0   \n",
       "ETH               0                  0                   0                0   \n",
       "\n",
       "      Algorithm_Blake2S  Algorithm_Blake2b  Algorithm_C11  ...  \\\n",
       "42                    0                  0              0  ...   \n",
       "404                   0                  0              0  ...   \n",
       "1337                  0                  0              0  ...   \n",
       "BTC                   0                  0              0  ...   \n",
       "ETH                   0                  0              0  ...   \n",
       "\n",
       "      ProofType_PoW/PoS  ProofType_PoW/PoS   ProofType_PoW/PoW  \\\n",
       "42                    1                   0                  0   \n",
       "404                   1                   0                  0   \n",
       "1337                  1                   0                  0   \n",
       "BTC                   0                   0                  0   \n",
       "ETH                   0                   0                  0   \n",
       "\n",
       "      ProofType_PoW/nPoS  ProofType_Pos  ProofType_Proof of Authority  \\\n",
       "42                     0              0                             0   \n",
       "404                    0              0                             0   \n",
       "1337                   0              0                             0   \n",
       "BTC                    0              0                             0   \n",
       "ETH                    0              0                             0   \n",
       "\n",
       "      ProofType_Proof of Trust  ProofType_TPoS  \\\n",
       "42                           0               0   \n",
       "404                          0               0   \n",
       "1337                         0               0   \n",
       "BTC                          0               0   \n",
       "ETH                          0               0   \n",
       "\n",
       "      ProofType_Zero-Knowledge Proof  ProofType_dPoW/PoW  \n",
       "42                                 0                   0  \n",
       "404                                0                   0  \n",
       "1337                               0                   0  \n",
       "BTC                                0                   0  \n",
       "ETH                                0                   0  \n",
       "\n",
       "[5 rows x 98 columns]"
      ]
     },
     "execution_count": 29,
     "metadata": {},
     "output_type": "execute_result"
    }
   ],
   "source": [
    "X.head(5)"
   ]
  },
  {
   "cell_type": "code",
   "execution_count": 30,
   "metadata": {},
   "outputs": [
    {
     "data": {
      "text/plain": [
       "array([[-0.11710817, -0.1528703 , -0.0433963 , ..., -0.0433963 ,\n",
       "        -0.0433963 , -0.0433963 ],\n",
       "       [-0.09396955, -0.145009  , -0.0433963 , ..., -0.0433963 ,\n",
       "        -0.0433963 , -0.0433963 ],\n",
       "       [ 0.52494561,  4.48942416, -0.0433963 , ..., -0.0433963 ,\n",
       "        -0.0433963 , -0.0433963 ],\n",
       "       ...,\n",
       "       [-0.09561336, -0.13217937, -0.0433963 , ..., -0.0433963 ,\n",
       "        -0.0433963 , -0.0433963 ],\n",
       "       [-0.11694817, -0.15255998, -0.0433963 , ..., -0.0433963 ,\n",
       "        -0.0433963 , -0.0433963 ],\n",
       "       [-0.11710536, -0.15285552, -0.0433963 , ..., -0.0433963 ,\n",
       "        -0.0433963 , -0.0433963 ]])"
      ]
     },
     "execution_count": 30,
     "metadata": {},
     "output_type": "execute_result"
    }
   ],
   "source": [
    "# Standardize the data with StandardScaler().\n",
    "# YOUR CODE HERE\n",
    "\n",
    "scaler = StandardScaler()\n",
    "X_scaled = scaler.fit_transform(X)\n",
    "X_scaled\n"
   ]
  },
  {
   "cell_type": "markdown",
   "metadata": {},
   "source": [
    "### Deliverable 2: Reducing Data Dimensions Using PCA"
   ]
  },
  {
   "cell_type": "code",
   "execution_count": 31,
   "metadata": {},
   "outputs": [
    {
     "data": {
      "text/plain": [
       "array([[-0.35383495,  0.82914003, -0.57623705],\n",
       "       [-0.33721182,  0.82899827, -0.57665604],\n",
       "       [ 2.31116262,  1.59669161, -0.66610423],\n",
       "       ...,\n",
       "       [ 0.34880509, -2.09203238,  0.49410184],\n",
       "       [-0.14088282, -2.0979725 ,  0.41318701],\n",
       "       [-0.30997481,  0.67307747, -0.30057789]])"
      ]
     },
     "execution_count": 31,
     "metadata": {},
     "output_type": "execute_result"
    }
   ],
   "source": [
    "# Using PCA to reduce dimension to three principal components.\n",
    "# YOUR CODE HERE\n",
    "# Initialize PCA model\n",
    "pca = PCA(n_components=3)\n",
    "\n",
    "# Get three principal components for the crypto data.\n",
    "crypto_pca = pca.fit_transform(X_scaled)\n",
    "crypto_pca"
   ]
  },
  {
   "cell_type": "code",
   "execution_count": 33,
   "metadata": {},
   "outputs": [
    {
     "data": {
      "text/html": [
       "<div>\n",
       "<style scoped>\n",
       "    .dataframe tbody tr th:only-of-type {\n",
       "        vertical-align: middle;\n",
       "    }\n",
       "\n",
       "    .dataframe tbody tr th {\n",
       "        vertical-align: top;\n",
       "    }\n",
       "\n",
       "    .dataframe thead th {\n",
       "        text-align: right;\n",
       "    }\n",
       "</style>\n",
       "<table border=\"1\" class=\"dataframe\">\n",
       "  <thead>\n",
       "    <tr style=\"text-align: right;\">\n",
       "      <th></th>\n",
       "      <th>PrincipleComponent1</th>\n",
       "      <th>PrincipleComponent2</th>\n",
       "      <th>PrincipleComponent3</th>\n",
       "    </tr>\n",
       "  </thead>\n",
       "  <tbody>\n",
       "    <tr>\n",
       "      <th>42</th>\n",
       "      <td>-0.353835</td>\n",
       "      <td>0.829140</td>\n",
       "      <td>-0.576237</td>\n",
       "    </tr>\n",
       "    <tr>\n",
       "      <th>404</th>\n",
       "      <td>-0.337212</td>\n",
       "      <td>0.828998</td>\n",
       "      <td>-0.576656</td>\n",
       "    </tr>\n",
       "    <tr>\n",
       "      <th>1337</th>\n",
       "      <td>2.311163</td>\n",
       "      <td>1.596692</td>\n",
       "      <td>-0.666104</td>\n",
       "    </tr>\n",
       "    <tr>\n",
       "      <th>BTC</th>\n",
       "      <td>-0.120602</td>\n",
       "      <td>-1.178107</td>\n",
       "      <td>0.256766</td>\n",
       "    </tr>\n",
       "    <tr>\n",
       "      <th>ETH</th>\n",
       "      <td>-0.127822</td>\n",
       "      <td>-1.812884</td>\n",
       "      <td>0.420230</td>\n",
       "    </tr>\n",
       "    <tr>\n",
       "      <th>...</th>\n",
       "      <td>...</td>\n",
       "      <td>...</td>\n",
       "      <td>...</td>\n",
       "    </tr>\n",
       "    <tr>\n",
       "      <th>ZEPH</th>\n",
       "      <td>2.505419</td>\n",
       "      <td>1.125772</td>\n",
       "      <td>-0.255151</td>\n",
       "    </tr>\n",
       "    <tr>\n",
       "      <th>GAP</th>\n",
       "      <td>-0.351883</td>\n",
       "      <td>0.829006</td>\n",
       "      <td>-0.576253</td>\n",
       "    </tr>\n",
       "    <tr>\n",
       "      <th>BDX</th>\n",
       "      <td>0.348805</td>\n",
       "      <td>-2.092032</td>\n",
       "      <td>0.494102</td>\n",
       "    </tr>\n",
       "    <tr>\n",
       "      <th>ZEN</th>\n",
       "      <td>-0.140883</td>\n",
       "      <td>-2.097973</td>\n",
       "      <td>0.413187</td>\n",
       "    </tr>\n",
       "    <tr>\n",
       "      <th>XBC</th>\n",
       "      <td>-0.309975</td>\n",
       "      <td>0.673077</td>\n",
       "      <td>-0.300578</td>\n",
       "    </tr>\n",
       "  </tbody>\n",
       "</table>\n",
       "<p>532 rows × 3 columns</p>\n",
       "</div>"
      ],
      "text/plain": [
       "      PrincipleComponent1  PrincipleComponent2  PrincipleComponent3\n",
       "42              -0.353835             0.829140            -0.576237\n",
       "404             -0.337212             0.828998            -0.576656\n",
       "1337             2.311163             1.596692            -0.666104\n",
       "BTC             -0.120602            -1.178107             0.256766\n",
       "ETH             -0.127822            -1.812884             0.420230\n",
       "...                   ...                  ...                  ...\n",
       "ZEPH             2.505419             1.125772            -0.255151\n",
       "GAP             -0.351883             0.829006            -0.576253\n",
       "BDX              0.348805            -2.092032             0.494102\n",
       "ZEN             -0.140883            -2.097973             0.413187\n",
       "XBC             -0.309975             0.673077            -0.300578\n",
       "\n",
       "[532 rows x 3 columns]"
      ]
     },
     "execution_count": 33,
     "metadata": {},
     "output_type": "execute_result"
    }
   ],
   "source": [
    "# Create a DataFrame with the three principal components.\n",
    "# YOUR CODE HERE\n",
    "\n",
    "pcs_df = pd.DataFrame(crypto_pca, columns=['PrincipleComponent1', 'PrincipleComponent2', 'PrincipleComponent3'], index=df_crypto.index)\n",
    "pcs_df"
   ]
  },
  {
   "cell_type": "markdown",
   "metadata": {},
   "source": [
    "### Deliverable 3: Clustering Crytocurrencies Using K-Means\n",
    "\n",
    "#### Finding the Best Value for `k` Using the Elbow Curve"
   ]
  },
  {
   "cell_type": "code",
   "execution_count": 38,
   "metadata": {},
   "outputs": [
    {
     "name": "stderr",
     "output_type": "stream",
     "text": [
      "C:\\Users\\Range\\anaconda3\\envs\\PythonData\\envs\\mlenv\\lib\\site-packages\\sklearn\\cluster\\_kmeans.py:1037: UserWarning: KMeans is known to have a memory leak on Windows with MKL, when there are less chunks than available threads. You can avoid it by setting the environment variable OMP_NUM_THREADS=3.\n",
      "  \"KMeans is known to have a memory leak on Windows \"\n"
     ]
    },
    {
     "data": {},
     "metadata": {},
     "output_type": "display_data"
    },
    {
     "data": {
      "application/vnd.holoviews_exec.v0+json": "",
      "text/html": [
       "<div id='1002'>\n",
       "\n",
       "\n",
       "\n",
       "\n",
       "\n",
       "  <div class=\"bk-root\" id=\"b367d555-d1c2-4ac9-838f-d1231c715359\" data-root-id=\"1002\"></div>\n",
       "</div>\n",
       "<script type=\"application/javascript\">(function(root) {\n",
       "  function embed_document(root) {\n",
       "    var docs_json = {\"6679706c-5eb0-4745-bee2-5347d38ceb24\":{\"defs\":[{\"extends\":null,\"module\":null,\"name\":\"ReactiveHTML1\",\"overrides\":[],\"properties\":[]},{\"extends\":null,\"module\":null,\"name\":\"FlexBox1\",\"overrides\":[],\"properties\":[{\"default\":\"flex-start\",\"kind\":null,\"name\":\"align_content\"},{\"default\":\"flex-start\",\"kind\":null,\"name\":\"align_items\"},{\"default\":\"row\",\"kind\":null,\"name\":\"flex_direction\"},{\"default\":\"wrap\",\"kind\":null,\"name\":\"flex_wrap\"},{\"default\":\"flex-start\",\"kind\":null,\"name\":\"justify_content\"}]},{\"extends\":null,\"module\":null,\"name\":\"GridStack1\",\"overrides\":[],\"properties\":[{\"default\":\"warn\",\"kind\":null,\"name\":\"mode\"},{\"default\":null,\"kind\":null,\"name\":\"ncols\"},{\"default\":null,\"kind\":null,\"name\":\"nrows\"},{\"default\":true,\"kind\":null,\"name\":\"allow_resize\"},{\"default\":true,\"kind\":null,\"name\":\"allow_drag\"},{\"default\":[],\"kind\":null,\"name\":\"state\"}]},{\"extends\":null,\"module\":null,\"name\":\"click1\",\"overrides\":[],\"properties\":[{\"default\":\"\",\"kind\":null,\"name\":\"terminal_output\"},{\"default\":\"\",\"kind\":null,\"name\":\"debug_name\"},{\"default\":0,\"kind\":null,\"name\":\"clears\"}]},{\"extends\":null,\"module\":null,\"name\":\"TemplateActions1\",\"overrides\":[],\"properties\":[{\"default\":0,\"kind\":null,\"name\":\"open_modal\"},{\"default\":0,\"kind\":null,\"name\":\"close_modal\"}]},{\"extends\":null,\"module\":null,\"name\":\"MaterialTemplateActions1\",\"overrides\":[],\"properties\":[{\"default\":0,\"kind\":null,\"name\":\"open_modal\"},{\"default\":0,\"kind\":null,\"name\":\"close_modal\"}]}],\"roots\":{\"references\":[{\"attributes\":{\"axis\":{\"id\":\"1016\"},\"coordinates\":null,\"grid_line_color\":null,\"group\":null,\"ticker\":null},\"id\":\"1019\",\"type\":\"Grid\"},{\"attributes\":{\"source\":{\"id\":\"1037\"}},\"id\":\"1044\",\"type\":\"CDSView\"},{\"attributes\":{\"ticks\":[1,2,3,4,5,6,7,8,9,10]},\"id\":\"1046\",\"type\":\"FixedTicker\"},{\"attributes\":{},\"id\":\"1012\",\"type\":\"LinearScale\"},{\"attributes\":{},\"id\":\"1024\",\"type\":\"SaveTool\"},{\"attributes\":{\"line_alpha\":0.2,\"line_color\":\"#30a2da\",\"line_width\":2,\"x\":{\"field\":\"k\"},\"y\":{\"field\":\"inertia\"}},\"id\":\"1042\",\"type\":\"Line\"},{\"attributes\":{},\"id\":\"1025\",\"type\":\"PanTool\"},{\"attributes\":{\"end\":3980.191467683054,\"reset_end\":3980.191467683054,\"reset_start\":-211.48610568920523,\"start\":-211.48610568920523,\"tags\":[[[\"inertia\",\"inertia\",null]]]},\"id\":\"1005\",\"type\":\"Range1d\"},{\"attributes\":{},\"id\":\"1028\",\"type\":\"ResetTool\"},{\"attributes\":{\"line_alpha\":0.1,\"line_color\":\"#30a2da\",\"line_width\":2,\"x\":{\"field\":\"k\"},\"y\":{\"field\":\"inertia\"}},\"id\":\"1041\",\"type\":\"Line\"},{\"attributes\":{},\"id\":\"1026\",\"type\":\"WheelZoomTool\"},{\"attributes\":{\"callback\":null,\"renderers\":[{\"id\":\"1043\"}],\"tags\":[\"hv_created\"],\"tooltips\":[[\"k\",\"@{k}\"],[\"inertia\",\"@{inertia}\"]]},\"id\":\"1006\",\"type\":\"HoverTool\"},{\"attributes\":{\"overlay\":{\"id\":\"1029\"}},\"id\":\"1027\",\"type\":\"BoxZoomTool\"},{\"attributes\":{},\"id\":\"1038\",\"type\":\"Selection\"},{\"attributes\":{\"coordinates\":null,\"data_source\":{\"id\":\"1037\"},\"glyph\":{\"id\":\"1040\"},\"group\":null,\"hover_glyph\":null,\"muted_glyph\":{\"id\":\"1042\"},\"nonselection_glyph\":{\"id\":\"1041\"},\"selection_glyph\":{\"id\":\"1045\"},\"view\":{\"id\":\"1044\"}},\"id\":\"1043\",\"type\":\"GlyphRenderer\"},{\"attributes\":{\"coordinates\":null,\"group\":null,\"text\":\"Elbow Curve\",\"text_color\":\"black\",\"text_font_size\":\"12pt\"},\"id\":\"1008\",\"type\":\"Title\"},{\"attributes\":{\"tools\":[{\"id\":\"1006\"},{\"id\":\"1024\"},{\"id\":\"1025\"},{\"id\":\"1026\"},{\"id\":\"1027\"},{\"id\":\"1028\"}]},\"id\":\"1030\",\"type\":\"Toolbar\"},{\"attributes\":{},\"id\":\"1014\",\"type\":\"LinearScale\"},{\"attributes\":{},\"id\":\"1061\",\"type\":\"UnionRenderers\"},{\"attributes\":{\"axis_label\":\"inertia\",\"coordinates\":null,\"formatter\":{\"id\":\"1053\"},\"group\":null,\"major_label_policy\":{\"id\":\"1054\"},\"ticker\":{\"id\":\"1021\"}},\"id\":\"1020\",\"type\":\"LinearAxis\"},{\"attributes\":{},\"id\":\"1054\",\"type\":\"AllLabels\"},{\"attributes\":{\"axis_label\":\"k\",\"coordinates\":null,\"formatter\":{\"id\":\"1048\"},\"group\":null,\"major_label_policy\":{\"id\":\"1049\"},\"ticker\":{\"id\":\"1046\"}},\"id\":\"1016\",\"type\":\"LinearAxis\"},{\"attributes\":{\"bottom_units\":\"screen\",\"coordinates\":null,\"fill_alpha\":0.5,\"fill_color\":\"lightgrey\",\"group\":null,\"left_units\":\"screen\",\"level\":\"overlay\",\"line_alpha\":1.0,\"line_color\":\"black\",\"line_dash\":[4,4],\"line_width\":2,\"right_units\":\"screen\",\"syncable\":false,\"top_units\":\"screen\"},\"id\":\"1029\",\"type\":\"BoxAnnotation\"},{\"attributes\":{},\"id\":\"1053\",\"type\":\"BasicTickFormatter\"},{\"attributes\":{\"below\":[{\"id\":\"1016\"}],\"center\":[{\"id\":\"1019\"},{\"id\":\"1023\"}],\"height\":300,\"left\":[{\"id\":\"1020\"}],\"margin\":[5,5,5,5],\"min_border_bottom\":10,\"min_border_left\":10,\"min_border_right\":10,\"min_border_top\":10,\"renderers\":[{\"id\":\"1043\"}],\"sizing_mode\":\"fixed\",\"title\":{\"id\":\"1008\"},\"toolbar\":{\"id\":\"1030\"},\"width\":700,\"x_range\":{\"id\":\"1004\"},\"x_scale\":{\"id\":\"1012\"},\"y_range\":{\"id\":\"1005\"},\"y_scale\":{\"id\":\"1014\"}},\"id\":\"1007\",\"subtype\":\"Figure\",\"type\":\"Plot\"},{\"attributes\":{\"axis\":{\"id\":\"1020\"},\"coordinates\":null,\"dimension\":1,\"grid_line_color\":null,\"group\":null,\"ticker\":null},\"id\":\"1023\",\"type\":\"Grid\"},{\"attributes\":{},\"id\":\"1049\",\"type\":\"AllLabels\"},{\"attributes\":{},\"id\":\"1048\",\"type\":\"BasicTickFormatter\"},{\"attributes\":{\"end\":10.0,\"reset_end\":10.0,\"reset_start\":1.0,\"start\":1.0,\"tags\":[[[\"k\",\"k\",null]]]},\"id\":\"1004\",\"type\":\"Range1d\"},{\"attributes\":{\"line_color\":\"#30a2da\",\"line_width\":2,\"x\":{\"field\":\"k\"},\"y\":{\"field\":\"inertia\"}},\"id\":\"1045\",\"type\":\"Line\"},{\"attributes\":{\"margin\":[5,5,5,5],\"name\":\"HSpacer01631\",\"sizing_mode\":\"stretch_width\"},\"id\":\"1003\",\"type\":\"Spacer\"},{\"attributes\":{},\"id\":\"1021\",\"type\":\"BasicTicker\"},{\"attributes\":{\"line_color\":\"#30a2da\",\"line_width\":2,\"x\":{\"field\":\"k\"},\"y\":{\"field\":\"inertia\"}},\"id\":\"1040\",\"type\":\"Line\"},{\"attributes\":{\"children\":[{\"id\":\"1003\"},{\"id\":\"1007\"},{\"id\":\"1073\"}],\"margin\":[0,0,0,0],\"name\":\"Row01627\",\"tags\":[\"embedded\"]},\"id\":\"1002\",\"type\":\"Row\"},{\"attributes\":{\"data\":{\"inertia\":{\"__ndarray__\":\"gOEkH8VdrEAhC1Np/EejQIY3bc6Zl5dAwbrJu7jSgkBIqB2t+SJ7QI5g9JvW3HRALhkeRTE7cUDPNxi/TwVsQD66dTFp3WZAgdUCYUA6YUA=\",\"dtype\":\"float64\",\"order\":\"little\",\"shape\":[10]},\"k\":[1,2,3,4,5,6,7,8,9,10]},\"selected\":{\"id\":\"1038\"},\"selection_policy\":{\"id\":\"1061\"}},\"id\":\"1037\",\"type\":\"ColumnDataSource\"},{\"attributes\":{\"margin\":[5,5,5,5],\"name\":\"HSpacer01632\",\"sizing_mode\":\"stretch_width\"},\"id\":\"1073\",\"type\":\"Spacer\"}],\"root_ids\":[\"1002\"]},\"title\":\"Bokeh Application\",\"version\":\"2.4.2\"}};\n",
       "    var render_items = [{\"docid\":\"6679706c-5eb0-4745-bee2-5347d38ceb24\",\"root_ids\":[\"1002\"],\"roots\":{\"1002\":\"b367d555-d1c2-4ac9-838f-d1231c715359\"}}];\n",
       "    root.Bokeh.embed.embed_items_notebook(docs_json, render_items);\n",
       "  }\n",
       "  if (root.Bokeh !== undefined && root.Bokeh.Panel !== undefined) {\n",
       "    embed_document(root);\n",
       "  } else {\n",
       "    var attempts = 0;\n",
       "    var timer = setInterval(function(root) {\n",
       "      if (root.Bokeh !== undefined && root.Bokeh.Panel !== undefined) {\n",
       "        clearInterval(timer);\n",
       "        embed_document(root);\n",
       "      } else if (document.readyState == \"complete\") {\n",
       "        attempts++;\n",
       "        if (attempts > 200) {\n",
       "          clearInterval(timer);\n",
       "          console.log(\"Bokeh: ERROR: Unable to run BokehJS code because BokehJS library is missing\");\n",
       "        }\n",
       "      }\n",
       "    }, 25, root)\n",
       "  }\n",
       "})(window);</script>"
      ],
      "text/plain": [
       ":Curve   [k]   (inertia)"
      ]
     },
     "execution_count": 38,
     "metadata": {
      "application/vnd.holoviews_exec.v0+json": {
       "id": "1002"
      }
     },
     "output_type": "execute_result"
    }
   ],
   "source": [
    "# Create an elbow curve to find the best value for K.\n",
    "# YOUR CODE HERE\n",
    "inertia = []\n",
    "k = list(range(1, 11))\n",
    "\n",
    "# Looking for the best K\n",
    "for i in k:\n",
    "    km = KMeans(n_clusters=i, random_state=0)\n",
    "    km.fit(pcs_df)\n",
    "    inertia.append(km.inertia_)\n",
    "    \n",
    "# Define a DataFrame to plot the Elbow Curve using hvPlot\n",
    "elbow_data = {\"k\": k, \"inertia\": inertia}\n",
    "df_elbow = pd.DataFrame(elbow_data)\n",
    "df_elbow.hvplot.line(x=\"k\", y=\"inertia\", title=\"Elbow Curve\", xticks=k)"
   ]
  },
  {
   "cell_type": "markdown",
   "metadata": {},
   "source": [
    "Running K-Means with `k=4`"
   ]
  },
  {
   "cell_type": "code",
   "execution_count": 42,
   "metadata": {},
   "outputs": [
    {
     "name": "stdout",
     "output_type": "stream",
     "text": [
      "[0 0 0 0 0 0 0 0 0 0 0 0 0 0 0 0 0 0 0 0 0 0 0 0 0 0 0 0 0 0 0 0 0 0 0 0 0\n",
      " 0 0 0 0 0 0 0 0 0 0 0 0 0 0 0 0 0 0 0 0 0 0 0 0 0 0 0 0 0 0 0 0 0 0 0 0 0\n",
      " 0 0 0 0 0 0 0 0 0 0 0 0 0 0 0 0 0 0 0 0 0 0 0 0 0 0 0 0 0 0 0 0 0 0 0 0 0\n",
      " 0 0 0 0 0 0 0 0 0 0 0 0 0 0 0 0 0 0 0 0 0 0 0 0 0 0 0 0 0 0 0 0 0 0 0 0 0\n",
      " 0 0 0 0 0 0 0 0 0 0 0 0 0 0 0 0 0 0 0 0 0 0 0 0 0 0 0 0 0 0 0 0 0 0 0 0 0\n",
      " 0 0 0 0 0 0 0 0 0 0 0 0 0 0 0 0 0 0 0 0 0 0 0 0 0 0 0 0 0 0 0 0 0 0 0 0 0\n",
      " 0 0 0 0 0 0 0 0 0 0 0 0 0 0 0 0 0 0 0 0 0 0 0 0 0 0 0 0 0 0 0 0 0 0 0 0 0\n",
      " 0 0 0 0 0 0 0 0 0 0 0 0 0 0 0 0 0 0 0 0 0 0 0 0 0 0 0 0 0 0 0 0 0 0 0 0 0\n",
      " 0 0 0 0 0 0 0 0 0 0 0 0 0 0 0 0 0 0 0 0 0 0 0 0 0 0 0 0 0 0 0 0 0 0 0 0 0\n",
      " 0 0 0 0 0 0 0 0 0 0 0 0 0 0 0 0 0 0 0 0 0 0 0 0 0 0 0 0 0 0 0 0 0 0 0 0 0\n",
      " 0 0 0 0 0 0 0 0 0 0 0 0 0 0 2 0 0 0 0 0 0 0 0 0 0 0 0 0 0 0 0 0 0 0 0 0 0\n",
      " 0 0 0 0 0 0 0 0 0 0 0 0 0 0 0 0 0 0 0 0 0 0 0 0 0 0 0 0 0 0 0 0 0 0 0 0 0\n",
      " 0 0 0 0 0 0 0 0 0 0 0 1 0 0 0 0 0 0 0 0 0 0 0 0 0 0 0 0 0 0 0 0 0 0 0 0 0\n",
      " 0 0 0 0 0 0 0 0 0 0 0 0 0 0 0 0 0 0 0 0 0 0 0 0 0 0 0 0 0 0 0 0 0 0 0 0 0\n",
      " 0 0 0 0 0 3 0 0 0 0 0 0 0 0]\n"
     ]
    }
   ],
   "source": [
    "# Initialize the K-Means model.\n",
    "# YOUR CODE HERE\n",
    "model=KMeans(n_clusters=4, random_state=5).fit(X_scaled)\n",
    "\n",
    "\n",
    "# Fit the model\n",
    "# YOUR CODE HERE\n",
    "\n",
    "#model.fit(pcs_df)\n",
    "\n",
    "# Predict clusters\n",
    "# YOUR CODE HERE\n",
    "\n",
    "predictions=model.predict(X_scaled)\n",
    "print(predictions)"
   ]
  },
  {
   "cell_type": "code",
   "execution_count": 43,
   "metadata": {},
   "outputs": [
    {
     "name": "stdout",
     "output_type": "stream",
     "text": [
      "(532, 9)\n"
     ]
    },
    {
     "data": {
      "text/html": [
       "<div>\n",
       "<style scoped>\n",
       "    .dataframe tbody tr th:only-of-type {\n",
       "        vertical-align: middle;\n",
       "    }\n",
       "\n",
       "    .dataframe tbody tr th {\n",
       "        vertical-align: top;\n",
       "    }\n",
       "\n",
       "    .dataframe thead th {\n",
       "        text-align: right;\n",
       "    }\n",
       "</style>\n",
       "<table border=\"1\" class=\"dataframe\">\n",
       "  <thead>\n",
       "    <tr style=\"text-align: right;\">\n",
       "      <th></th>\n",
       "      <th>Algorithm</th>\n",
       "      <th>ProofType</th>\n",
       "      <th>TotalCoinsMined</th>\n",
       "      <th>TotalCoinSupply</th>\n",
       "      <th>PrincipleComponent1</th>\n",
       "      <th>PrincipleComponent2</th>\n",
       "      <th>PrincipleComponent3</th>\n",
       "      <th>CoinName</th>\n",
       "      <th>Class</th>\n",
       "    </tr>\n",
       "  </thead>\n",
       "  <tbody>\n",
       "    <tr>\n",
       "      <th>42</th>\n",
       "      <td>Scrypt</td>\n",
       "      <td>PoW/PoS</td>\n",
       "      <td>4.199995e+01</td>\n",
       "      <td>42</td>\n",
       "      <td>-0.353835</td>\n",
       "      <td>0.829140</td>\n",
       "      <td>-0.576237</td>\n",
       "      <td>42 Coin</td>\n",
       "      <td>0</td>\n",
       "    </tr>\n",
       "    <tr>\n",
       "      <th>404</th>\n",
       "      <td>Scrypt</td>\n",
       "      <td>PoW/PoS</td>\n",
       "      <td>1.055185e+09</td>\n",
       "      <td>532000000</td>\n",
       "      <td>-0.337212</td>\n",
       "      <td>0.828998</td>\n",
       "      <td>-0.576656</td>\n",
       "      <td>404Coin</td>\n",
       "      <td>0</td>\n",
       "    </tr>\n",
       "    <tr>\n",
       "      <th>1337</th>\n",
       "      <td>X13</td>\n",
       "      <td>PoW/PoS</td>\n",
       "      <td>2.927942e+10</td>\n",
       "      <td>314159265359</td>\n",
       "      <td>2.311163</td>\n",
       "      <td>1.596692</td>\n",
       "      <td>-0.666104</td>\n",
       "      <td>EliteCoin</td>\n",
       "      <td>0</td>\n",
       "    </tr>\n",
       "    <tr>\n",
       "      <th>BTC</th>\n",
       "      <td>SHA-256</td>\n",
       "      <td>PoW</td>\n",
       "      <td>1.792718e+07</td>\n",
       "      <td>21000000</td>\n",
       "      <td>-0.120602</td>\n",
       "      <td>-1.178107</td>\n",
       "      <td>0.256766</td>\n",
       "      <td>Bitcoin</td>\n",
       "      <td>0</td>\n",
       "    </tr>\n",
       "    <tr>\n",
       "      <th>ETH</th>\n",
       "      <td>Ethash</td>\n",
       "      <td>PoW</td>\n",
       "      <td>1.076842e+08</td>\n",
       "      <td>0</td>\n",
       "      <td>-0.127822</td>\n",
       "      <td>-1.812884</td>\n",
       "      <td>0.420230</td>\n",
       "      <td>Ethereum</td>\n",
       "      <td>0</td>\n",
       "    </tr>\n",
       "    <tr>\n",
       "      <th>LTC</th>\n",
       "      <td>Scrypt</td>\n",
       "      <td>PoW</td>\n",
       "      <td>6.303924e+07</td>\n",
       "      <td>84000000</td>\n",
       "      <td>-0.172362</td>\n",
       "      <td>-1.183106</td>\n",
       "      <td>0.022692</td>\n",
       "      <td>Litecoin</td>\n",
       "      <td>0</td>\n",
       "    </tr>\n",
       "    <tr>\n",
       "      <th>DASH</th>\n",
       "      <td>X11</td>\n",
       "      <td>PoW/PoS</td>\n",
       "      <td>9.031294e+06</td>\n",
       "      <td>22000000</td>\n",
       "      <td>-0.395736</td>\n",
       "      <td>1.202856</td>\n",
       "      <td>-0.500546</td>\n",
       "      <td>Dash</td>\n",
       "      <td>0</td>\n",
       "    </tr>\n",
       "    <tr>\n",
       "      <th>XMR</th>\n",
       "      <td>CryptoNight-V7</td>\n",
       "      <td>PoW</td>\n",
       "      <td>1.720114e+07</td>\n",
       "      <td>0</td>\n",
       "      <td>-0.128521</td>\n",
       "      <td>-1.981653</td>\n",
       "      <td>0.475386</td>\n",
       "      <td>Monero</td>\n",
       "      <td>0</td>\n",
       "    </tr>\n",
       "    <tr>\n",
       "      <th>ETC</th>\n",
       "      <td>Ethash</td>\n",
       "      <td>PoW</td>\n",
       "      <td>1.133597e+08</td>\n",
       "      <td>210000000</td>\n",
       "      <td>-0.126266</td>\n",
       "      <td>-1.812997</td>\n",
       "      <td>0.420219</td>\n",
       "      <td>Ethereum Classic</td>\n",
       "      <td>0</td>\n",
       "    </tr>\n",
       "    <tr>\n",
       "      <th>ZEC</th>\n",
       "      <td>Equihash</td>\n",
       "      <td>PoW</td>\n",
       "      <td>7.383056e+06</td>\n",
       "      <td>21000000</td>\n",
       "      <td>-0.140882</td>\n",
       "      <td>-2.097972</td>\n",
       "      <td>0.413187</td>\n",
       "      <td>ZCash</td>\n",
       "      <td>0</td>\n",
       "    </tr>\n",
       "  </tbody>\n",
       "</table>\n",
       "</div>"
      ],
      "text/plain": [
       "           Algorithm ProofType  TotalCoinsMined TotalCoinSupply  \\\n",
       "42            Scrypt   PoW/PoS     4.199995e+01              42   \n",
       "404           Scrypt   PoW/PoS     1.055185e+09       532000000   \n",
       "1337             X13   PoW/PoS     2.927942e+10    314159265359   \n",
       "BTC          SHA-256       PoW     1.792718e+07        21000000   \n",
       "ETH           Ethash       PoW     1.076842e+08               0   \n",
       "LTC           Scrypt       PoW     6.303924e+07        84000000   \n",
       "DASH             X11   PoW/PoS     9.031294e+06        22000000   \n",
       "XMR   CryptoNight-V7       PoW     1.720114e+07               0   \n",
       "ETC           Ethash       PoW     1.133597e+08       210000000   \n",
       "ZEC         Equihash       PoW     7.383056e+06        21000000   \n",
       "\n",
       "      PrincipleComponent1  PrincipleComponent2  PrincipleComponent3  \\\n",
       "42              -0.353835             0.829140            -0.576237   \n",
       "404             -0.337212             0.828998            -0.576656   \n",
       "1337             2.311163             1.596692            -0.666104   \n",
       "BTC             -0.120602            -1.178107             0.256766   \n",
       "ETH             -0.127822            -1.812884             0.420230   \n",
       "LTC             -0.172362            -1.183106             0.022692   \n",
       "DASH            -0.395736             1.202856            -0.500546   \n",
       "XMR             -0.128521            -1.981653             0.475386   \n",
       "ETC             -0.126266            -1.812997             0.420219   \n",
       "ZEC             -0.140882            -2.097972             0.413187   \n",
       "\n",
       "              CoinName  Class  \n",
       "42             42 Coin      0  \n",
       "404            404Coin      0  \n",
       "1337         EliteCoin      0  \n",
       "BTC            Bitcoin      0  \n",
       "ETH           Ethereum      0  \n",
       "LTC           Litecoin      0  \n",
       "DASH              Dash      0  \n",
       "XMR             Monero      0  \n",
       "ETC   Ethereum Classic      0  \n",
       "ZEC              ZCash      0  "
      ]
     },
     "execution_count": 43,
     "metadata": {},
     "output_type": "execute_result"
    }
   ],
   "source": [
    "# Create a new DataFrame including predicted clusters and cryptocurrencies features.\n",
    "# Concatentate the crypto_df and pcs_df DataFrames on the same columns.\n",
    "# YOUR CODE HERE\n",
    "clustered_df = pd.concat([df_crypto, pcs_df], axis=1, join='inner')\n",
    "\n",
    "#  Add a new column, \"CoinName\" to the clustered_df DataFrame that holds the names of the cryptocurrencies. \n",
    "# YOUR CODE HERE\n",
    "clustered_df['CoinName'] = df_coinname['CoinName']\n",
    "\n",
    "#  Add a new column, \"Class\" to the clustered_df DataFrame that holds the predictions.\n",
    "# YOUR CODE HERE\n",
    "clustered_df['Class'] = predictions\n",
    "\n",
    "# Print the shape of the clustered_df\n",
    "print(clustered_df.shape)\n",
    "clustered_df.head(10)"
   ]
  },
  {
   "cell_type": "markdown",
   "metadata": {},
   "source": [
    "### Deliverable 4: Visualizing Cryptocurrencies Results\n",
    "\n",
    "#### 3D-Scatter with Clusters"
   ]
  },
  {
   "cell_type": "code",
   "execution_count": 55,
   "metadata": {},
   "outputs": [],
   "source": [
    "from matplotlib import pyplot as plt"
   ]
  },
  {
   "cell_type": "code",
   "execution_count": 73,
   "metadata": {},
   "outputs": [
    {
     "data": {
      "text/html": [
       "<div>\n",
       "<style scoped>\n",
       "    .dataframe tbody tr th:only-of-type {\n",
       "        vertical-align: middle;\n",
       "    }\n",
       "\n",
       "    .dataframe tbody tr th {\n",
       "        vertical-align: top;\n",
       "    }\n",
       "\n",
       "    .dataframe thead th {\n",
       "        text-align: right;\n",
       "    }\n",
       "</style>\n",
       "<table border=\"1\" class=\"dataframe\">\n",
       "  <thead>\n",
       "    <tr style=\"text-align: right;\">\n",
       "      <th></th>\n",
       "      <th>Algorithm</th>\n",
       "      <th>ProofType</th>\n",
       "      <th>TotalCoinsMined</th>\n",
       "      <th>TotalCoinSupply</th>\n",
       "      <th>PrincipleComponent1</th>\n",
       "      <th>PrincipleComponent2</th>\n",
       "      <th>PrincipleComponent3</th>\n",
       "      <th>CoinName</th>\n",
       "      <th>Class</th>\n",
       "    </tr>\n",
       "  </thead>\n",
       "  <tbody>\n",
       "    <tr>\n",
       "      <th>42</th>\n",
       "      <td>Scrypt</td>\n",
       "      <td>PoW/PoS</td>\n",
       "      <td>4.199995e+01</td>\n",
       "      <td>42</td>\n",
       "      <td>-0.353835</td>\n",
       "      <td>0.829140</td>\n",
       "      <td>-0.576237</td>\n",
       "      <td>42 Coin</td>\n",
       "      <td>0</td>\n",
       "    </tr>\n",
       "    <tr>\n",
       "      <th>404</th>\n",
       "      <td>Scrypt</td>\n",
       "      <td>PoW/PoS</td>\n",
       "      <td>1.055185e+09</td>\n",
       "      <td>532000000</td>\n",
       "      <td>-0.337212</td>\n",
       "      <td>0.828998</td>\n",
       "      <td>-0.576656</td>\n",
       "      <td>404Coin</td>\n",
       "      <td>0</td>\n",
       "    </tr>\n",
       "    <tr>\n",
       "      <th>1337</th>\n",
       "      <td>X13</td>\n",
       "      <td>PoW/PoS</td>\n",
       "      <td>2.927942e+10</td>\n",
       "      <td>314159265359</td>\n",
       "      <td>2.311163</td>\n",
       "      <td>1.596692</td>\n",
       "      <td>-0.666104</td>\n",
       "      <td>EliteCoin</td>\n",
       "      <td>0</td>\n",
       "    </tr>\n",
       "    <tr>\n",
       "      <th>BTC</th>\n",
       "      <td>SHA-256</td>\n",
       "      <td>PoW</td>\n",
       "      <td>1.792718e+07</td>\n",
       "      <td>21000000</td>\n",
       "      <td>-0.120602</td>\n",
       "      <td>-1.178107</td>\n",
       "      <td>0.256766</td>\n",
       "      <td>Bitcoin</td>\n",
       "      <td>0</td>\n",
       "    </tr>\n",
       "    <tr>\n",
       "      <th>ETH</th>\n",
       "      <td>Ethash</td>\n",
       "      <td>PoW</td>\n",
       "      <td>1.076842e+08</td>\n",
       "      <td>0</td>\n",
       "      <td>-0.127822</td>\n",
       "      <td>-1.812884</td>\n",
       "      <td>0.420230</td>\n",
       "      <td>Ethereum</td>\n",
       "      <td>0</td>\n",
       "    </tr>\n",
       "  </tbody>\n",
       "</table>\n",
       "</div>"
      ],
      "text/plain": [
       "     Algorithm ProofType  TotalCoinsMined TotalCoinSupply  \\\n",
       "42      Scrypt   PoW/PoS     4.199995e+01              42   \n",
       "404     Scrypt   PoW/PoS     1.055185e+09       532000000   \n",
       "1337       X13   PoW/PoS     2.927942e+10    314159265359   \n",
       "BTC    SHA-256       PoW     1.792718e+07        21000000   \n",
       "ETH     Ethash       PoW     1.076842e+08               0   \n",
       "\n",
       "      PrincipleComponent1  PrincipleComponent2  PrincipleComponent3  \\\n",
       "42              -0.353835             0.829140            -0.576237   \n",
       "404             -0.337212             0.828998            -0.576656   \n",
       "1337             2.311163             1.596692            -0.666104   \n",
       "BTC             -0.120602            -1.178107             0.256766   \n",
       "ETH             -0.127822            -1.812884             0.420230   \n",
       "\n",
       "       CoinName  Class  \n",
       "42      42 Coin      0  \n",
       "404     404Coin      0  \n",
       "1337  EliteCoin      0  \n",
       "BTC     Bitcoin      0  \n",
       "ETH    Ethereum      0  "
      ]
     },
     "execution_count": 73,
     "metadata": {},
     "output_type": "execute_result"
    }
   ],
   "source": [
    "clustered_df.head()"
   ]
  },
  {
   "cell_type": "code",
   "execution_count": 75,
   "metadata": {},
   "outputs": [
    {
     "data": {
      "application/vnd.plotly.v1+json": {
       "config": {
        "plotlyServerURL": "https://plot.ly"
       },
       "data": [
        {
         "customdata": [
          [
           "Scrypt"
          ],
          [
           "Scrypt"
          ],
          [
           "X13"
          ],
          [
           "SHA-256"
          ],
          [
           "Ethash"
          ],
          [
           "Scrypt"
          ],
          [
           "X11"
          ],
          [
           "CryptoNight-V7"
          ],
          [
           "Ethash"
          ],
          [
           "Equihash"
          ],
          [
           "SHA-512"
          ],
          [
           "Multiple"
          ],
          [
           "SHA-256"
          ],
          [
           "SHA-256"
          ],
          [
           "Scrypt"
          ],
          [
           "X15"
          ],
          [
           "X11"
          ],
          [
           "Scrypt"
          ],
          [
           "Scrypt"
          ],
          [
           "Scrypt"
          ],
          [
           "Multiple"
          ],
          [
           "Scrypt"
          ],
          [
           "SHA-256"
          ],
          [
           "Scrypt"
          ],
          [
           "Scrypt"
          ],
          [
           "Scrypt"
          ],
          [
           "Quark"
          ],
          [
           "Groestl"
          ],
          [
           "Scrypt"
          ],
          [
           "Scrypt"
          ],
          [
           "Scrypt"
          ],
          [
           "Scrypt"
          ],
          [
           "Scrypt"
          ],
          [
           "X11"
          ],
          [
           "Scrypt"
          ],
          [
           "Groestl"
          ],
          [
           "Multiple"
          ],
          [
           "SHA-256"
          ],
          [
           "Scrypt"
          ],
          [
           "Scrypt"
          ],
          [
           "Scrypt"
          ],
          [
           "Scrypt"
          ],
          [
           "PoS"
          ],
          [
           "Scrypt"
          ],
          [
           "Scrypt"
          ],
          [
           "NeoScrypt"
          ],
          [
           "Scrypt"
          ],
          [
           "Scrypt"
          ],
          [
           "Scrypt"
          ],
          [
           "Scrypt"
          ],
          [
           "X11"
          ],
          [
           "Scrypt"
          ],
          [
           "X11"
          ],
          [
           "SHA-256"
          ],
          [
           "Scrypt"
          ],
          [
           "Scrypt"
          ],
          [
           "Scrypt"
          ],
          [
           "SHA3"
          ],
          [
           "Scrypt"
          ],
          [
           "HybridScryptHash256"
          ],
          [
           "Scrypt"
          ],
          [
           "Scrypt"
          ],
          [
           "SHA-256"
          ],
          [
           "Scrypt"
          ],
          [
           "X13"
          ],
          [
           "Scrypt"
          ],
          [
           "SHA-256"
          ],
          [
           "Scrypt"
          ],
          [
           "X13"
          ],
          [
           "NeoScrypt"
          ],
          [
           "Scrypt"
          ],
          [
           "Scrypt"
          ],
          [
           "Scrypt"
          ],
          [
           "Scrypt"
          ],
          [
           "Scrypt"
          ],
          [
           "Scrypt"
          ],
          [
           "X11"
          ],
          [
           "X11"
          ],
          [
           "SHA-256"
          ],
          [
           "Multiple"
          ],
          [
           "SHA-256"
          ],
          [
           "PHI1612"
          ],
          [
           "X11"
          ],
          [
           "SHA-256"
          ],
          [
           "SHA-256"
          ],
          [
           "SHA-256"
          ],
          [
           "X11"
          ],
          [
           "Scrypt"
          ],
          [
           "Scrypt"
          ],
          [
           "Scrypt"
          ],
          [
           "Scrypt"
          ],
          [
           "Lyra2REv2"
          ],
          [
           "Scrypt"
          ],
          [
           "X11"
          ],
          [
           "Multiple"
          ],
          [
           "SHA-256"
          ],
          [
           "X13"
          ],
          [
           "Scrypt"
          ],
          [
           "CryptoNight"
          ],
          [
           "CryptoNight"
          ],
          [
           "Shabal256"
          ],
          [
           "Counterparty"
          ],
          [
           "Scrypt"
          ],
          [
           "SHA-256"
          ],
          [
           "Groestl"
          ],
          [
           "Scrypt"
          ],
          [
           "Scrypt"
          ],
          [
           "Scrypt"
          ],
          [
           "X13"
          ],
          [
           "Scrypt"
          ],
          [
           "Scrypt"
          ],
          [
           "Scrypt"
          ],
          [
           "Scrypt"
          ],
          [
           "X13"
          ],
          [
           "Scrypt"
          ],
          [
           "Stanford Folding"
          ],
          [
           "X11"
          ],
          [
           "Multiple"
          ],
          [
           "QuBit"
          ],
          [
           "Scrypt"
          ],
          [
           "Scrypt"
          ],
          [
           "Scrypt"
          ],
          [
           "M7 POW"
          ],
          [
           "Scrypt"
          ],
          [
           "SHA-256"
          ],
          [
           "Scrypt"
          ],
          [
           "X11"
          ],
          [
           "SHA3"
          ],
          [
           "X11"
          ],
          [
           "Lyra2RE"
          ],
          [
           "SHA-256"
          ],
          [
           "QUAIT"
          ],
          [
           "X11"
          ],
          [
           "X11"
          ],
          [
           "Scrypt"
          ],
          [
           "Scrypt"
          ],
          [
           "Scrypt"
          ],
          [
           "Ethash"
          ],
          [
           "X13"
          ],
          [
           "Blake2b"
          ],
          [
           "SHA-256"
          ],
          [
           "X15"
          ],
          [
           "X11"
          ],
          [
           "SHA-256"
          ],
          [
           "BLAKE256"
          ],
          [
           "Scrypt"
          ],
          [
           "1GB AES Pattern Search"
          ],
          [
           "SHA-256"
          ],
          [
           "X11"
          ],
          [
           "Scrypt"
          ],
          [
           "SHA-256"
          ],
          [
           "SHA-256"
          ],
          [
           "NIST5"
          ],
          [
           "Scrypt"
          ],
          [
           "Scrypt"
          ],
          [
           "X11"
          ],
          [
           "Dagger"
          ],
          [
           "Scrypt"
          ],
          [
           "X11GOST"
          ],
          [
           "X11"
          ],
          [
           "Scrypt"
          ],
          [
           "SHA-256"
          ],
          [
           "Scrypt"
          ],
          [
           "PoS"
          ],
          [
           "Scrypt"
          ],
          [
           "X11"
          ],
          [
           "X11"
          ],
          [
           "SHA-256"
          ],
          [
           "SHA-256"
          ],
          [
           "NIST5"
          ],
          [
           "X11"
          ],
          [
           "Scrypt"
          ],
          [
           "POS 3.0"
          ],
          [
           "Scrypt"
          ],
          [
           "Scrypt"
          ],
          [
           "Scrypt"
          ],
          [
           "X13"
          ],
          [
           "X11"
          ],
          [
           "X11"
          ],
          [
           "Equihash"
          ],
          [
           "X11"
          ],
          [
           "Scrypt"
          ],
          [
           "CryptoNight"
          ],
          [
           "SHA-256"
          ],
          [
           "SHA-256"
          ],
          [
           "X11"
          ],
          [
           "Scrypt"
          ],
          [
           "Multiple"
          ],
          [
           "Scrypt"
          ],
          [
           "Scrypt"
          ],
          [
           "Scrypt"
          ],
          [
           "SHA-256"
          ],
          [
           "Scrypt"
          ],
          [
           "Scrypt"
          ],
          [
           "SHA-256D"
          ],
          [
           "PoS"
          ],
          [
           "Scrypt"
          ],
          [
           "X11"
          ],
          [
           "Lyra2Z"
          ],
          [
           "PoS"
          ],
          [
           "X13"
          ],
          [
           "X14"
          ],
          [
           "PoS"
          ],
          [
           "SHA-256D"
          ],
          [
           "Ethash"
          ],
          [
           "Equihash"
          ],
          [
           "DPoS"
          ],
          [
           "X11"
          ],
          [
           "Scrypt"
          ],
          [
           "X11"
          ],
          [
           "X13"
          ],
          [
           "X11"
          ],
          [
           "PoS"
          ],
          [
           "Scrypt"
          ],
          [
           "Scrypt"
          ],
          [
           "X11"
          ],
          [
           "PoS"
          ],
          [
           "X11"
          ],
          [
           "SHA-256"
          ],
          [
           "Scrypt"
          ],
          [
           "X11"
          ],
          [
           "Scrypt"
          ],
          [
           "Scrypt"
          ],
          [
           "X11"
          ],
          [
           "CryptoNight"
          ],
          [
           "Scrypt"
          ],
          [
           "Scrypt"
          ],
          [
           "Scrypt"
          ],
          [
           "Scrypt"
          ],
          [
           "Quark"
          ],
          [
           "QuBit"
          ],
          [
           "Scrypt"
          ],
          [
           "CryptoNight"
          ],
          [
           "Lyra2RE"
          ],
          [
           "Scrypt"
          ],
          [
           "SHA-256"
          ],
          [
           "X11"
          ],
          [
           "Scrypt"
          ],
          [
           "X11"
          ],
          [
           "Scrypt"
          ],
          [
           "CryptoNight-V7"
          ],
          [
           "Scrypt"
          ],
          [
           "Scrypt"
          ],
          [
           "Scrypt"
          ],
          [
           "X13"
          ],
          [
           "X11"
          ],
          [
           "Equihash"
          ],
          [
           "Scrypt"
          ],
          [
           "Scrypt"
          ],
          [
           "Lyra2RE"
          ],
          [
           "Scrypt"
          ],
          [
           "Dagger-Hashimoto"
          ],
          [
           "X11"
          ],
          [
           "Blake2S"
          ],
          [
           "X11"
          ],
          [
           "Scrypt"
          ],
          [
           "PoS"
          ],
          [
           "X11"
          ],
          [
           "NIST5"
          ],
          [
           "PoS"
          ],
          [
           "X11"
          ],
          [
           "Scrypt"
          ],
          [
           "Scrypt"
          ],
          [
           "Scrypt"
          ],
          [
           "SHA-256"
          ],
          [
           "X11"
          ],
          [
           "Scrypt"
          ],
          [
           "Scrypt"
          ],
          [
           "SHA-256"
          ],
          [
           "PoS"
          ],
          [
           "Scrypt"
          ],
          [
           "X15"
          ],
          [
           "SHA-256"
          ],
          [
           "Scrypt"
          ],
          [
           "POS 3.0"
          ],
          [
           "CryptoNight-V7"
          ],
          [
           "536"
          ],
          [
           "Argon2d"
          ],
          [
           "Blake2b"
          ],
          [
           "Cloverhash"
          ],
          [
           "CryptoNight"
          ],
          [
           "NIST5"
          ],
          [
           "X11"
          ],
          [
           "NIST5"
          ],
          [
           "Skein"
          ],
          [
           "Scrypt"
          ],
          [
           "X13"
          ],
          [
           "Scrypt"
          ],
          [
           "X11"
          ],
          [
           "X11"
          ],
          [
           "Scrypt"
          ],
          [
           "CryptoNight"
          ],
          [
           "X13"
          ],
          [
           "Time Travel"
          ],
          [
           "Scrypt"
          ],
          [
           "Keccak"
          ],
          [
           "SkunkHash v2 Raptor"
          ],
          [
           "X11"
          ],
          [
           "Skein"
          ],
          [
           "SHA-256"
          ],
          [
           "X11"
          ],
          [
           "Scrypt"
          ],
          [
           "VeChainThor Authority"
          ],
          [
           "Scrypt"
          ],
          [
           "PoS"
          ],
          [
           "Scrypt"
          ],
          [
           "Scrypt"
          ],
          [
           "Scrypt"
          ],
          [
           "Scrypt"
          ],
          [
           "Scrypt"
          ],
          [
           "Scrypt"
          ],
          [
           "Scrypt"
          ],
          [
           "CryptoNight"
          ],
          [
           "SHA-512"
          ],
          [
           "Ouroboros"
          ],
          [
           "X11"
          ],
          [
           "Equihash"
          ],
          [
           "NeoScrypt"
          ],
          [
           "X11"
          ],
          [
           "Scrypt"
          ],
          [
           "NeoScrypt"
          ],
          [
           "Lyra2REv2"
          ],
          [
           "Equihash"
          ],
          [
           "Scrypt"
          ],
          [
           "SHA-256"
          ],
          [
           "NIST5"
          ],
          [
           "PHI1612"
          ],
          [
           "Dagger"
          ],
          [
           "Scrypt"
          ],
          [
           "Quark"
          ],
          [
           "Scrypt"
          ],
          [
           "POS 2.0"
          ],
          [
           "Scrypt"
          ],
          [
           "SHA-256"
          ],
          [
           "X11"
          ],
          [
           "NeoScrypt"
          ],
          [
           "Ethash"
          ],
          [
           "NeoScrypt"
          ],
          [
           "X11"
          ],
          [
           "DPoS"
          ],
          [
           "NIST5"
          ],
          [
           "X13"
          ],
          [
           "Multiple"
          ],
          [
           "Scrypt"
          ],
          [
           "CryptoNight"
          ],
          [
           "CryptoNight"
          ],
          [
           "Ethash"
          ],
          [
           "NIST5"
          ],
          [
           "Quark"
          ],
          [
           "X11"
          ],
          [
           "CryptoNight-V7"
          ],
          [
           "Scrypt"
          ],
          [
           "Scrypt"
          ],
          [
           "Scrypt"
          ],
          [
           "X11"
          ],
          [
           "BLAKE256"
          ],
          [
           "X11"
          ],
          [
           "NeoScrypt"
          ],
          [
           "Quark"
          ],
          [
           "NeoScrypt"
          ],
          [
           "Scrypt"
          ],
          [
           "Scrypt"
          ],
          [
           "Scrypt"
          ],
          [
           "X11"
          ],
          [
           "X11"
          ],
          [
           "SHA-256"
          ],
          [
           "C11"
          ],
          [
           "POS 3.0"
          ],
          [
           "Ethash"
          ],
          [
           "Scrypt"
          ],
          [
           "CryptoNight"
          ],
          [
           "SkunkHash"
          ],
          [
           "Scrypt"
          ],
          [
           "CryptoNight"
          ],
          [
           "Scrypt"
          ],
          [
           "Dagger"
          ],
          [
           "Lyra2REv2"
          ],
          [
           "X13"
          ],
          [
           "Proof-of-BibleHash"
          ],
          [
           "SHA-256 + Hive"
          ],
          [
           "Scrypt"
          ],
          [
           "Scrypt"
          ],
          [
           "X11"
          ],
          [
           "C11"
          ],
          [
           "X11"
          ],
          [
           "XEVAN"
          ],
          [
           "Scrypt"
          ],
          [
           "VBFT"
          ],
          [
           "Ethash"
          ],
          [
           "CryptoNight"
          ],
          [
           "Scrypt"
          ],
          [
           "IMesh"
          ],
          [
           "NIST5"
          ],
          [
           "Scrypt"
          ],
          [
           "Scrypt"
          ],
          [
           "Equihash"
          ],
          [
           "Scrypt"
          ],
          [
           "Lyra2Z"
          ],
          [
           "Green Protocol"
          ],
          [
           "PoS"
          ],
          [
           "Scrypt"
          ],
          [
           "Semux BFT consensus"
          ],
          [
           "X11"
          ],
          [
           "Quark"
          ],
          [
           "PoS"
          ],
          [
           "CryptoNight"
          ],
          [
           "X16R"
          ],
          [
           "Scrypt"
          ],
          [
           "NIST5"
          ],
          [
           "Lyra2RE"
          ],
          [
           "XEVAN"
          ],
          [
           "Tribus"
          ],
          [
           "Scrypt"
          ],
          [
           "Lyra2Z"
          ],
          [
           "CryptoNight"
          ],
          [
           "CryptoNight Heavy"
          ],
          [
           "CryptoNight"
          ],
          [
           "Scrypt"
          ],
          [
           "Scrypt"
          ],
          [
           "Jump Consistent Hash"
          ],
          [
           "SHA-256D"
          ],
          [
           "CryptoNight"
          ],
          [
           "Scrypt"
          ],
          [
           "X15"
          ],
          [
           "Scrypt"
          ],
          [
           "Quark"
          ],
          [
           "SHA-256"
          ],
          [
           "DPoS"
          ],
          [
           "X16R"
          ],
          [
           "HMQ1725"
          ],
          [
           "X11"
          ],
          [
           "X16R"
          ],
          [
           "Quark"
          ],
          [
           "Quark"
          ],
          [
           "Scrypt"
          ],
          [
           "Lyra2REv2"
          ],
          [
           "Quark"
          ],
          [
           "Scrypt"
          ],
          [
           "Scrypt"
          ],
          [
           "CryptoNight-V7"
          ],
          [
           "Cryptonight-GPU"
          ],
          [
           "XEVAN"
          ],
          [
           "CryptoNight Heavy"
          ],
          [
           "X11"
          ],
          [
           "X11"
          ],
          [
           "Scrypt"
          ],
          [
           "PoS"
          ],
          [
           "SHA-256"
          ],
          [
           "Keccak"
          ],
          [
           "X11"
          ],
          [
           "X11"
          ],
          [
           "Scrypt"
          ],
          [
           "SHA-512"
          ],
          [
           "X16R"
          ],
          [
           "Equihash"
          ],
          [
           "XEVAN"
          ],
          [
           "Lyra2Z"
          ],
          [
           "SHA-256"
          ],
          [
           "XEVAN"
          ],
          [
           "X11"
          ],
          [
           "CryptoNight"
          ],
          [
           "Quark"
          ],
          [
           "Blake"
          ],
          [
           "Blake"
          ],
          [
           "Equihash"
          ],
          [
           "Exosis"
          ],
          [
           "Scrypt"
          ],
          [
           "Scrypt"
          ],
          [
           "Equihash"
          ],
          [
           "Quark"
          ],
          [
           "Equihash"
          ],
          [
           "Quark"
          ],
          [
           "Scrypt"
          ],
          [
           "QuBit"
          ],
          [
           "X11"
          ],
          [
           "Scrypt"
          ],
          [
           "XEVAN"
          ],
          [
           "SHA-256D"
          ],
          [
           "X11"
          ],
          [
           "SHA-256"
          ],
          [
           "X13"
          ],
          [
           "SHA-256"
          ],
          [
           "X11"
          ],
          [
           "DPoS"
          ],
          [
           "Scrypt"
          ],
          [
           "Scrypt"
          ],
          [
           "X11"
          ],
          [
           "NeoScrypt"
          ],
          [
           "Scrypt"
          ],
          [
           "Blake"
          ],
          [
           "Scrypt"
          ],
          [
           "SHA-256"
          ],
          [
           "Scrypt"
          ],
          [
           "X11"
          ],
          [
           "Scrypt"
          ],
          [
           "Scrypt"
          ],
          [
           "SHA-256"
          ],
          [
           "X11"
          ],
          [
           "SHA-256"
          ],
          [
           "Scrypt"
          ],
          [
           "Scrypt"
          ],
          [
           "Scrypt"
          ],
          [
           "Groestl"
          ],
          [
           "X11"
          ],
          [
           "Scrypt"
          ],
          [
           "PoS"
          ],
          [
           "Scrypt"
          ],
          [
           "Scrypt"
          ],
          [
           "X11"
          ],
          [
           "SHA-256"
          ],
          [
           "DPoS"
          ],
          [
           "Scrypt"
          ],
          [
           "Scrypt"
          ],
          [
           "NeoScrypt"
          ],
          [
           "Multiple"
          ],
          [
           "X13"
          ],
          [
           "Equihash+Scrypt"
          ],
          [
           "DPoS"
          ],
          [
           "Ethash"
          ],
          [
           "DPoS"
          ],
          [
           "SHA-256"
          ],
          [
           "PoS"
          ],
          [
           "TRC10"
          ],
          [
           "PoS"
          ],
          [
           "SHA-256"
          ],
          [
           "Scrypt"
          ],
          [
           "CryptoNight"
          ],
          [
           "Equihash"
          ],
          [
           "Scrypt"
          ]
         ],
         "hovertemplate": "<b>%{hovertext}</b><br><br>Class=%{marker.color}<br>PrincipleComponent1=%{x}<br>PrincipleComponent2=%{y}<br>PrincipleComponent3=%{z}<br>Algorithm=%{customdata[0]}<extra></extra>",
         "hovertext": [
          "42 Coin",
          "404Coin",
          "EliteCoin",
          "Bitcoin",
          "Ethereum",
          "Litecoin",
          "Dash",
          "Monero",
          "Ethereum Classic",
          "ZCash",
          "Bitshares",
          "DigiByte",
          "BitcoinDark",
          "PayCoin",
          "ProsperCoin",
          "KoboCoin",
          "Spreadcoin",
          "Argentum",
          "Aurora Coin",
          "BlueCoin",
          "MyriadCoin",
          "MoonCoin",
          "ZetaCoin",
          "SexCoin",
          "Quatloo",
          "EnergyCoin",
          "QuarkCoin",
          "Riecoin",
          "Digitalcoin ",
          "BitBar",
          "Catcoin",
          "CryptoBullion",
          "CannaCoin",
          "CryptCoin",
          "CasinoCoin",
          "Diamond",
          "Verge",
          "DevCoin",
          "EarthCoin",
          "E-Gulden",
          "Einsteinium",
          "Emerald",
          "Exclusive Coin",
          "FlutterCoin",
          "Franko",
          "FeatherCoin",
          "GrandCoin",
          "GlobalCoin",
          "GoldCoin",
          "HoboNickels",
          "HyperStake",
          "Infinite Coin",
          "IOCoin",
          "IXcoin",
          "KrugerCoin",
          "LuckyCoin",
          "Litebar ",
          "MaxCoin",
          "MegaCoin",
          "MediterraneanCoin",
          "MintCoin",
          "MinCoin",
          "MazaCoin",
          "Nautilus Coin",
          "NavCoin",
          "NobleCoin",
          "Namecoin",
          "NyanCoin",
          "OpalCoin",
          "Orbitcoin",
          "PotCoin",
          "PhoenixCoin",
          "Reddcoin",
          "RonPaulCoin",
          "StableCoin",
          "SmartCoin",
          "SuperCoin",
          "SyncCoin",
          "SysCoin",
          "TeslaCoin",
          "TigerCoin",
          "TittieCoin",
          "TorCoin",
          "TerraCoin",
          "UnbreakableCoin",
          "Unobtanium",
          "UroCoin",
          "UnitaryStatus Dollar",
          "UltraCoin",
          "ViaCoin",
          "VeriCoin",
          "Vertcoin",
          "WorldCoin",
          "X11 Coin",
          "Crypti",
          "JouleCoin",
          "StealthCoin",
          "ZCC Coin",
          "ByteCoin",
          "DigitalNote ",
          "BurstCoin",
          "StorjCoin",
          "MonaCoin",
          "Neutron",
          "FairCoin",
          "Gulden",
          "RubyCoin",
          "PesetaCoin",
          "Kore",
          "Wild Beast Coin",
          "Dnotes",
          "Flo",
          "8BIT Coin",
          "Sativa Coin",
          "ArtByte",
          "Folding Coin",
          "Ucoin",
          "Unitus",
          "CypherPunkCoin",
          "OmniCron",
          "Vtorrent",
          "GreenCoin",
          "Cryptonite",
          "MasterCoin",
          "SoonCoin",
          "1Credit",
          "IslaCoin",
          "Nexus",
          "MarsCoin ",
          "Crypto",
          "Anarchists Prime",
          "Droidz",
          "BowsCoin",
          "Squall Coin",
          "Song Coin",
          "BitZeny",
          "Diggits",
          "Expanse",
          "Paycon",
          "Siacoin",
          "Emercoin",
          "EverGreenCoin",
          "MindCoin",
          "I0coin",
          "Decred",
          "Revolution VR",
          "HOdlcoin",
          "EDRCoin",
          "Hitcoin",
          "Gamecredits",
          "DubaiCoin",
          "CarpeDiemCoin",
          "PWR Coin",
          "BillaryCoin",
          "GPU Coin",
          "Adzcoin",
          "SoilCoin",
          "YoCoin",
          "SibCoin",
          "EuropeCoin",
          "ZeitCoin",
          "SwingCoin",
          "SafeExchangeCoin",
          "Nebuchadnezzar",
          "Francs",
          "BolivarCoin",
          "Ratecoin",
          "Revenu",
          "Clockcoin",
          "VIP Tokens",
          "BitSend",
          "Omni",
          "Let it Ride",
          "PutinCoin",
          "iBankCoin",
          "Frankywillcoin",
          "MudraCoin",
          "PizzaCoin",
          "Lutetium Coin",
          "Komodo",
          "GoldBlocks",
          "CarterCoin",
          "Karbo",
          "BitTokens",
          "ZayedCoin",
          "MustangCoin",
          "ZoneCoin",
          "Circuits of Value",
          "RootCoin",
          "DopeCoin",
          "BitCurrency",
          "DollarCoin",
          "Swiscoin",
          "Shilling",
          "BuzzCoin",
          "Opair",
          "PesoBit",
          "Halloween Coin",
          "ZCoin",
          "CoffeeCoin",
          "RoyalCoin",
          "GanjaCoin V2",
          "TeamUP",
          "LanaCoin",
          "Elementrem",
          "ZClassic",
          "ARK",
          "InsaneCoin",
          "KiloCoin",
          "ArtexCoin",
          "EmberCoin",
          "XenixCoin",
          "FreeCoin",
          "PLNCoin",
          "AquariusCoin",
          "Kurrent",
          "Creatio",
          "Eternity",
          "Eurocoin",
          "BitcoinFast",
          "Stakenet",
          "BitConnect Coin",
          "MoneyCoin",
          "Enigma",
          "Cannabis Industry Coin",
          "Russiacoin",
          "PandaCoin",
          "GameUnits",
          "GAKHcoin",
          "Allsafe",
          "LiteCreed",
          "OsmiumCoin",
          "Bikercoins",
          "HexxCoin",
          "Klingon Empire Darsek",
          "Internet of People",
          "KushCoin",
          "Printerium",
          "PacCoin",
          "Impeach",
          "Citadel",
          "Zilbercoin",
          "FirstCoin",
          "BeaverCoin",
          "FindCoin",
          "VaultCoin",
          "Zero",
          "OpenChat",
          "Canada eCoin",
          "Zoin",
          "RenosCoin",
          "DubaiCoin",
          "VirtacoinPlus",
          "TajCoin",
          "Impact",
          "EB3coin",
          "Atmos",
          "HappyCoin",
          "Coinonat",
          "MacronCoin",
          "Condensate",
          "Independent Money System",
          "ArgusCoin",
          "LomoCoin",
          "ProCurrency",
          "GoldReserve",
          "BenjiRolls",
          "GrowthCoin",
          "ILCoin",
          "Phreak",
          "Degas Coin",
          "HTML5 Coin",
          "Ultimate Secure Cash",
          "EquiTrader",
          "QTUM",
          "Quantum Resistant Ledger",
          "Espers",
          "Dynamic",
          "Nano",
          "ChanCoin",
          "Dinastycoin",
          "Denarius",
          "DigitalPrice",
          "Virta Unique Coin",
          "Bitcoin Planet",
          "Unify",
          "BritCoin",
          "SocialCoin",
          "ArcticCoin",
          "DAS",
          "Linda",
          "LeviarCoin",
          "DeepOnion",
          "Bitcore",
          "gCn Coin",
          "SmartCash",
          "Signatum",
          "Onix",
          "Cream",
          "Bitcoin Cash",
          "Monoeci",
          "Draftcoin",
          "Vechain",
          "Sojourn Coin",
          "Stakecoin",
          "NewYorkCoin",
          "FrazCoin",
          "Kronecoin",
          "AdCoin",
          "Linx",
          "CoinonatX",
          "Ethereum Dark",
          "Sumokoin",
          "Obsidian",
          "Cardano",
          "Regalcoin",
          "BitcoinZ",
          "TrezarCoin",
          "Elements",
          "TerraNovaCoin",
          "VIVO Coin",
          "Rupee",
          "Bitcoin Gold",
          "WomenCoin",
          "Theresa May Coin",
          "NamoCoin",
          "LUXCoin",
          "Pirl",
          "Xios",
          "Bitcloud 2.0",
          "eBoost",
          "KekCoin",
          "BlackholeCoin",
          "Infinity Economics",
          "Pura",
          "Innova",
          "Ellaism",
          "GoByte",
          "Magnet",
          "Lamden Tau",
          "Electra",
          "Bitcoin Diamond",
          "SHIELD",
          "Cash & Back Coin",
          "UltraNote",
          "BitCoal",
          "DaxxCoin",
          "Bulwark",
          "Kalkulus",
          "AC3",
          "Lethean",
          "GermanCoin",
          "LiteCoin Ultra",
          "PopularCoin",
          "PhantomX",
          "Photon",
          "Sucre",
          "SparksPay",
          "Digiwage",
          "GunCoin",
          "IrishCoin",
          "Trollcoin",
          "Litecoin Plus",
          "Monkey Project",
          "Pioneer Coin",
          "UnitedBitcoin",
          "Interzone",
          "TokenPay",
          "1717 Masonic Commemorative Token",
          "My Big Coin",
          "TurtleCoin",
          "MUNcoin",
          "Unified Society USDEX",
          "Niobio Cash",
          "ShareChain",
          "Travelflex",
          "KREDS",
          "Tokyo Coin",
          "BiblePay",
          "LitecoinCash",
          "BitFlip",
          "LottoCoin",
          "Crypto Improvement Fund",
          "Stipend",
          "Pushi",
          "Ellerium",
          "Velox",
          "Ontology",
          "Callisto Network",
          "BitTube",
          "Poseidon",
          "Aidos Kuneen",
          "Bitspace",
          "Briacoin",
          "Ignition",
          "Bitrolium",
          "MedicCoin",
          "Alpenschillling",
          "Bitcoin Green",
          "Deviant Coin",
          "Abjcoin",
          "Semux",
          "FuturoCoin",
          "Carebit",
          "Zealium",
          "Monero Classic",
          "Proton",
          "iDealCash",
          "Jumpcoin",
          "Infinex",
          "Bitcoin Incognito",
          "KEYCO",
          "HollyWoodCoin",
          "GINcoin",
          "PlatinCoin",
          "Loki",
          "Newton Coin",
          "Swisscoin",
          "Xt3ch",
          "MassGrid",
          "TheVig",
          "PluraCoin",
          "EmaratCoin",
          "Dekado",
          "Lynx",
          "Poseidon Quark",
          "BitcoinWSpectrum",
          "Muse",
          "Motion",
          "PlusOneCoin",
          "Axe",
          "Trivechain",
          "Dystem",
          "Giant",
          "Peony Coin",
          "Absolute Coin",
          "Vitae",
          "HexCoin",
          "TPCash",
          "Webchain",
          "Ryo",
          "Urals Coin",
          "Qwertycoin",
          "ARENON",
          "EUNO",
          "MMOCoin",
          "Ketan",
          "Project Pai",
          "XDNA",
          "PAXEX",
          "Azart",
          "ThunderStake",
          "Kcash",
          "Xchange",
          "CrypticCoin",
          "Bettex coin",
          "Actinium",
          "Bitcoin SV",
          "BitMoney",
          "Junson Ming Chan Coin",
          "FREDEnergy",
          "HerbCoin",
          "Universal Molecule",
          "Lithium",
          "PirateCash",
          "Exosis",
          "Block-Logic",
          "Oduwa",
          "Beam",
          "Galilel",
          "Bithereum",
          "Crypto Sports",
          "Credit",
          "SLICE",
          "Dash Platinum",
          "Nasdacoin",
          "Beetle Coin",
          "Titan Coin",
          "Award",
          "BLAST",
          "Bitcoin Rhodium",
          "GlobalToken",
          "Insane Coin",
          "ALAX",
          "LiteDoge",
          "SolarCoin",
          "TruckCoin",
          "UFO Coin",
          "OrangeCoin",
          "BlakeCoin",
          "BitstarCoin",
          "NeosCoin",
          "HyperCoin",
          "PinkCoin",
          "Crypto Escudo",
          "AudioCoin",
          "IncaKoin",
          "Piggy Coin",
          "Crown Coin",
          "Genstake",
          "SmileyCoin",
          "XiaoMiCoin",
          "Groestlcoin",
          "CapriCoin",
          " ClubCoin",
          "Radium",
          "Bata",
          "Pakcoin",
          "Creditbit ",
          "OKCash",
          "Lisk",
          "HiCoin",
          "WhiteCoin",
          "FriendshipCoin",
          "JoinCoin",
          "Triangles Coin",
          "Vollar",
          "EOS",
          "Reality Clash",
          "Oxycoin",
          "TigerCash",
          "Particl",
          "BitTorrent",
          "Nxt",
          "ZEPHYR",
          "Gapcoin",
          "Beldex",
          "Horizen",
          "BitcoinPlus"
         ],
         "legendgroup": "0",
         "marker": {
          "color": [
           0,
           0,
           0,
           0,
           0,
           0,
           0,
           0,
           0,
           0,
           0,
           0,
           0,
           0,
           0,
           0,
           0,
           0,
           0,
           0,
           0,
           0,
           0,
           0,
           0,
           0,
           0,
           0,
           0,
           0,
           0,
           0,
           0,
           0,
           0,
           0,
           0,
           0,
           0,
           0,
           0,
           0,
           0,
           0,
           0,
           0,
           0,
           0,
           0,
           0,
           0,
           0,
           0,
           0,
           0,
           0,
           0,
           0,
           0,
           0,
           0,
           0,
           0,
           0,
           0,
           0,
           0,
           0,
           0,
           0,
           0,
           0,
           0,
           0,
           0,
           0,
           0,
           0,
           0,
           0,
           0,
           0,
           0,
           0,
           0,
           0,
           0,
           0,
           0,
           0,
           0,
           0,
           0,
           0,
           0,
           0,
           0,
           0,
           0,
           0,
           0,
           0,
           0,
           0,
           0,
           0,
           0,
           0,
           0,
           0,
           0,
           0,
           0,
           0,
           0,
           0,
           0,
           0,
           0,
           0,
           0,
           0,
           0,
           0,
           0,
           0,
           0,
           0,
           0,
           0,
           0,
           0,
           0,
           0,
           0,
           0,
           0,
           0,
           0,
           0,
           0,
           0,
           0,
           0,
           0,
           0,
           0,
           0,
           0,
           0,
           0,
           0,
           0,
           0,
           0,
           0,
           0,
           0,
           0,
           0,
           0,
           0,
           0,
           0,
           0,
           0,
           0,
           0,
           0,
           0,
           0,
           0,
           0,
           0,
           0,
           0,
           0,
           0,
           0,
           0,
           0,
           0,
           0,
           0,
           0,
           0,
           0,
           0,
           0,
           0,
           0,
           0,
           0,
           0,
           0,
           0,
           0,
           0,
           0,
           0,
           0,
           0,
           0,
           0,
           0,
           0,
           0,
           0,
           0,
           0,
           0,
           0,
           0,
           0,
           0,
           0,
           0,
           0,
           0,
           0,
           0,
           0,
           0,
           0,
           0,
           0,
           0,
           0,
           0,
           0,
           0,
           0,
           0,
           0,
           0,
           0,
           0,
           0,
           0,
           0,
           0,
           0,
           0,
           0,
           0,
           0,
           0,
           0,
           0,
           0,
           0,
           0,
           0,
           0,
           0,
           0,
           0,
           0,
           0,
           0,
           0,
           0,
           0,
           0,
           0,
           0,
           0,
           0,
           0,
           0,
           0,
           0,
           0,
           0,
           0,
           0,
           0,
           0,
           0,
           0,
           0,
           0,
           0,
           0,
           0,
           0,
           0,
           0,
           0,
           0,
           0,
           0,
           0,
           0,
           0,
           0,
           0,
           0,
           0,
           0,
           0,
           0,
           0,
           0,
           0,
           0,
           0,
           0,
           0,
           0,
           0,
           0,
           0,
           0,
           0,
           0,
           0,
           0,
           0,
           0,
           0,
           0,
           0,
           0,
           0,
           0,
           0,
           0,
           0,
           0,
           0,
           0,
           0,
           0,
           0,
           0,
           0,
           0,
           0,
           0,
           0,
           0,
           0,
           0,
           0,
           0,
           0,
           0,
           0,
           0,
           0,
           0,
           0,
           0,
           0,
           0,
           0,
           0,
           0,
           0,
           0,
           0,
           0,
           0,
           0,
           0,
           0,
           0,
           0,
           0,
           0,
           0,
           0,
           0,
           0,
           0,
           0,
           0,
           0,
           0,
           0,
           0,
           0,
           0,
           0,
           0,
           0,
           0,
           0,
           0,
           0,
           0,
           0,
           0,
           0,
           0,
           0,
           0,
           0,
           0,
           0,
           0,
           0,
           0,
           0,
           0,
           0,
           0,
           0,
           0,
           0,
           0,
           0,
           0,
           0,
           0,
           0,
           0,
           0,
           0,
           0,
           0,
           0,
           0,
           0,
           0,
           0,
           0,
           0,
           0,
           0,
           0,
           0,
           0,
           0,
           0,
           0,
           0,
           0,
           0,
           0,
           0,
           0,
           0,
           0,
           0,
           0,
           0,
           0,
           0,
           0,
           0,
           0,
           0,
           0,
           0,
           0,
           0,
           0,
           0,
           0,
           0,
           0,
           0,
           0,
           0,
           0,
           0,
           0,
           0,
           0,
           0,
           0,
           0,
           0,
           0,
           0,
           0,
           0,
           0,
           0,
           0,
           0,
           0,
           0,
           0,
           0,
           0,
           0,
           0,
           0,
           0,
           0,
           0,
           0,
           0,
           0,
           0,
           0,
           0,
           0,
           0,
           0,
           0,
           0,
           0,
           0,
           0,
           0,
           0,
           0,
           0,
           0,
           0,
           0,
           0,
           0,
           0,
           0,
           0,
           0,
           0,
           0,
           0,
           0,
           0,
           0,
           0,
           0
          ],
          "coloraxis": "coloraxis",
          "symbol": "circle"
         },
         "mode": "markers",
         "name": "0",
         "scene": "scene",
         "showlegend": true,
         "type": "scatter3d",
         "x": [
          -0.353834952545894,
          -0.3372118172754126,
          2.3111626195373485,
          -0.1206015504375227,
          -0.12782206085335598,
          -0.17236249146406582,
          -0.39573568241355384,
          -0.12852148919233844,
          -0.12626573011968034,
          -0.14088177039460806,
          -0.38242790759824064,
          0.17755318334755638,
          -0.30090674156212716,
          -0.2569920858233221,
          -0.1735063940818088,
          -0.24751537315002087,
          -0.2156144726400872,
          -0.17312344566803528,
          -0.3534952562555048,
          -0.34609341325384646,
          -0.07539821211301015,
          2.5456983046395276,
          -0.11769257077989986,
          -0.1703840090496498,
          -0.17292756419133937,
          -0.3523356461840155,
          -0.21810119498253336,
          -0.18388694175215664,
          -0.1729768409772181,
          -0.3538308936815525,
          -0.17348870828068486,
          -0.35381521168513563,
          -0.17357502552807857,
          -0.21570359688464077,
          0.5826424501288202,
          -0.3651237654414783,
          0.20118315741769524,
          0.25647675283594923,
          0.07464554081045639,
          -0.17332191297080177,
          -0.16893573433094872,
          -0.17326123620844286,
          -0.3595324225479884,
          -0.30148741115514255,
          -0.17363189707674254,
          -0.14709882927376516,
          -0.15289332785808038,
          -0.17242955275959734,
          -0.17270621898535773,
          -0.3518975704133918,
          -0.3317001588477885,
          1.5716410386799864,
          -0.39563066727203894,
          -0.12056302482207057,
          -0.17000059637009818,
          -0.17334829504614033,
          -0.17370237443921008,
          -0.5157973387239814,
          -0.17296313640247085,
          -0.11421713607656901,
          -0.05055384502868889,
          -0.17358385692261719,
          -0.2642840763476724,
          -0.3096717507052643,
          -0.2695746269007253,
          -0.03867147990318436,
          -0.12064042450665356,
          -0.16726095947137368,
          -0.2701951296913958,
          -0.33206422440837924,
          -0.34814764721673036,
          -0.35223986805236607,
          0.0033244780550118164,
          -0.17356321870584787,
          -0.1716599112369714,
          -0.17305098423374282,
          -0.35153223503578424,
          -0.39600149199369067,
          -0.10781673277890899,
          -0.24470238487308404,
          -0.12010532909402882,
          -0.3008695211375141,
          -0.3959132504644448,
          -0.1203918154522451,
          -0.1203743785942234,
          -0.1209644622900111,
          -0.21587724051368584,
          -0.3291151865955287,
          -0.35251474102696057,
          -0.17328045374778778,
          -0.3277423766099021,
          -0.1681792389886557,
          -0.17038852028045978,
          -0.39587787949347003,
          -0.24517007605245697,
          -0.1201724658225884,
          -0.2699765940018769,
          -0.34495011598944164,
          3.8758497875863442,
          0.4819097711940953,
          -0.15337770947095666,
          -0.3610668656615371,
          -0.17215011315294365,
          -0.3001200497082816,
          -0.3645469685947207,
          -0.15677145929376984,
          -0.3096522640925011,
          -0.17087165711526103,
          -0.27027016152676486,
          -0.17370456200867332,
          -0.3043147832455442,
          -0.17073714180766997,
          -0.35381707025374026,
          -0.2702225027895328,
          -0.15698786264384668,
          -0.11649336336271027,
          -0.3519756127501744,
          -0.10933703946029262,
          -0.186734989730707,
          -0.17357797530564148,
          -0.35355193325823414,
          -0.046738045349724394,
          -0.06964245671715558,
          -0.17371345512922426,
          -0.12066812657931905,
          0.4778042784023859,
          -0.3959830715526922,
          -0.6506859416009746,
          -0.2152656849187543,
          -0.12905129705990712,
          -0.12040829209354004,
          -0.40420516307983556,
          -0.21554995761798523,
          -0.32683365521398494,
          -0.1718397531640402,
          -0.17103369953231368,
          -0.3080569499212826,
          -0.12888641160716494,
          -0.2697449578879141,
          0.3907765588521617,
          -0.2934718028465178,
          -0.24995412167453868,
          -0.2155853197836956,
          -0.1205641441249633,
          -0.04900445491616747,
          -0.16967971818009425,
          -0.10500643501067126,
          -0.30087773527243794,
          -0.0740077617194068,
          -0.17227968353269152,
          -0.30094139703266765,
          0.29704893194772963,
          -0.23418548148907353,
          -0.35342788228188954,
          -0.30792485964378535,
          -0.21474748436529423,
          -0.14663092510216008,
          -0.17252539952776466,
          -0.11421652690766061,
          -0.39315529515814357,
          0.8415484631033121,
          -0.30074164396726305,
          -0.14659007582097053,
          -0.3592163178957091,
          -0.17350369886977285,
          -0.21554855232675263,
          -0.39383105697454573,
          -0.29948637787651666,
          -0.29715727473656206,
          -0.3552102209234165,
          -0.39472001649286476,
          -0.17371351350248102,
          -0.35814371982145204,
          -0.3297651658624993,
          -0.3534658466936154,
          -0.35190844323335946,
          -0.22505100758802785,
          -0.21569811614941908,
          -0.33949284860379886,
          -0.282624508762533,
          -0.3954578029420332,
          -0.35267169154265127,
          0.32711275444177135,
          -0.30092227167521357,
          -0.12082366140859988,
          -0.3959722557573361,
          -0.35365477803757484,
          -0.08944886458993719,
          -0.3538113191661248,
          -0.17088546612179484,
          -0.30791719453598926,
          -0.1207823923221212,
          -0.32252550427147975,
          -0.17337746625844183,
          0.018279385710007118,
          -0.3581755905527423,
          -0.3534265341628533,
          -0.3821541158425547,
          -0.15493842786597675,
          -0.3575064904140546,
          -0.22648012529629996,
          -0.4087782646415635,
          -0.35725289853495523,
          -0.29553819421215394,
          -0.12862915430997215,
          -0.1409033287646874,
          3.7626195060328733,
          -0.39556558302003714,
          -0.10051551317439215,
          -0.20231201983423108,
          0.8588497037646802,
          -0.3959272786848494,
          -0.3586383648592088,
          -0.35335381234068997,
          -0.35350767252879417,
          -0.21352966767362927,
          -0.3592163178957091,
          -0.3955026573322864,
          -0.30078533356573917,
          -0.3533546145021732,
          -0.40971605723518284,
          -0.3535016626261606,
          -0.34909411609419966,
          -0.39595617889688,
          0.32710726880335506,
          -0.35271309959240127,
          0.33223635247309746,
          -0.3537005772470667,
          -0.35377107434432875,
          -0.3590363645652234,
          -0.36599553314343536,
          -0.1736952751577272,
          0.32723767904733764,
          -0.12959096000368464,
          -0.35000206052193633,
          -0.300898750053924,
          -0.39586632365497604,
          -0.3535492894158303,
          0.49883350077579375,
          -0.35367587053625194,
          -0.12728727416732877,
          -0.30955835226240525,
          -0.3459905471176508,
          -0.17366364045305174,
          -0.22624846770424284,
          -0.2084399217640451,
          -0.1409157191135465,
          -0.3345698521383525,
          -0.17180078711248978,
          -0.12930996948839207,
          -0.30930044659761585,
          -0.14747573036582765,
          -0.39513296485312754,
          -0.42400696334240856,
          -0.39387467209683963,
          -0.14461715987712426,
          -0.3574665666363198,
          -0.3950311301133883,
          -0.17628967436451717,
          -0.35187826212308365,
          -0.39097831426150637,
          -0.35361932150095465,
          -0.3536184226047314,
          -0.3467470291868233,
          0.27513566474805995,
          -0.39550903655331493,
          -0.17322681074751847,
          -0.29222408029071234,
          -0.087209627327223,
          -0.3592503947606241,
          -0.35283114137842636,
          0.8824194869766318,
          -0.25568377539606896,
          -0.1730489107087809,
          -0.3569246010970629,
          -0.12714637858299022,
          0.5831856534430396,
          -0.12047798143951752,
          -0.008435658175022436,
          -0.1492900114186366,
          0.36315552276041185,
          -0.3567426451398787,
          -0.2147556586687494,
          -0.35524762441765984,
          -0.4058980834715148,
          -0.17336795277944422,
          -0.2699082138950682,
          -0.17313129160423876,
          -0.21514975842146894,
          -0.2157261475360469,
          0.11045349723707654,
          0.3275015893246089,
          -0.2699789290307403,
          -0.14438931661241747,
          3.229185180281445,
          -0.1015873093650663,
          -0.3291044550791123,
          -0.20660978009895012,
          -0.40540432677515137,
          -0.12060071692349703,
          -0.3957810498115344,
          -0.30963281447027996,
          4.323319606193244,
          -0.09936023633751435,
          -0.35911664620908945,
          1.5685632914615766,
          -0.1734655258339231,
          -0.17291787178423673,
          -0.17261946228605302,
          -0.17260642868690038,
          -0.35325518472104744,
          -0.3537540399299167,
          0.3276851290130467,
          -0.440376045914417,
          0.6602290566785771,
          -0.39572182414144796,
          0.07109179817247256,
          -0.3270722948379422,
          -0.17021503411035094,
          -0.353709634645534,
          -0.15177863205035041,
          -0.3051932843264123,
          -0.1407621391654758,
          0.4136056331259434,
          -0.29924858154765915,
          -0.34153659316930535,
          -0.38024836735768475,
          -0.14539183904697744,
          -0.3536600446453274,
          -0.4013316926379961,
          -0.17179900112841984,
          -0.34282745837837514,
          -0.3535308759790218,
          -0.08384084028960125,
          -0.21127860622126088,
          -0.1516242426732241,
          -0.12699567931518577,
          -0.15172433779477904,
          -0.39451634578618344,
          3.767466822960421,
          0.20158516883056446,
          -0.26665655458050924,
          -0.09958726991583577,
          -0.3509957061909441,
          1.1638180096696458,
          0.32708998093254427,
          -0.05196951682221644,
          -0.31265511635382176,
          -0.3589225196142558,
          -0.2110184276727098,
          -0.11627702447433746,
          0.06009480075599861,
          -0.352670102634322,
          -0.09001929784562937,
          -0.3950970522005266,
          1.1347855912499196,
          -0.2157002056748989,
          -0.15177627095400273,
          -0.3580883136639992,
          -0.14482716135216753,
          -0.17271801994280792,
          -0.3402607151380129,
          -0.3537761131962665,
          -0.35194760688467386,
          -0.21562577632442909,
          -0.12058018047934652,
          -0.18413596181737912,
          -0.3584249679808583,
          -0.26536090570908205,
          -0.3686746262538899,
          8.0561960573485,
          -0.09869712491551197,
          -0.34933077305199167,
          0.3309578642884198,
          0.018925622731146355,
          -0.14489709385514518,
          -0.15376402179382112,
          -0.21805703073048696,
          -0.24421445872370395,
          -0.38983650844801027,
          -0.17329048195385421,
          0.13317768142300773,
          -0.20977673732697324,
          -0.3642795459068985,
          -0.3957980563818667,
          -0.2621768105154035,
          -0.30879378646850697,
          -0.3125598922839507,
          -0.08008536615703256,
          0.33500372533551337,
          -0.17352708246417353,
          -0.11267294319131457,
          -0.35634221176871894,
          -0.3538034052247352,
          -0.3537851416986426,
          -0.13975536741016142,
          -0.30318598436721267,
          -0.15272453904843053,
          -0.34624735806645285,
          -0.35871189032156925,
          -0.3535021215638942,
          3.9640750942429612,
          -0.21479632049626848,
          -0.40000337465989266,
          -0.35890014052098823,
          0.32727207679298936,
          -0.3177933093017841,
          -0.3004549241139685,
          -0.1763493086238975,
          -0.1294364188357542,
          -0.19316140456450495,
          -0.1574701874638414,
          -0.3093277569374846,
          -0.1550227090598033,
          0.33119676355505495,
          0.6132822928009835,
          2.133106052042283,
          -0.1573309209449497,
          -0.3095789010712227,
          -0.15469797477082844,
          -0.36076557438236034,
          0.34085214349427473,
          -0.35297692886357745,
          -0.2054473873694514,
          2.1600267431349924,
          -0.3546344487717104,
          -0.2558123840145344,
          1.0366500634723563,
          -0.1816522378297801,
          -0.1483651916688917,
          -0.21568239957806057,
          -0.3609827125148875,
          -0.35903572773357856,
          -0.40301362896284165,
          -0.19042943175368307,
          -0.34897290899303657,
          -0.3577577975124167,
          -0.17355158407814653,
          -0.3466872848434483,
          -0.11614803065235664,
          -0.0960598259363735,
          -0.08083042351529003,
          3.131254605379615,
          -0.3515257536968063,
          -0.39527252889309816,
          -0.30682926742700584,
          -0.3580008001376441,
          -0.08051196795546613,
          -0.34175997534044333,
          -0.35138695562251165,
          -0.2156537938520024,
          -0.2134482623921358,
          -0.6058122224641018,
          -0.18108055798273323,
          -0.03570101002356088,
          -0.21831855089230345,
          -0.15442119451228778,
          -0.12060075438704815,
          0.7073995461706488,
          -0.1424768953102449,
          0.4069146713571757,
          -0.4023095894130123,
          -0.122408222705353,
          -0.12280016257746935,
          -0.2764707360730036,
          -0.15590526367949506,
          -0.1724456863418051,
          -0.35350619601707406,
          -0.1388245424011308,
          -0.4027648889199649,
          -0.1405952903544751,
          -0.3591524778131489,
          0.5514440274466618,
          -0.1859468780770613,
          -0.3520017889309649,
          -0.3529897555485497,
          -0.2566421954810716,
          -0.31554893574267423,
          -0.3928392748904685,
          -0.11987833336622343,
          -0.0902410899945737,
          -0.11874806851340759,
          -0.39549938952643515,
          3.7796811231214025,
          0.0806633025598044,
          0.5216793463912598,
          -0.3930461679157959,
          -0.07709610136728588,
          -0.352375492799433,
          -0.07331450378981645,
          -0.353200031188415,
          -0.2570245205722842,
          -0.35371761385777295,
          -0.38714438370041504,
          -0.15713804031442866,
          -0.2675271838429419,
          -0.081168205925399,
          -0.3828982140531704,
          -0.12039118761081943,
          -0.35299772974605004,
          0.5407959278881015,
          -0.34607632408702393,
          -0.18344887528264775,
          -0.3920752165440041,
          -0.3514394069908485,
          -0.35949132816366614,
          -0.17362842362662037,
          -0.17158751147080756,
          -0.40430813346218675,
          -0.2994248534504104,
          3.763010677379431,
          -0.1172668944146455,
          -0.34864015209674654,
          -0.3316904098721783,
          -0.11006989729197249,
          -0.270377218797193,
          -0.09307763318577937,
          3.7728495900320884,
          -0.1286622439503292,
          3.7740903068278517,
          -0.2379616499011621,
          -0.35942737542742575,
          34.00841438845563,
          -0.3568525802309842,
          2.5054191358066475,
          -0.3518825862745437,
          0.34880509059479364,
          -0.14088282447578518,
          -0.30997481476814054
         ],
         "y": [
          0.8291400255562273,
          0.8289982730933929,
          1.5966916104628663,
          -1.1781070423866156,
          -1.8128841884846698,
          -1.1831063548397178,
          1.2028556191018882,
          -1.9816525788349415,
          -1.8129973750552106,
          -2.097972488935449,
          0.9461531785684774,
          -1.6779806036162737,
          0.8340996681637989,
          0.6780442840151901,
          -1.1830801396601567,
          1.8041967630859155,
          -0.8093525713521117,
          -1.183102581087591,
          0.8291334507114076,
          0.829228541596579,
          -1.6690221177929603,
          -1.3914849568906016,
          -1.178166588394645,
          -1.1831872708244868,
          -1.1831227953701497,
          0.8291571685068642,
          -0.38832930990682546,
          -1.1023875789323272,
          -1.1830910288181211,
          0.8291397601303565,
          -1.1830799374424108,
          0.8291396275760631,
          -1.1830760219348397,
          -0.8093523429472186,
          -0.4807014611492011,
          0.9098587638450646,
          -1.6749379788897416,
          -1.1868806178741966,
          -1.188649935883935,
          -1.1830780303209132,
          -1.1832017680154305,
          -1.1830841974846975,
          1.58259853143262,
          0.11076130497223753,
          -1.1830754845163545,
          -1.432649721871726,
          -1.1837174183965309,
          -1.183098389511699,
          -1.183102953577938,
          0.8290873308480562,
          1.0470380915350355,
          -1.2196223580422696,
          1.202856819834887,
          -1.178106601888439,
          -1.183192505204719,
          -1.183077708249562,
          -1.1830701243540274,
          1.0012424545858467,
          -1.183087026254825,
          -1.945923048930437,
          0.6760442870925886,
          -1.1830741644267762,
          0.8330232231093729,
          0.673071466118948,
          1.7631315845165292,
          -1.190881173964463,
          -1.1781074868689734,
          -1.1832058259434375,
          1.7631244897474234,
          0.5797115470565918,
          0.8289430906711073,
          0.8290971389219156,
          0.8332237520898913,
          -1.1830807893874316,
          -1.1832018593671283,
          -1.1830937689358738,
          1.0468113334872615,
          1.2028663011091107,
          -1.1785016285176761,
          0.18793264638886364,
          -1.1781175928622005,
          1.6773952734668969,
          1.202861073463394,
          -1.1781177424476212,
          -1.1781412444916677,
          -1.1780982496655066,
          -0.8093431013854954,
          0.8284247146712229,
          0.8290927486078999,
          -1.183078803723069,
          -0.022941717537304004,
          -1.2401180237172462,
          -1.1831969406893235,
          1.2028642846382276,
          0.18798967099878416,
          -1.1781171055894697,
          1.7631269884634349,
          0.8286178924894038,
          -2.165887441275946,
          -2.095874337832153,
          -1.1643351645777482,
          1.4645541065147971,
          -1.1831170995237699,
          0.8340799719355728,
          0.9098680907846056,
          -1.1839235479273267,
          0.6730817807401892,
          -1.1831406946994891,
          1.7631161471831538,
          -1.1830709464825089,
          0.6728309482528279,
          -1.183135173579196,
          0.8291402300468264,
          1.7631179395514778,
          -1.1835018916709972,
          -2.1525620882585326,
          1.0467937895200483,
          -1.6681627281581033,
          -1.4977370320768513,
          -1.1830699627375842,
          0.829130787168522,
          -1.1878547990068018,
          -1.8292075076265704,
          -1.1830697954073217,
          -1.178107803611802,
          -1.2330023921794475,
          1.2028665123503792,
          -0.05243608260685362,
          -0.8093566917258739,
          -2.0575050531683026,
          -1.1781252658042949,
          1.8381354392091616,
          -0.8093524574150247,
          1.5889769217114982,
          -1.183179116497224,
          -1.18319469932285,
          0.6730376492628801,
          -1.8129069030511904,
          1.7630984508955425,
          -1.9418929959737925,
          0.83357467895068,
          1.804370778553694,
          -0.8093497431353297,
          -1.1781066146864407,
          0.9471016777070003,
          -1.1831542691722448,
          -2.1270833973060412,
          0.8340999998189198,
          1.1899881423044625,
          -1.1831054080218135,
          0.8341064447132546,
          -1.1868073437631237,
          1.4634015747516589,
          0.8291184836833556,
          0.6729636564462681,
          -0.8093825764650417,
          -1.9895290647740156,
          -1.1831608292306317,
          -1.9898693096391404,
          1.2026593358333046,
          0.6244960745724978,
          0.8340903288875446,
          -0.4654300088843264,
          1.5825896713135907,
          -1.1830794851219042,
          -0.8093549362328917,
          1.2028443391683177,
          0.8339907119756507,
          0.8338288073127912,
          1.4619616546137786,
          1.202794256717554,
          -1.1830697941848802,
          1.5805986018617664,
          0.8281677942877639,
          0.8291165942520703,
          0.8290996809584386,
          1.6069524935533024,
          -0.8093566463312257,
          1.0465392056735565,
          -2.1818050329011003,
          1.202841332148154,
          0.8290971912654092,
          -2.091413294638291,
          0.8341001143154407,
          -1.1781025563835483,
          1.2028647648527673,
          0.829128987529769,
          -1.6686837944328918,
          0.8291402958042081,
          -1.1831618183634252,
          0.6731016193582774,
          -1.1781026472994147,
          -0.060975617638390545,
          -1.183084279004971,
          1.747343825809239,
          1.5825678899310014,
          0.8291446953988512,
          1.20208904911031,
          -2.1381981853631746,
          1.5825967469506899,
          1.607059338069756,
          1.7225611391580378,
          1.5824368551316617,
          1.7515484417403755,
          -1.8129097616704533,
          -2.0979727354317714,
          2.4086337690164927,
          1.2028525742302878,
          -1.188469685390988,
          -0.8094998586885789,
          1.775503716319774,
          1.2028647468780578,
          1.5825775679291718,
          0.8291214886681691,
          0.8291175713693626,
          -0.8094584679562978,
          1.5825896713135907,
          1.2028345820728,
          0.8341023037740445,
          0.829124934913209,
          0.5155771006699134,
          0.8291263721864209,
          0.8287884013498603,
          1.2028637012311243,
          -2.0914202182965886,
          0.829063036851032,
          0.660140821947181,
          0.8291334536376852,
          0.8291386878308729,
          1.4679094553314123,
          0.5144330753903976,
          -1.18307089411598,
          -2.0914212220842594,
          -2.057476426762979,
          0.8288719897714659,
          0.8341003832593914,
          1.2028620129440728,
          0.8291308173979615,
          -0.8635433134422723,
          0.8291281642203524,
          -1.9817538554090157,
          0.673048549838819,
          -0.09133149227011994,
          -1.1830709351534932,
          1.6070544867397807,
          -0.8098817852576087,
          -2.097970382215994,
          0.8287365794258569,
          -1.1831099119096258,
          -2.0574800748811697,
          0.6730643308887746,
          -2.0969286087106846,
          1.2028138602426606,
          1.875581016917232,
          1.202822010226186,
          -1.185231610621542,
          1.58255336197171,
          1.20281502461126,
          -0.550235472427183,
          1.582436559782069,
          1.2026118755339479,
          0.829129260631972,
          0.8291246629312042,
          0.8285973467570865,
          0.637357268605319,
          1.2028469835625597,
          -1.183085999616315,
          0.6720336099982824,
          -1.1792714478501451,
          1.5825830444674234,
          0.8290860123094855,
          1.761199700675146,
          0.6779422428198194,
          -1.1831067186337136,
          1.5805710636708152,
          -1.9817023467058508,
          1.7568911182154916,
          -2.027061424014517,
          -1.946669791402377,
          -2.2230364830201057,
          -2.0922423908002745,
          1.4619940307396107,
          -0.809392649472566,
          1.4619425153020928,
          1.855254276558889,
          -1.183077481938832,
          1.7631090586712481,
          -1.183109531733307,
          -0.8093722067128403,
          -0.8093531621385056,
          0.8032625820749906,
          -2.091436292481863,
          1.7631151745598046,
          -2.0308123393852684,
          -1.2689052855718503,
          -1.0266555462671532,
          1.5854484983677972,
          -0.8099232317399846,
          1.8552599221253687,
          -1.1781070328562941,
          1.2028628923585685,
          0.6730711466974616,
          0.33195083395423247,
          -1.1887683367959319,
          1.582564864159232,
          -1.1631483846208106,
          -1.183079048655091,
          -1.1831127050047747,
          -1.1831192725626587,
          -1.1831191235377425,
          0.8291165587840673,
          0.8291383310993514,
          -2.0914559548548426,
          0.9476793569760222,
          1.3416884759139898,
          1.2028526589487378,
          -2.1086338560473323,
          0.579521487144925,
          -0.8099437027425104,
          0.8291316452378201,
          -1.4325105003551533,
          0.6160582951869412,
          -2.0979711210835013,
          0.8223218308275121,
          0.8340699771318786,
          1.4614256667374146,
          1.8344482248990468,
          -1.9895936774029495,
          0.8291289273118836,
          1.6238738916006257,
          -1.1831098914888565,
          1.4475883260423983,
          0.82913427859952,
          0.6744183820658384,
          -0.8095088235544675,
          -1.4325199620681377,
          -1.8130493817260174,
          -1.4325128734228663,
          1.202793466861496,
          2.4084552972243563,
          1.449672490631804,
          1.7630339679680425,
          -1.6684629063950072,
          0.8290415077454448,
          -2.1348565740969736,
          -2.091415114332045,
          -1.8182541123857556,
          1.3059236479260943,
          1.4679076384163199,
          -0.8096305929896002,
          -1.982135974873762,
          0.8026867855928554,
          0.8290597861453592,
          -1.1852310653863474,
          1.2028454569373648,
          -1.1097537405065392,
          -0.8093534268710775,
          -1.4325067310298583,
          1.467854804500966,
          -1.4327260381587448,
          -1.1830979454889226,
          0.828733882792579,
          0.8291382034600427,
          1.0467934860149577,
          -0.8093545717617228,
          -1.178106277860875,
          -0.9693153885560053,
          1.58060068772981,
          0.043247697423035386,
          -0.15435332014943698,
          -2.626754921754283,
          -1.9038477141057282,
          0.82904682255842,
          -2.0915726632181633,
          -1.1871040069544445,
          -1.9895529008166928,
          -1.2405869025143732,
          1.6066582291358864,
          2.1444820041361914,
          3.3806182564663003,
          -1.1830895216493946,
          -1.1910412736490679,
          -0.8095852095489621,
          1.042896075965174,
          1.2028530347595636,
          2.0891690747192393,
          0.6730142550298237,
          1.6172436030939827,
          -1.8163925611946432,
          -2.0919405542809315,
          -1.1830803762091269,
          -2.0270087756160984,
          1.4619736603978681,
          0.8291385151270779,
          0.829137476507559,
          -2.097990172103718,
          0.6728438548304119,
          -2.1383466407699765,
          1.4583960414402264,
          1.5825530258307219,
          0.829125119496055,
          2.4128575251588145,
          -0.8093931143959832,
          1.6238890794603673,
          1.582555863167747,
          -2.091416712222128,
          0.6823552321888857,
          0.8265556968006197,
          -0.5502191566223862,
          -2.0574848139401176,
          2.475302276955356,
          -1.9953192864265508,
          0.673069274365819,
          -2.138192350462331,
          -2.0917345944549486,
          -2.031523829172316,
          -2.185522252370702,
          0.8250248748705727,
          0.6730551758217561,
          -2.2378972324865707,
          1.755421919279213,
          -2.091873684031358,
          0.8290974435400472,
          1.648276506516187,
          -0.3963232619838257,
          1.4675637232865792,
          0.6780030334415231,
          1.9601493932752176,
          -1.1737793465490554,
          -2.083370018011194,
          -0.8093539717436319,
          0.8384014155611882,
          1.467905720284137,
          1.6239761920051394,
          0.6639165449052912,
          0.7721033725601151,
          1.467871058019947,
          -1.183081345734469,
          0.8285980298681507,
          -1.9826026144538615,
          -1.9476315773412114,
          0.07688008716197549,
          -2.11769791554711,
          1.0467771029140822,
          1.2028434505537735,
          0.6729518910329338,
          1.5824850623494857,
          -1.1789453788752267,
          0.9877575943030805,
          1.0467506224522807,
          -0.8093561395543488,
          0.8195182072252089,
          0.09177448180431061,
          -1.1738214130747833,
          -2.101497047187878,
          1.9331133576036064,
          -2.138231316330123,
          -1.178107033284649,
          3.1438562036085957,
          1.0492016520935183,
          -2.0955342793766873,
          1.6239537737560017,
          -2.0887673330100403,
          -2.088721984556128,
          -0.2418696916977175,
          -2.042746740794929,
          -1.1831297600544186,
          0.8291306864022714,
          -2.0980997826373606,
          1.6239703757029973,
          -2.0979753794606095,
          1.467909144369703,
          0.7928365331398448,
          -1.49779039302995,
          1.0467936773405575,
          0.8290972968809672,
          2.0889579195326506,
          1.7528826868238139,
          1.2026404952061032,
          -1.1781255932150116,
          -0.2490881693710909,
          -1.178177536907239,
          1.2028533310803142,
          2.4082830936262623,
          0.8122777857287766,
          -1.2363054297738612,
          1.2029000926235136,
          -1.4341346328492866,
          0.8290319686129224,
          -2.092506484764282,
          0.8291134445063881,
          0.6780386115270038,
          0.8291413672216729,
          1.2026557123264807,
          -1.183503608788009,
          0.82357778498363,
          0.8365073521975592,
          1.2023924018920382,
          -1.1781177352689425,
          0.8291402424853569,
          -1.2060858504980196,
          0.8289792484093019,
          -1.1023956682731504,
          1.2027814603246754,
          0.8290676205861567,
          1.5825933878087288,
          -1.1830715553908846,
          -1.1831586184960423,
          0.7590660564084831,
          0.8340648430486417,
          2.4086164622766137,
          0.6690387709612946,
          0.8290123059927245,
          0.5796806444827486,
          -1.668172854004002,
          1.7631223329115615,
          -1.9164753407252217,
          2.408828703993231,
          -1.8129090687133549,
          2.4088428902294976,
          0.6776459512457393,
          1.5825943472328843,
          1.5060978102537992,
          1.9133805928358814,
          1.125772372320434,
          0.8290064183857275,
          -2.0920323782304906,
          -2.0979725009877086,
          0.6730774690053929
         ],
         "z": [
          -0.5762370489909743,
          -0.5766560392494277,
          -0.6661042259293053,
          0.2567661694351403,
          0.4202297882949714,
          0.022691858459994538,
          -0.5005461201329395,
          0.47538629176992664,
          0.42021866123401386,
          0.41318698075343124,
          -0.1612543942342267,
          0.42345924035266075,
          -0.34218380184936864,
          -0.0665281679271471,
          0.022716061332954535,
          -0.5697664348714709,
          0.09840934590497263,
          0.022711802143878395,
          -0.5762445766690145,
          -0.5764756376355344,
          0.4279220640764752,
          0.006269235483543102,
          0.2567026183154901,
          0.022660002567321334,
          0.022712080291535448,
          -0.5762832565351258,
          0.05395218688800613,
          0.15090106543374682,
          0.022704506313829975,
          -0.576237086380254,
          0.022715516269365847,
          -0.5762374819786849,
          0.022716797713515247,
          0.09841174181228861,
          0.0553564921725088,
          -0.4480343358645951,
          0.42195124556246766,
          0.24882499785809395,
          0.017432666901012934,
          0.02271037575865181,
          0.022624102316783766,
          0.02271043535038934,
          -0.23429922393614194,
          -0.3872010352245783,
          0.022718216423481534,
          0.2780007428934295,
          0.022326299243280286,
          0.02269146937888399,
          0.022700389969455184,
          -0.57627570747001,
          -0.22551278952611437,
          -0.01517886943366146,
          -0.500549356623562,
          0.2567649821035679,
          0.022650891162668378,
          0.022711013416422586,
          0.022718654328373274,
          -0.49392690269297046,
          0.02270300231708996,
          0.604594387726317,
          -0.30857323489747257,
          0.02271651907600367,
          -0.342891972188735,
          -0.30058457033500635,
          -0.6416771800731091,
          0.021188143494571977,
          0.25676736750582035,
          0.022579013866332313,
          -0.6416580566262575,
          -0.32086405904818227,
          -0.5763386517803609,
          -0.5762690173158168,
          -0.5872444441162206,
          0.022717812626734304,
          0.02269932494916044,
          0.022707323575644298,
          -0.22490157929363613,
          -0.5005417871099112,
          0.2565242386168838,
          0.10531029673380166,
          0.25675543923798777,
          -0.28245549330046,
          -0.5005427526384487,
          0.2567633893472921,
          0.2567695178663155,
          0.25677371417784867,
          0.09841393584675293,
          -0.576718224381145,
          -0.5762601950923214,
          0.02270944885279707,
          -0.4591401308577371,
          0.27969436765228073,
          0.02266284669678342,
          -0.5005446321302931,
          0.10530716876802271,
          0.2567571554065658,
          -0.6416647917380194,
          -0.5763354545357934,
          0.4175142836192032,
          0.4915082076169218,
          0.8599420153289202,
          -0.04743441679569982,
          0.022689017957009932,
          -0.3421999778629335,
          -0.4480528806597711,
          0.02249132236961357,
          -0.3005880091727724,
          0.022660364069047787,
          -0.641653639175078,
          0.0227189459327715,
          -0.3006647971219682,
          0.02265509818085905,
          -0.5762376001176399,
          -0.6416554588202489,
          0.022378707052403985,
          0.5239114648651166,
          -0.2248844063395451,
          0.428617196780691,
          0.27487035404210675,
          0.02271517501742095,
          -0.5762422630740427,
          0.020559655733360417,
          0.30314297021351705,
          0.022718867680003217,
          0.2567682212636473,
          0.01877797390536734,
          -0.5005423549899881,
          -0.11931705953879553,
          0.09840087696289437,
          0.41773914240044047,
          0.2567659600692894,
          -0.8769100322971526,
          0.098407533017385,
          -0.4876499359917705,
          0.022697892899905755,
          0.022680025557712626,
          -0.300619633731362,
          0.4202655565128345,
          -0.6416631596606875,
          0.4136070323096315,
          -0.342241381796155,
          -0.5697480577892908,
          0.09840774576026569,
          0.25676501659967305,
          -0.35757143244432343,
          0.022631280084775447,
          0.37592213527499535,
          -0.3421846958022208,
          -0.5058080346526425,
          0.022689306379508653,
          -0.34218475110783175,
          0.24768445388600496,
          -0.5617731979860461,
          -0.5762422270240734,
          -0.3006024697635078,
          0.09839385275032726,
          0.4123717423723118,
          0.022711675963482815,
          0.5193517816664253,
          -0.5005621442331196,
          -0.3187007315869465,
          -0.3421857325012462,
          0.07119087178309702,
          -0.23430545767883307,
          0.02271580284977651,
          0.0984081913821017,
          -0.5005955221194922,
          -0.3421923655126942,
          -0.34221112209984306,
          -0.5580275154391382,
          -0.5005568982342133,
          0.022718868947506195,
          -0.16554860099740157,
          -0.5766280250130932,
          -0.5762406476781576,
          -0.5762788807514462,
          -0.36600356375107096,
          0.09841280083085326,
          -0.2251573743867912,
          0.3593134241226832,
          -0.5005497724536556,
          -0.5762571121779764,
          0.49452650687045024,
          -0.34218349864121933,
          0.2567710388183331,
          -0.5005421620688906,
          -0.5762389180536948,
          0.4282147600600417,
          -0.5762377773619972,
          0.022666686176608067,
          -0.3006414827605574,
          0.25676992521489733,
          -0.3133114489851689,
          0.022713666639008263,
          -0.7875923331140615,
          -0.2343280595327349,
          -0.576249636157268,
          -0.5007054253539897,
          0.4373298284243441,
          -0.23435464496815891,
          -0.3659941645480646,
          -0.8191658405317299,
          -0.23431667618932253,
          -0.7801123836215634,
          0.42025925927249647,
          0.4131876451667825,
          -0.5341170407656429,
          -0.5005499591235464,
          0.022217038364387088,
          0.09808357491164715,
          -0.6763052952338025,
          -0.5005433985402385,
          -0.23431800721224585,
          -0.5762451167547259,
          -0.5762397679464206,
          0.09838158081333157,
          -0.23430545767883307,
          -0.5005466358868781,
          -0.34218789439332326,
          -0.5762460638522534,
          -0.1554906070847427,
          -0.5762424090289834,
          -0.5762690202480408,
          -0.5005423067087041,
          0.49452860553948813,
          -0.5762463634023895,
          -0.31466682744550845,
          -0.5762389099047609,
          -0.576238436026898,
          -0.2692412942160924,
          -0.32409815877959386,
          0.022718674854925187,
          0.4945252880649424,
          0.41774598797049944,
          -0.5762674666091215,
          -0.342184223560561,
          -0.5005443122092244,
          -0.5762423445553516,
          0.0939289375346411,
          -0.5762381042740973,
          0.47538070661462656,
          -0.30058125543923553,
          -0.47503294201700685,
          0.022717813166532527,
          -0.3659991947053751,
          0.09836014176030568,
          0.41318732535359015,
          -0.5766553667538322,
          0.022677353837593783,
          0.41773925765202313,
          -0.3005928128951421,
          0.385409505613248,
          -0.5005510127937267,
          -0.6381566112706707,
          -0.5005880382787099,
          0.022523707029312605,
          -0.23434354518694386,
          -0.5005541512666912,
          0.04095798162766951,
          -0.23446495214236412,
          -0.5006088886400402,
          -0.576239973588499,
          -0.5762387053197453,
          -0.5762800749717631,
          -0.06977375070950038,
          -0.5005499476577804,
          0.022709991926572835,
          -0.3007742957943019,
          0.25617191747798607,
          -0.23430265326758523,
          -0.5762495667690496,
          -0.5888639234435036,
          -0.06653558333213248,
          0.022710908379937344,
          -0.16557450801087625,
          0.47536233081919865,
          -0.8428049607760664,
          0.5320130642484094,
          0.42597015575321884,
          0.4057361892725372,
          0.49376477804151686,
          -0.5579943207295545,
          0.09839691137554389,
          -0.5580211001297054,
          -0.6644026623514384,
          0.022711492390734386,
          -0.6416616366025983,
          0.02271397355558511,
          0.09840204049689623,
          0.09841259468386594,
          -0.5817751482489134,
          0.49452224168335207,
          -0.6416614046787313,
          0.3850994075302877,
          -0.04707237494237223,
          0.27398161844866215,
          -0.06586433800961565,
          0.0983212799883371,
          -0.6644178795754097,
          0.2567661437468502,
          -0.5005469134007544,
          -0.30058555527735126,
          10.504806950414912,
          0.022269142915453514,
          -0.23430123207654238,
          -0.030976949154408875,
          0.022714626384443715,
          0.022708974879462784,
          0.02270258481383678,
          0.022702183127745638,
          -0.576246452720216,
          -0.576238805908081,
          0.49452270528617404,
          -0.1600840506026417,
          -0.22068817378313987,
          -0.5005456701413623,
          0.4103342175873904,
          -0.32094840055502627,
          0.09732241334734029,
          -0.576238151284592,
          0.27809076665108684,
          -0.04358978764736264,
          0.41318329380553637,
          -0.5955035449835326,
          -0.34222122248262044,
          -0.5582542119985695,
          -0.5574127508949362,
          0.41235571119909037,
          -0.5762387557406561,
          -0.5449160486640459,
          0.022677298794857182,
          -0.1624518534497109,
          -0.5762438262779632,
          -0.07028798846641326,
          0.09833360580947055,
          0.2780891660187292,
          0.42025343704841706,
          0.2780899353511619,
          -0.5005622981244953,
          -0.5342006495543818,
          -0.569940773176896,
          -0.641730275024037,
          0.42843249227873015,
          -0.5762877145900772,
          0.48364869135106137,
          0.49452764728025483,
          0.4196462547329352,
          -0.2823392404131156,
          -0.2692439257416037,
          0.09836067103370526,
          0.47518425397265796,
          -0.5802231296759863,
          -0.5762466360253504,
          0.021016459136349527,
          -0.5005608905303763,
          0.22623603606182022,
          0.09841195305130801,
          0.2780896413716434,
          -0.26925209349575885,
          0.27795950039824446,
          0.02269930721649754,
          -0.5764975203449522,
          -0.5762381607097288,
          -0.2248850940413539,
          0.09841022053242342,
          0.2567653645293163,
          0.07417367325372871,
          -0.16554142419161053,
          0.09697261589144819,
          -0.2944906163021579,
          0.43173869390098973,
          0.4312745571584731,
          -0.5763351674129772,
          0.49446518986248894,
          0.018535949014376364,
          0.4123305862568979,
          0.27942832648587196,
          -0.3661138618388582,
          18.942697657919467,
          11.63897810651242,
          0.022712740032643907,
          0.01648952469062511,
          0.09831363210136687,
          -0.5247820959895445,
          -0.5005436715562818,
          -0.7702299162652265,
          -0.30059271491369005,
          -0.05963418362318353,
          0.4198987994290599,
          0.49445697736636407,
          0.022716698933923543,
          0.35051952424537,
          -0.5579996450484423,
          -0.5762374950078609,
          -0.5762377070391271,
          0.4131608613447972,
          -0.3006995858863064,
          0.4373104696216364,
          -0.16138674903352443,
          -0.23430907530035244,
          -0.576242044047467,
          -0.655195806778241,
          0.09839816454363466,
          -0.5449569864626155,
          -0.23430467691502332,
          0.4945230701879413,
          -0.009184038873797581,
          -0.5769836968420332,
          0.040955039002132265,
          0.4177440809400808,
          -0.7573402084929192,
          0.49633649205808356,
          -0.3005934493623524,
          0.43733051384596705,
          0.494504137786062,
          0.35501611793998855,
          0.4711423862039163,
          -0.5805038903337781,
          -0.30058255174545423,
          0.6183026037842182,
          -0.7794012738267753,
          0.4942767333521441,
          -0.5762487574968578,
          -0.2940978303006734,
          -0.3943783216204811,
          -0.26926556720388994,
          -0.06654913035158565,
          -0.3462877944759377,
          0.31411247437608375,
          0.5454064468671004,
          0.09841161478272514,
          -0.28485710466225705,
          -0.26924026133061973,
          -0.5448983927610764,
          -0.30130130301281,
          -0.3192462501743025,
          -0.2692657881381802,
          0.022717647939722137,
          -0.5762819162491792,
          0.47531193344860645,
          0.4383354602628379,
          -0.1712855456611406,
          0.3097472075735558,
          -0.22489213101565086,
          -0.5005554824657313,
          -0.30062940302615077,
          -0.23430958950444253,
          0.2558953329867758,
          -0.32393634624255574,
          -0.22488851483060723,
          0.09841143484972995,
          -0.5774061286794713,
          -0.08912957863249378,
          0.3141085249959382,
          0.4112748841355115,
          -0.4945726319648874,
          0.4373248688770225,
          0.25676614490144967,
          -1.0173304554842402,
          -0.2313445135372883,
          0.49348269841580306,
          -0.5449115217226012,
          0.495629801979696,
          0.495627866872639,
          0.08988416582214745,
          0.7101179472999175,
          0.022700737538901616,
          -0.5762434972440138,
          0.41316599471597815,
          -0.5449036230607565,
          0.4131798858351635,
          -0.2692380016223119,
          -0.5910157735674944,
          0.2748636068808082,
          -0.22488365223420906,
          -0.5762483621877114,
          -0.7703233048690092,
          -0.7799352662993279,
          -0.5005655686760367,
          0.25675142341235424,
          -0.04269671931096884,
          0.2567348330119033,
          -0.5005519991591041,
          -0.5344893760969848,
          -0.5834883164205172,
          0.01849583010177514,
          -0.5006328682341719,
          0.2764860435857303,
          -0.5762469447525136,
          0.49532625994322377,
          -0.5762470992774555,
          -0.06652567725276443,
          -0.5762406652917713,
          -0.5007270476047058,
          0.022383335419504324,
          -0.5770550956697187,
          -0.34892651411730563,
          -0.500770202132682,
          0.2567633699976737,
          -0.5762602203185919,
          0.0094690317239202,
          -0.5764059968337484,
          0.15089124833482565,
          -0.5006263051642986,
          -0.5762828109872931,
          -0.23429891166707603,
          0.022717015496091487,
          0.02268516516959328,
          -0.06091678242412514,
          -0.3422149128167044,
          -0.5341229710432717,
          -0.30476145013229106,
          -0.5763445233797242,
          -0.3208656864526675,
          0.42864027410092015,
          -0.6416524237215805,
          0.2864148944727465,
          -0.5344542518860839,
          0.4202599777729888,
          -0.534492489879624,
          -0.06694144622673677,
          -0.23430094682279765,
          -1.365849589872801,
          -0.41876540782968774,
          -0.2551506342649706,
          -0.5762533648401233,
          0.4941018358068147,
          0.413187013239441,
          -0.3005778929757368
         ]
        },
        {
         "customdata": [
          [
           "Proof-of-Authority"
          ]
         ],
         "hovertemplate": "<b>%{hovertext}</b><br><br>Class=%{marker.color}<br>PrincipleComponent1=%{x}<br>PrincipleComponent2=%{y}<br>PrincipleComponent3=%{z}<br>Algorithm=%{customdata[0]}<extra></extra>",
         "hovertext": [
          "Poa Network"
         ],
         "legendgroup": "2",
         "marker": {
          "color": [
           2
          ],
          "coloraxis": "coloraxis",
          "symbol": "diamond"
         },
         "mode": "markers",
         "name": "2",
         "scene": "scene",
         "showlegend": true,
         "type": "scatter3d",
         "x": [
          -0.3967167302903927
         ],
         "y": [
          4.953938197816398
         ],
         "z": [
          9.005209454296969
         ]
        },
        {
         "customdata": [
          [
           "ECC 256K1"
          ]
         ],
         "hovertemplate": "<b>%{hovertext}</b><br><br>Class=%{marker.color}<br>PrincipleComponent1=%{x}<br>PrincipleComponent2=%{y}<br>PrincipleComponent3=%{z}<br>Algorithm=%{customdata[0]}<extra></extra>",
         "hovertext": [
          "Acute Angle Cloud"
         ],
         "legendgroup": "1",
         "marker": {
          "color": [
           1
          ],
          "coloraxis": "coloraxis",
          "symbol": "square"
         },
         "mode": "markers",
         "name": "1",
         "scene": "scene",
         "showlegend": true,
         "type": "scatter3d",
         "x": [
          -0.33162303962933315
         ],
         "y": [
          4.64351031499303
         ],
         "z": [
          16.42047494682594
         ]
        },
        {
         "customdata": [
          [
           "Leased POS"
          ]
         ],
         "hovertemplate": "<b>%{hovertext}</b><br><br>Class=%{marker.color}<br>PrincipleComponent1=%{x}<br>PrincipleComponent2=%{y}<br>PrincipleComponent3=%{z}<br>Algorithm=%{customdata[0]}<extra></extra>",
         "hovertext": [
          "Waves"
         ],
         "legendgroup": "3",
         "marker": {
          "color": [
           3
          ],
          "coloraxis": "coloraxis",
          "symbol": "x"
         },
         "mode": "markers",
         "name": "3",
         "scene": "scene",
         "showlegend": true,
         "type": "scatter3d",
         "x": [
          -0.31282713135305185
         ],
         "y": [
          8.234488995398987
         ],
         "z": [
          5.004533532458842
         ]
        }
       ],
       "layout": {
        "coloraxis": {
         "colorbar": {
          "title": {
           "text": "Class"
          }
         },
         "colorscale": [
          [
           0,
           "#0d0887"
          ],
          [
           0.1111111111111111,
           "#46039f"
          ],
          [
           0.2222222222222222,
           "#7201a8"
          ],
          [
           0.3333333333333333,
           "#9c179e"
          ],
          [
           0.4444444444444444,
           "#bd3786"
          ],
          [
           0.5555555555555556,
           "#d8576b"
          ],
          [
           0.6666666666666666,
           "#ed7953"
          ],
          [
           0.7777777777777778,
           "#fb9f3a"
          ],
          [
           0.8888888888888888,
           "#fdca26"
          ],
          [
           1,
           "#f0f921"
          ]
         ]
        },
        "legend": {
         "title": {
          "text": "Class"
         },
         "tracegroupgap": 0,
         "x": 0,
         "y": 1
        },
        "margin": {
         "t": 60
        },
        "scene": {
         "domain": {
          "x": [
           0,
           1
          ],
          "y": [
           0,
           1
          ]
         },
         "xaxis": {
          "title": {
           "text": "PrincipleComponent1"
          }
         },
         "yaxis": {
          "title": {
           "text": "PrincipleComponent2"
          }
         },
         "zaxis": {
          "title": {
           "text": "PrincipleComponent3"
          }
         }
        },
        "template": {
         "data": {
          "bar": [
           {
            "error_x": {
             "color": "#2a3f5f"
            },
            "error_y": {
             "color": "#2a3f5f"
            },
            "marker": {
             "line": {
              "color": "#E5ECF6",
              "width": 0.5
             },
             "pattern": {
              "fillmode": "overlay",
              "size": 10,
              "solidity": 0.2
             }
            },
            "type": "bar"
           }
          ],
          "barpolar": [
           {
            "marker": {
             "line": {
              "color": "#E5ECF6",
              "width": 0.5
             },
             "pattern": {
              "fillmode": "overlay",
              "size": 10,
              "solidity": 0.2
             }
            },
            "type": "barpolar"
           }
          ],
          "carpet": [
           {
            "aaxis": {
             "endlinecolor": "#2a3f5f",
             "gridcolor": "white",
             "linecolor": "white",
             "minorgridcolor": "white",
             "startlinecolor": "#2a3f5f"
            },
            "baxis": {
             "endlinecolor": "#2a3f5f",
             "gridcolor": "white",
             "linecolor": "white",
             "minorgridcolor": "white",
             "startlinecolor": "#2a3f5f"
            },
            "type": "carpet"
           }
          ],
          "choropleth": [
           {
            "colorbar": {
             "outlinewidth": 0,
             "ticks": ""
            },
            "type": "choropleth"
           }
          ],
          "contour": [
           {
            "colorbar": {
             "outlinewidth": 0,
             "ticks": ""
            },
            "colorscale": [
             [
              0,
              "#0d0887"
             ],
             [
              0.1111111111111111,
              "#46039f"
             ],
             [
              0.2222222222222222,
              "#7201a8"
             ],
             [
              0.3333333333333333,
              "#9c179e"
             ],
             [
              0.4444444444444444,
              "#bd3786"
             ],
             [
              0.5555555555555556,
              "#d8576b"
             ],
             [
              0.6666666666666666,
              "#ed7953"
             ],
             [
              0.7777777777777778,
              "#fb9f3a"
             ],
             [
              0.8888888888888888,
              "#fdca26"
             ],
             [
              1,
              "#f0f921"
             ]
            ],
            "type": "contour"
           }
          ],
          "contourcarpet": [
           {
            "colorbar": {
             "outlinewidth": 0,
             "ticks": ""
            },
            "type": "contourcarpet"
           }
          ],
          "heatmap": [
           {
            "colorbar": {
             "outlinewidth": 0,
             "ticks": ""
            },
            "colorscale": [
             [
              0,
              "#0d0887"
             ],
             [
              0.1111111111111111,
              "#46039f"
             ],
             [
              0.2222222222222222,
              "#7201a8"
             ],
             [
              0.3333333333333333,
              "#9c179e"
             ],
             [
              0.4444444444444444,
              "#bd3786"
             ],
             [
              0.5555555555555556,
              "#d8576b"
             ],
             [
              0.6666666666666666,
              "#ed7953"
             ],
             [
              0.7777777777777778,
              "#fb9f3a"
             ],
             [
              0.8888888888888888,
              "#fdca26"
             ],
             [
              1,
              "#f0f921"
             ]
            ],
            "type": "heatmap"
           }
          ],
          "heatmapgl": [
           {
            "colorbar": {
             "outlinewidth": 0,
             "ticks": ""
            },
            "colorscale": [
             [
              0,
              "#0d0887"
             ],
             [
              0.1111111111111111,
              "#46039f"
             ],
             [
              0.2222222222222222,
              "#7201a8"
             ],
             [
              0.3333333333333333,
              "#9c179e"
             ],
             [
              0.4444444444444444,
              "#bd3786"
             ],
             [
              0.5555555555555556,
              "#d8576b"
             ],
             [
              0.6666666666666666,
              "#ed7953"
             ],
             [
              0.7777777777777778,
              "#fb9f3a"
             ],
             [
              0.8888888888888888,
              "#fdca26"
             ],
             [
              1,
              "#f0f921"
             ]
            ],
            "type": "heatmapgl"
           }
          ],
          "histogram": [
           {
            "marker": {
             "pattern": {
              "fillmode": "overlay",
              "size": 10,
              "solidity": 0.2
             }
            },
            "type": "histogram"
           }
          ],
          "histogram2d": [
           {
            "colorbar": {
             "outlinewidth": 0,
             "ticks": ""
            },
            "colorscale": [
             [
              0,
              "#0d0887"
             ],
             [
              0.1111111111111111,
              "#46039f"
             ],
             [
              0.2222222222222222,
              "#7201a8"
             ],
             [
              0.3333333333333333,
              "#9c179e"
             ],
             [
              0.4444444444444444,
              "#bd3786"
             ],
             [
              0.5555555555555556,
              "#d8576b"
             ],
             [
              0.6666666666666666,
              "#ed7953"
             ],
             [
              0.7777777777777778,
              "#fb9f3a"
             ],
             [
              0.8888888888888888,
              "#fdca26"
             ],
             [
              1,
              "#f0f921"
             ]
            ],
            "type": "histogram2d"
           }
          ],
          "histogram2dcontour": [
           {
            "colorbar": {
             "outlinewidth": 0,
             "ticks": ""
            },
            "colorscale": [
             [
              0,
              "#0d0887"
             ],
             [
              0.1111111111111111,
              "#46039f"
             ],
             [
              0.2222222222222222,
              "#7201a8"
             ],
             [
              0.3333333333333333,
              "#9c179e"
             ],
             [
              0.4444444444444444,
              "#bd3786"
             ],
             [
              0.5555555555555556,
              "#d8576b"
             ],
             [
              0.6666666666666666,
              "#ed7953"
             ],
             [
              0.7777777777777778,
              "#fb9f3a"
             ],
             [
              0.8888888888888888,
              "#fdca26"
             ],
             [
              1,
              "#f0f921"
             ]
            ],
            "type": "histogram2dcontour"
           }
          ],
          "mesh3d": [
           {
            "colorbar": {
             "outlinewidth": 0,
             "ticks": ""
            },
            "type": "mesh3d"
           }
          ],
          "parcoords": [
           {
            "line": {
             "colorbar": {
              "outlinewidth": 0,
              "ticks": ""
             }
            },
            "type": "parcoords"
           }
          ],
          "pie": [
           {
            "automargin": true,
            "type": "pie"
           }
          ],
          "scatter": [
           {
            "marker": {
             "colorbar": {
              "outlinewidth": 0,
              "ticks": ""
             }
            },
            "type": "scatter"
           }
          ],
          "scatter3d": [
           {
            "line": {
             "colorbar": {
              "outlinewidth": 0,
              "ticks": ""
             }
            },
            "marker": {
             "colorbar": {
              "outlinewidth": 0,
              "ticks": ""
             }
            },
            "type": "scatter3d"
           }
          ],
          "scattercarpet": [
           {
            "marker": {
             "colorbar": {
              "outlinewidth": 0,
              "ticks": ""
             }
            },
            "type": "scattercarpet"
           }
          ],
          "scattergeo": [
           {
            "marker": {
             "colorbar": {
              "outlinewidth": 0,
              "ticks": ""
             }
            },
            "type": "scattergeo"
           }
          ],
          "scattergl": [
           {
            "marker": {
             "colorbar": {
              "outlinewidth": 0,
              "ticks": ""
             }
            },
            "type": "scattergl"
           }
          ],
          "scattermapbox": [
           {
            "marker": {
             "colorbar": {
              "outlinewidth": 0,
              "ticks": ""
             }
            },
            "type": "scattermapbox"
           }
          ],
          "scatterpolar": [
           {
            "marker": {
             "colorbar": {
              "outlinewidth": 0,
              "ticks": ""
             }
            },
            "type": "scatterpolar"
           }
          ],
          "scatterpolargl": [
           {
            "marker": {
             "colorbar": {
              "outlinewidth": 0,
              "ticks": ""
             }
            },
            "type": "scatterpolargl"
           }
          ],
          "scatterternary": [
           {
            "marker": {
             "colorbar": {
              "outlinewidth": 0,
              "ticks": ""
             }
            },
            "type": "scatterternary"
           }
          ],
          "surface": [
           {
            "colorbar": {
             "outlinewidth": 0,
             "ticks": ""
            },
            "colorscale": [
             [
              0,
              "#0d0887"
             ],
             [
              0.1111111111111111,
              "#46039f"
             ],
             [
              0.2222222222222222,
              "#7201a8"
             ],
             [
              0.3333333333333333,
              "#9c179e"
             ],
             [
              0.4444444444444444,
              "#bd3786"
             ],
             [
              0.5555555555555556,
              "#d8576b"
             ],
             [
              0.6666666666666666,
              "#ed7953"
             ],
             [
              0.7777777777777778,
              "#fb9f3a"
             ],
             [
              0.8888888888888888,
              "#fdca26"
             ],
             [
              1,
              "#f0f921"
             ]
            ],
            "type": "surface"
           }
          ],
          "table": [
           {
            "cells": {
             "fill": {
              "color": "#EBF0F8"
             },
             "line": {
              "color": "white"
             }
            },
            "header": {
             "fill": {
              "color": "#C8D4E3"
             },
             "line": {
              "color": "white"
             }
            },
            "type": "table"
           }
          ]
         },
         "layout": {
          "annotationdefaults": {
           "arrowcolor": "#2a3f5f",
           "arrowhead": 0,
           "arrowwidth": 1
          },
          "autotypenumbers": "strict",
          "coloraxis": {
           "colorbar": {
            "outlinewidth": 0,
            "ticks": ""
           }
          },
          "colorscale": {
           "diverging": [
            [
             0,
             "#8e0152"
            ],
            [
             0.1,
             "#c51b7d"
            ],
            [
             0.2,
             "#de77ae"
            ],
            [
             0.3,
             "#f1b6da"
            ],
            [
             0.4,
             "#fde0ef"
            ],
            [
             0.5,
             "#f7f7f7"
            ],
            [
             0.6,
             "#e6f5d0"
            ],
            [
             0.7,
             "#b8e186"
            ],
            [
             0.8,
             "#7fbc41"
            ],
            [
             0.9,
             "#4d9221"
            ],
            [
             1,
             "#276419"
            ]
           ],
           "sequential": [
            [
             0,
             "#0d0887"
            ],
            [
             0.1111111111111111,
             "#46039f"
            ],
            [
             0.2222222222222222,
             "#7201a8"
            ],
            [
             0.3333333333333333,
             "#9c179e"
            ],
            [
             0.4444444444444444,
             "#bd3786"
            ],
            [
             0.5555555555555556,
             "#d8576b"
            ],
            [
             0.6666666666666666,
             "#ed7953"
            ],
            [
             0.7777777777777778,
             "#fb9f3a"
            ],
            [
             0.8888888888888888,
             "#fdca26"
            ],
            [
             1,
             "#f0f921"
            ]
           ],
           "sequentialminus": [
            [
             0,
             "#0d0887"
            ],
            [
             0.1111111111111111,
             "#46039f"
            ],
            [
             0.2222222222222222,
             "#7201a8"
            ],
            [
             0.3333333333333333,
             "#9c179e"
            ],
            [
             0.4444444444444444,
             "#bd3786"
            ],
            [
             0.5555555555555556,
             "#d8576b"
            ],
            [
             0.6666666666666666,
             "#ed7953"
            ],
            [
             0.7777777777777778,
             "#fb9f3a"
            ],
            [
             0.8888888888888888,
             "#fdca26"
            ],
            [
             1,
             "#f0f921"
            ]
           ]
          },
          "colorway": [
           "#636efa",
           "#EF553B",
           "#00cc96",
           "#ab63fa",
           "#FFA15A",
           "#19d3f3",
           "#FF6692",
           "#B6E880",
           "#FF97FF",
           "#FECB52"
          ],
          "font": {
           "color": "#2a3f5f"
          },
          "geo": {
           "bgcolor": "white",
           "lakecolor": "white",
           "landcolor": "#E5ECF6",
           "showlakes": true,
           "showland": true,
           "subunitcolor": "white"
          },
          "hoverlabel": {
           "align": "left"
          },
          "hovermode": "closest",
          "mapbox": {
           "style": "light"
          },
          "paper_bgcolor": "white",
          "plot_bgcolor": "#E5ECF6",
          "polar": {
           "angularaxis": {
            "gridcolor": "white",
            "linecolor": "white",
            "ticks": ""
           },
           "bgcolor": "#E5ECF6",
           "radialaxis": {
            "gridcolor": "white",
            "linecolor": "white",
            "ticks": ""
           }
          },
          "scene": {
           "xaxis": {
            "backgroundcolor": "#E5ECF6",
            "gridcolor": "white",
            "gridwidth": 2,
            "linecolor": "white",
            "showbackground": true,
            "ticks": "",
            "zerolinecolor": "white"
           },
           "yaxis": {
            "backgroundcolor": "#E5ECF6",
            "gridcolor": "white",
            "gridwidth": 2,
            "linecolor": "white",
            "showbackground": true,
            "ticks": "",
            "zerolinecolor": "white"
           },
           "zaxis": {
            "backgroundcolor": "#E5ECF6",
            "gridcolor": "white",
            "gridwidth": 2,
            "linecolor": "white",
            "showbackground": true,
            "ticks": "",
            "zerolinecolor": "white"
           }
          },
          "shapedefaults": {
           "line": {
            "color": "#2a3f5f"
           }
          },
          "ternary": {
           "aaxis": {
            "gridcolor": "white",
            "linecolor": "white",
            "ticks": ""
           },
           "baxis": {
            "gridcolor": "white",
            "linecolor": "white",
            "ticks": ""
           },
           "bgcolor": "#E5ECF6",
           "caxis": {
            "gridcolor": "white",
            "linecolor": "white",
            "ticks": ""
           }
          },
          "title": {
           "x": 0.05
          },
          "xaxis": {
           "automargin": true,
           "gridcolor": "white",
           "linecolor": "white",
           "ticks": "",
           "title": {
            "standoff": 15
           },
           "zerolinecolor": "white",
           "zerolinewidth": 2
          },
          "yaxis": {
           "automargin": true,
           "gridcolor": "white",
           "linecolor": "white",
           "ticks": "",
           "title": {
            "standoff": 15
           },
           "zerolinecolor": "white",
           "zerolinewidth": 2
          }
         }
        },
        "width": 800
       }
      },
      "text/html": [
       "<div>                            <div id=\"e6fe2316-b3c0-4d6b-9977-98df8d94565a\" class=\"plotly-graph-div\" style=\"height:525px; width:800px;\"></div>            <script type=\"text/javascript\">                require([\"plotly\"], function(Plotly) {                    window.PLOTLYENV=window.PLOTLYENV || {};                                    if (document.getElementById(\"e6fe2316-b3c0-4d6b-9977-98df8d94565a\")) {                    Plotly.newPlot(                        \"e6fe2316-b3c0-4d6b-9977-98df8d94565a\",                        [{\"customdata\":[[\"Scrypt\"],[\"Scrypt\"],[\"X13\"],[\"SHA-256\"],[\"Ethash\"],[\"Scrypt\"],[\"X11\"],[\"CryptoNight-V7\"],[\"Ethash\"],[\"Equihash\"],[\"SHA-512\"],[\"Multiple\"],[\"SHA-256\"],[\"SHA-256\"],[\"Scrypt\"],[\"X15\"],[\"X11\"],[\"Scrypt\"],[\"Scrypt\"],[\"Scrypt\"],[\"Multiple\"],[\"Scrypt\"],[\"SHA-256\"],[\"Scrypt\"],[\"Scrypt\"],[\"Scrypt\"],[\"Quark\"],[\"Groestl\"],[\"Scrypt\"],[\"Scrypt\"],[\"Scrypt\"],[\"Scrypt\"],[\"Scrypt\"],[\"X11\"],[\"Scrypt\"],[\"Groestl\"],[\"Multiple\"],[\"SHA-256\"],[\"Scrypt\"],[\"Scrypt\"],[\"Scrypt\"],[\"Scrypt\"],[\"PoS\"],[\"Scrypt\"],[\"Scrypt\"],[\"NeoScrypt\"],[\"Scrypt\"],[\"Scrypt\"],[\"Scrypt\"],[\"Scrypt\"],[\"X11\"],[\"Scrypt\"],[\"X11\"],[\"SHA-256\"],[\"Scrypt\"],[\"Scrypt\"],[\"Scrypt\"],[\"SHA3\"],[\"Scrypt\"],[\"HybridScryptHash256\"],[\"Scrypt\"],[\"Scrypt\"],[\"SHA-256\"],[\"Scrypt\"],[\"X13\"],[\"Scrypt\"],[\"SHA-256\"],[\"Scrypt\"],[\"X13\"],[\"NeoScrypt\"],[\"Scrypt\"],[\"Scrypt\"],[\"Scrypt\"],[\"Scrypt\"],[\"Scrypt\"],[\"Scrypt\"],[\"X11\"],[\"X11\"],[\"SHA-256\"],[\"Multiple\"],[\"SHA-256\"],[\"PHI1612\"],[\"X11\"],[\"SHA-256\"],[\"SHA-256\"],[\"SHA-256\"],[\"X11\"],[\"Scrypt\"],[\"Scrypt\"],[\"Scrypt\"],[\"Scrypt\"],[\"Lyra2REv2\"],[\"Scrypt\"],[\"X11\"],[\"Multiple\"],[\"SHA-256\"],[\"X13\"],[\"Scrypt\"],[\"CryptoNight\"],[\"CryptoNight\"],[\"Shabal256\"],[\"Counterparty\"],[\"Scrypt\"],[\"SHA-256\"],[\"Groestl\"],[\"Scrypt\"],[\"Scrypt\"],[\"Scrypt\"],[\"X13\"],[\"Scrypt\"],[\"Scrypt\"],[\"Scrypt\"],[\"Scrypt\"],[\"X13\"],[\"Scrypt\"],[\"Stanford Folding\"],[\"X11\"],[\"Multiple\"],[\"QuBit\"],[\"Scrypt\"],[\"Scrypt\"],[\"Scrypt\"],[\"M7 POW\"],[\"Scrypt\"],[\"SHA-256\"],[\"Scrypt\"],[\"X11\"],[\"SHA3\"],[\"X11\"],[\"Lyra2RE\"],[\"SHA-256\"],[\"QUAIT\"],[\"X11\"],[\"X11\"],[\"Scrypt\"],[\"Scrypt\"],[\"Scrypt\"],[\"Ethash\"],[\"X13\"],[\"Blake2b\"],[\"SHA-256\"],[\"X15\"],[\"X11\"],[\"SHA-256\"],[\"BLAKE256\"],[\"Scrypt\"],[\"1GB AES Pattern Search\"],[\"SHA-256\"],[\"X11\"],[\"Scrypt\"],[\"SHA-256\"],[\"SHA-256\"],[\"NIST5\"],[\"Scrypt\"],[\"Scrypt\"],[\"X11\"],[\"Dagger\"],[\"Scrypt\"],[\"X11GOST\"],[\"X11\"],[\"Scrypt\"],[\"SHA-256\"],[\"Scrypt\"],[\"PoS\"],[\"Scrypt\"],[\"X11\"],[\"X11\"],[\"SHA-256\"],[\"SHA-256\"],[\"NIST5\"],[\"X11\"],[\"Scrypt\"],[\"POS 3.0\"],[\"Scrypt\"],[\"Scrypt\"],[\"Scrypt\"],[\"X13\"],[\"X11\"],[\"X11\"],[\"Equihash\"],[\"X11\"],[\"Scrypt\"],[\"CryptoNight\"],[\"SHA-256\"],[\"SHA-256\"],[\"X11\"],[\"Scrypt\"],[\"Multiple\"],[\"Scrypt\"],[\"Scrypt\"],[\"Scrypt\"],[\"SHA-256\"],[\"Scrypt\"],[\"Scrypt\"],[\"SHA-256D\"],[\"PoS\"],[\"Scrypt\"],[\"X11\"],[\"Lyra2Z\"],[\"PoS\"],[\"X13\"],[\"X14\"],[\"PoS\"],[\"SHA-256D\"],[\"Ethash\"],[\"Equihash\"],[\"DPoS\"],[\"X11\"],[\"Scrypt\"],[\"X11\"],[\"X13\"],[\"X11\"],[\"PoS\"],[\"Scrypt\"],[\"Scrypt\"],[\"X11\"],[\"PoS\"],[\"X11\"],[\"SHA-256\"],[\"Scrypt\"],[\"X11\"],[\"Scrypt\"],[\"Scrypt\"],[\"X11\"],[\"CryptoNight\"],[\"Scrypt\"],[\"Scrypt\"],[\"Scrypt\"],[\"Scrypt\"],[\"Quark\"],[\"QuBit\"],[\"Scrypt\"],[\"CryptoNight\"],[\"Lyra2RE\"],[\"Scrypt\"],[\"SHA-256\"],[\"X11\"],[\"Scrypt\"],[\"X11\"],[\"Scrypt\"],[\"CryptoNight-V7\"],[\"Scrypt\"],[\"Scrypt\"],[\"Scrypt\"],[\"X13\"],[\"X11\"],[\"Equihash\"],[\"Scrypt\"],[\"Scrypt\"],[\"Lyra2RE\"],[\"Scrypt\"],[\"Dagger-Hashimoto\"],[\"X11\"],[\"Blake2S\"],[\"X11\"],[\"Scrypt\"],[\"PoS\"],[\"X11\"],[\"NIST5\"],[\"PoS\"],[\"X11\"],[\"Scrypt\"],[\"Scrypt\"],[\"Scrypt\"],[\"SHA-256\"],[\"X11\"],[\"Scrypt\"],[\"Scrypt\"],[\"SHA-256\"],[\"PoS\"],[\"Scrypt\"],[\"X15\"],[\"SHA-256\"],[\"Scrypt\"],[\"POS 3.0\"],[\"CryptoNight-V7\"],[\"536\"],[\"Argon2d\"],[\"Blake2b\"],[\"Cloverhash\"],[\"CryptoNight\"],[\"NIST5\"],[\"X11\"],[\"NIST5\"],[\"Skein\"],[\"Scrypt\"],[\"X13\"],[\"Scrypt\"],[\"X11\"],[\"X11\"],[\"Scrypt\"],[\"CryptoNight\"],[\"X13\"],[\"Time Travel\"],[\"Scrypt\"],[\"Keccak\"],[\"SkunkHash v2 Raptor\"],[\"X11\"],[\"Skein\"],[\"SHA-256\"],[\"X11\"],[\"Scrypt\"],[\"VeChainThor Authority\"],[\"Scrypt\"],[\"PoS\"],[\"Scrypt\"],[\"Scrypt\"],[\"Scrypt\"],[\"Scrypt\"],[\"Scrypt\"],[\"Scrypt\"],[\"Scrypt\"],[\"CryptoNight\"],[\"SHA-512\"],[\"Ouroboros\"],[\"X11\"],[\"Equihash\"],[\"NeoScrypt\"],[\"X11\"],[\"Scrypt\"],[\"NeoScrypt\"],[\"Lyra2REv2\"],[\"Equihash\"],[\"Scrypt\"],[\"SHA-256\"],[\"NIST5\"],[\"PHI1612\"],[\"Dagger\"],[\"Scrypt\"],[\"Quark\"],[\"Scrypt\"],[\"POS 2.0\"],[\"Scrypt\"],[\"SHA-256\"],[\"X11\"],[\"NeoScrypt\"],[\"Ethash\"],[\"NeoScrypt\"],[\"X11\"],[\"DPoS\"],[\"NIST5\"],[\"X13\"],[\"Multiple\"],[\"Scrypt\"],[\"CryptoNight\"],[\"CryptoNight\"],[\"Ethash\"],[\"NIST5\"],[\"Quark\"],[\"X11\"],[\"CryptoNight-V7\"],[\"Scrypt\"],[\"Scrypt\"],[\"Scrypt\"],[\"X11\"],[\"BLAKE256\"],[\"X11\"],[\"NeoScrypt\"],[\"Quark\"],[\"NeoScrypt\"],[\"Scrypt\"],[\"Scrypt\"],[\"Scrypt\"],[\"X11\"],[\"X11\"],[\"SHA-256\"],[\"C11\"],[\"POS 3.0\"],[\"Ethash\"],[\"Scrypt\"],[\"CryptoNight\"],[\"SkunkHash\"],[\"Scrypt\"],[\"CryptoNight\"],[\"Scrypt\"],[\"Dagger\"],[\"Lyra2REv2\"],[\"X13\"],[\"Proof-of-BibleHash\"],[\"SHA-256 + Hive\"],[\"Scrypt\"],[\"Scrypt\"],[\"X11\"],[\"C11\"],[\"X11\"],[\"XEVAN\"],[\"Scrypt\"],[\"VBFT\"],[\"Ethash\"],[\"CryptoNight\"],[\"Scrypt\"],[\"IMesh\"],[\"NIST5\"],[\"Scrypt\"],[\"Scrypt\"],[\"Equihash\"],[\"Scrypt\"],[\"Lyra2Z\"],[\"Green Protocol\"],[\"PoS\"],[\"Scrypt\"],[\"Semux BFT consensus\"],[\"X11\"],[\"Quark\"],[\"PoS\"],[\"CryptoNight\"],[\"X16R\"],[\"Scrypt\"],[\"NIST5\"],[\"Lyra2RE\"],[\"XEVAN\"],[\"Tribus\"],[\"Scrypt\"],[\"Lyra2Z\"],[\"CryptoNight\"],[\"CryptoNight Heavy\"],[\"CryptoNight\"],[\"Scrypt\"],[\"Scrypt\"],[\"Jump Consistent Hash\"],[\"SHA-256D\"],[\"CryptoNight\"],[\"Scrypt\"],[\"X15\"],[\"Scrypt\"],[\"Quark\"],[\"SHA-256\"],[\"DPoS\"],[\"X16R\"],[\"HMQ1725\"],[\"X11\"],[\"X16R\"],[\"Quark\"],[\"Quark\"],[\"Scrypt\"],[\"Lyra2REv2\"],[\"Quark\"],[\"Scrypt\"],[\"Scrypt\"],[\"CryptoNight-V7\"],[\"Cryptonight-GPU\"],[\"XEVAN\"],[\"CryptoNight Heavy\"],[\"X11\"],[\"X11\"],[\"Scrypt\"],[\"PoS\"],[\"SHA-256\"],[\"Keccak\"],[\"X11\"],[\"X11\"],[\"Scrypt\"],[\"SHA-512\"],[\"X16R\"],[\"Equihash\"],[\"XEVAN\"],[\"Lyra2Z\"],[\"SHA-256\"],[\"XEVAN\"],[\"X11\"],[\"CryptoNight\"],[\"Quark\"],[\"Blake\"],[\"Blake\"],[\"Equihash\"],[\"Exosis\"],[\"Scrypt\"],[\"Scrypt\"],[\"Equihash\"],[\"Quark\"],[\"Equihash\"],[\"Quark\"],[\"Scrypt\"],[\"QuBit\"],[\"X11\"],[\"Scrypt\"],[\"XEVAN\"],[\"SHA-256D\"],[\"X11\"],[\"SHA-256\"],[\"X13\"],[\"SHA-256\"],[\"X11\"],[\"DPoS\"],[\"Scrypt\"],[\"Scrypt\"],[\"X11\"],[\"NeoScrypt\"],[\"Scrypt\"],[\"Blake\"],[\"Scrypt\"],[\"SHA-256\"],[\"Scrypt\"],[\"X11\"],[\"Scrypt\"],[\"Scrypt\"],[\"SHA-256\"],[\"X11\"],[\"SHA-256\"],[\"Scrypt\"],[\"Scrypt\"],[\"Scrypt\"],[\"Groestl\"],[\"X11\"],[\"Scrypt\"],[\"PoS\"],[\"Scrypt\"],[\"Scrypt\"],[\"X11\"],[\"SHA-256\"],[\"DPoS\"],[\"Scrypt\"],[\"Scrypt\"],[\"NeoScrypt\"],[\"Multiple\"],[\"X13\"],[\"Equihash+Scrypt\"],[\"DPoS\"],[\"Ethash\"],[\"DPoS\"],[\"SHA-256\"],[\"PoS\"],[\"TRC10\"],[\"PoS\"],[\"SHA-256\"],[\"Scrypt\"],[\"CryptoNight\"],[\"Equihash\"],[\"Scrypt\"]],\"hovertemplate\":\"<b>%{hovertext}</b><br><br>Class=%{marker.color}<br>PrincipleComponent1=%{x}<br>PrincipleComponent2=%{y}<br>PrincipleComponent3=%{z}<br>Algorithm=%{customdata[0]}<extra></extra>\",\"hovertext\":[\"42 Coin\",\"404Coin\",\"EliteCoin\",\"Bitcoin\",\"Ethereum\",\"Litecoin\",\"Dash\",\"Monero\",\"Ethereum Classic\",\"ZCash\",\"Bitshares\",\"DigiByte\",\"BitcoinDark\",\"PayCoin\",\"ProsperCoin\",\"KoboCoin\",\"Spreadcoin\",\"Argentum\",\"Aurora Coin\",\"BlueCoin\",\"MyriadCoin\",\"MoonCoin\",\"ZetaCoin\",\"SexCoin\",\"Quatloo\",\"EnergyCoin\",\"QuarkCoin\",\"Riecoin\",\"Digitalcoin \",\"BitBar\",\"Catcoin\",\"CryptoBullion\",\"CannaCoin\",\"CryptCoin\",\"CasinoCoin\",\"Diamond\",\"Verge\",\"DevCoin\",\"EarthCoin\",\"E-Gulden\",\"Einsteinium\",\"Emerald\",\"Exclusive Coin\",\"FlutterCoin\",\"Franko\",\"FeatherCoin\",\"GrandCoin\",\"GlobalCoin\",\"GoldCoin\",\"HoboNickels\",\"HyperStake\",\"Infinite Coin\",\"IOCoin\",\"IXcoin\",\"KrugerCoin\",\"LuckyCoin\",\"Litebar \",\"MaxCoin\",\"MegaCoin\",\"MediterraneanCoin\",\"MintCoin\",\"MinCoin\",\"MazaCoin\",\"Nautilus Coin\",\"NavCoin\",\"NobleCoin\",\"Namecoin\",\"NyanCoin\",\"OpalCoin\",\"Orbitcoin\",\"PotCoin\",\"PhoenixCoin\",\"Reddcoin\",\"RonPaulCoin\",\"StableCoin\",\"SmartCoin\",\"SuperCoin\",\"SyncCoin\",\"SysCoin\",\"TeslaCoin\",\"TigerCoin\",\"TittieCoin\",\"TorCoin\",\"TerraCoin\",\"UnbreakableCoin\",\"Unobtanium\",\"UroCoin\",\"UnitaryStatus Dollar\",\"UltraCoin\",\"ViaCoin\",\"VeriCoin\",\"Vertcoin\",\"WorldCoin\",\"X11 Coin\",\"Crypti\",\"JouleCoin\",\"StealthCoin\",\"ZCC Coin\",\"ByteCoin\",\"DigitalNote \",\"BurstCoin\",\"StorjCoin\",\"MonaCoin\",\"Neutron\",\"FairCoin\",\"Gulden\",\"RubyCoin\",\"PesetaCoin\",\"Kore\",\"Wild Beast Coin\",\"Dnotes\",\"Flo\",\"8BIT Coin\",\"Sativa Coin\",\"ArtByte\",\"Folding Coin\",\"Ucoin\",\"Unitus\",\"CypherPunkCoin\",\"OmniCron\",\"Vtorrent\",\"GreenCoin\",\"Cryptonite\",\"MasterCoin\",\"SoonCoin\",\"1Credit\",\"IslaCoin\",\"Nexus\",\"MarsCoin \",\"Crypto\",\"Anarchists Prime\",\"Droidz\",\"BowsCoin\",\"Squall Coin\",\"Song Coin\",\"BitZeny\",\"Diggits\",\"Expanse\",\"Paycon\",\"Siacoin\",\"Emercoin\",\"EverGreenCoin\",\"MindCoin\",\"I0coin\",\"Decred\",\"Revolution VR\",\"HOdlcoin\",\"EDRCoin\",\"Hitcoin\",\"Gamecredits\",\"DubaiCoin\",\"CarpeDiemCoin\",\"PWR Coin\",\"BillaryCoin\",\"GPU Coin\",\"Adzcoin\",\"SoilCoin\",\"YoCoin\",\"SibCoin\",\"EuropeCoin\",\"ZeitCoin\",\"SwingCoin\",\"SafeExchangeCoin\",\"Nebuchadnezzar\",\"Francs\",\"BolivarCoin\",\"Ratecoin\",\"Revenu\",\"Clockcoin\",\"VIP Tokens\",\"BitSend\",\"Omni\",\"Let it Ride\",\"PutinCoin\",\"iBankCoin\",\"Frankywillcoin\",\"MudraCoin\",\"PizzaCoin\",\"Lutetium Coin\",\"Komodo\",\"GoldBlocks\",\"CarterCoin\",\"Karbo\",\"BitTokens\",\"ZayedCoin\",\"MustangCoin\",\"ZoneCoin\",\"Circuits of Value\",\"RootCoin\",\"DopeCoin\",\"BitCurrency\",\"DollarCoin\",\"Swiscoin\",\"Shilling\",\"BuzzCoin\",\"Opair\",\"PesoBit\",\"Halloween Coin\",\"ZCoin\",\"CoffeeCoin\",\"RoyalCoin\",\"GanjaCoin V2\",\"TeamUP\",\"LanaCoin\",\"Elementrem\",\"ZClassic\",\"ARK\",\"InsaneCoin\",\"KiloCoin\",\"ArtexCoin\",\"EmberCoin\",\"XenixCoin\",\"FreeCoin\",\"PLNCoin\",\"AquariusCoin\",\"Kurrent\",\"Creatio\",\"Eternity\",\"Eurocoin\",\"BitcoinFast\",\"Stakenet\",\"BitConnect Coin\",\"MoneyCoin\",\"Enigma\",\"Cannabis Industry Coin\",\"Russiacoin\",\"PandaCoin\",\"GameUnits\",\"GAKHcoin\",\"Allsafe\",\"LiteCreed\",\"OsmiumCoin\",\"Bikercoins\",\"HexxCoin\",\"Klingon Empire Darsek\",\"Internet of People\",\"KushCoin\",\"Printerium\",\"PacCoin\",\"Impeach\",\"Citadel\",\"Zilbercoin\",\"FirstCoin\",\"BeaverCoin\",\"FindCoin\",\"VaultCoin\",\"Zero\",\"OpenChat\",\"Canada eCoin\",\"Zoin\",\"RenosCoin\",\"DubaiCoin\",\"VirtacoinPlus\",\"TajCoin\",\"Impact\",\"EB3coin\",\"Atmos\",\"HappyCoin\",\"Coinonat\",\"MacronCoin\",\"Condensate\",\"Independent Money System\",\"ArgusCoin\",\"LomoCoin\",\"ProCurrency\",\"GoldReserve\",\"BenjiRolls\",\"GrowthCoin\",\"ILCoin\",\"Phreak\",\"Degas Coin\",\"HTML5 Coin\",\"Ultimate Secure Cash\",\"EquiTrader\",\"QTUM\",\"Quantum Resistant Ledger\",\"Espers\",\"Dynamic\",\"Nano\",\"ChanCoin\",\"Dinastycoin\",\"Denarius\",\"DigitalPrice\",\"Virta Unique Coin\",\"Bitcoin Planet\",\"Unify\",\"BritCoin\",\"SocialCoin\",\"ArcticCoin\",\"DAS\",\"Linda\",\"LeviarCoin\",\"DeepOnion\",\"Bitcore\",\"gCn Coin\",\"SmartCash\",\"Signatum\",\"Onix\",\"Cream\",\"Bitcoin Cash\",\"Monoeci\",\"Draftcoin\",\"Vechain\",\"Sojourn Coin\",\"Stakecoin\",\"NewYorkCoin\",\"FrazCoin\",\"Kronecoin\",\"AdCoin\",\"Linx\",\"CoinonatX\",\"Ethereum Dark\",\"Sumokoin\",\"Obsidian\",\"Cardano\",\"Regalcoin\",\"BitcoinZ\",\"TrezarCoin\",\"Elements\",\"TerraNovaCoin\",\"VIVO Coin\",\"Rupee\",\"Bitcoin Gold\",\"WomenCoin\",\"Theresa May Coin\",\"NamoCoin\",\"LUXCoin\",\"Pirl\",\"Xios\",\"Bitcloud 2.0\",\"eBoost\",\"KekCoin\",\"BlackholeCoin\",\"Infinity Economics\",\"Pura\",\"Innova\",\"Ellaism\",\"GoByte\",\"Magnet\",\"Lamden Tau\",\"Electra\",\"Bitcoin Diamond\",\"SHIELD\",\"Cash & Back Coin\",\"UltraNote\",\"BitCoal\",\"DaxxCoin\",\"Bulwark\",\"Kalkulus\",\"AC3\",\"Lethean\",\"GermanCoin\",\"LiteCoin Ultra\",\"PopularCoin\",\"PhantomX\",\"Photon\",\"Sucre\",\"SparksPay\",\"Digiwage\",\"GunCoin\",\"IrishCoin\",\"Trollcoin\",\"Litecoin Plus\",\"Monkey Project\",\"Pioneer Coin\",\"UnitedBitcoin\",\"Interzone\",\"TokenPay\",\"1717 Masonic Commemorative Token\",\"My Big Coin\",\"TurtleCoin\",\"MUNcoin\",\"Unified Society USDEX\",\"Niobio Cash\",\"ShareChain\",\"Travelflex\",\"KREDS\",\"Tokyo Coin\",\"BiblePay\",\"LitecoinCash\",\"BitFlip\",\"LottoCoin\",\"Crypto Improvement Fund\",\"Stipend\",\"Pushi\",\"Ellerium\",\"Velox\",\"Ontology\",\"Callisto Network\",\"BitTube\",\"Poseidon\",\"Aidos Kuneen\",\"Bitspace\",\"Briacoin\",\"Ignition\",\"Bitrolium\",\"MedicCoin\",\"Alpenschillling\",\"Bitcoin Green\",\"Deviant Coin\",\"Abjcoin\",\"Semux\",\"FuturoCoin\",\"Carebit\",\"Zealium\",\"Monero Classic\",\"Proton\",\"iDealCash\",\"Jumpcoin\",\"Infinex\",\"Bitcoin Incognito\",\"KEYCO\",\"HollyWoodCoin\",\"GINcoin\",\"PlatinCoin\",\"Loki\",\"Newton Coin\",\"Swisscoin\",\"Xt3ch\",\"MassGrid\",\"TheVig\",\"PluraCoin\",\"EmaratCoin\",\"Dekado\",\"Lynx\",\"Poseidon Quark\",\"BitcoinWSpectrum\",\"Muse\",\"Motion\",\"PlusOneCoin\",\"Axe\",\"Trivechain\",\"Dystem\",\"Giant\",\"Peony Coin\",\"Absolute Coin\",\"Vitae\",\"HexCoin\",\"TPCash\",\"Webchain\",\"Ryo\",\"Urals Coin\",\"Qwertycoin\",\"ARENON\",\"EUNO\",\"MMOCoin\",\"Ketan\",\"Project Pai\",\"XDNA\",\"PAXEX\",\"Azart\",\"ThunderStake\",\"Kcash\",\"Xchange\",\"CrypticCoin\",\"Bettex coin\",\"Actinium\",\"Bitcoin SV\",\"BitMoney\",\"Junson Ming Chan Coin\",\"FREDEnergy\",\"HerbCoin\",\"Universal Molecule\",\"Lithium\",\"PirateCash\",\"Exosis\",\"Block-Logic\",\"Oduwa\",\"Beam\",\"Galilel\",\"Bithereum\",\"Crypto Sports\",\"Credit\",\"SLICE\",\"Dash Platinum\",\"Nasdacoin\",\"Beetle Coin\",\"Titan Coin\",\"Award\",\"BLAST\",\"Bitcoin Rhodium\",\"GlobalToken\",\"Insane Coin\",\"ALAX\",\"LiteDoge\",\"SolarCoin\",\"TruckCoin\",\"UFO Coin\",\"OrangeCoin\",\"BlakeCoin\",\"BitstarCoin\",\"NeosCoin\",\"HyperCoin\",\"PinkCoin\",\"Crypto Escudo\",\"AudioCoin\",\"IncaKoin\",\"Piggy Coin\",\"Crown Coin\",\"Genstake\",\"SmileyCoin\",\"XiaoMiCoin\",\"Groestlcoin\",\"CapriCoin\",\" ClubCoin\",\"Radium\",\"Bata\",\"Pakcoin\",\"Creditbit \",\"OKCash\",\"Lisk\",\"HiCoin\",\"WhiteCoin\",\"FriendshipCoin\",\"JoinCoin\",\"Triangles Coin\",\"Vollar\",\"EOS\",\"Reality Clash\",\"Oxycoin\",\"TigerCash\",\"Particl\",\"BitTorrent\",\"Nxt\",\"ZEPHYR\",\"Gapcoin\",\"Beldex\",\"Horizen\",\"BitcoinPlus\"],\"legendgroup\":\"0\",\"marker\":{\"color\":[0,0,0,0,0,0,0,0,0,0,0,0,0,0,0,0,0,0,0,0,0,0,0,0,0,0,0,0,0,0,0,0,0,0,0,0,0,0,0,0,0,0,0,0,0,0,0,0,0,0,0,0,0,0,0,0,0,0,0,0,0,0,0,0,0,0,0,0,0,0,0,0,0,0,0,0,0,0,0,0,0,0,0,0,0,0,0,0,0,0,0,0,0,0,0,0,0,0,0,0,0,0,0,0,0,0,0,0,0,0,0,0,0,0,0,0,0,0,0,0,0,0,0,0,0,0,0,0,0,0,0,0,0,0,0,0,0,0,0,0,0,0,0,0,0,0,0,0,0,0,0,0,0,0,0,0,0,0,0,0,0,0,0,0,0,0,0,0,0,0,0,0,0,0,0,0,0,0,0,0,0,0,0,0,0,0,0,0,0,0,0,0,0,0,0,0,0,0,0,0,0,0,0,0,0,0,0,0,0,0,0,0,0,0,0,0,0,0,0,0,0,0,0,0,0,0,0,0,0,0,0,0,0,0,0,0,0,0,0,0,0,0,0,0,0,0,0,0,0,0,0,0,0,0,0,0,0,0,0,0,0,0,0,0,0,0,0,0,0,0,0,0,0,0,0,0,0,0,0,0,0,0,0,0,0,0,0,0,0,0,0,0,0,0,0,0,0,0,0,0,0,0,0,0,0,0,0,0,0,0,0,0,0,0,0,0,0,0,0,0,0,0,0,0,0,0,0,0,0,0,0,0,0,0,0,0,0,0,0,0,0,0,0,0,0,0,0,0,0,0,0,0,0,0,0,0,0,0,0,0,0,0,0,0,0,0,0,0,0,0,0,0,0,0,0,0,0,0,0,0,0,0,0,0,0,0,0,0,0,0,0,0,0,0,0,0,0,0,0,0,0,0,0,0,0,0,0,0,0,0,0,0,0,0,0,0,0,0,0,0,0,0,0,0,0,0,0,0,0,0,0,0,0,0,0,0,0,0,0,0,0,0,0,0,0,0,0,0,0,0,0,0,0,0,0,0,0,0,0,0,0,0,0,0,0,0,0,0,0,0,0,0,0,0,0,0,0,0,0,0,0,0,0,0,0,0,0,0,0,0,0,0,0,0,0,0,0,0,0,0,0,0,0,0,0,0,0,0,0,0,0,0,0,0,0,0,0,0,0,0,0,0,0,0,0,0,0,0,0],\"coloraxis\":\"coloraxis\",\"symbol\":\"circle\"},\"mode\":\"markers\",\"name\":\"0\",\"scene\":\"scene\",\"showlegend\":true,\"x\":[-0.353834952545894,-0.3372118172754126,2.3111626195373485,-0.1206015504375227,-0.12782206085335598,-0.17236249146406582,-0.39573568241355384,-0.12852148919233844,-0.12626573011968034,-0.14088177039460806,-0.38242790759824064,0.17755318334755638,-0.30090674156212716,-0.2569920858233221,-0.1735063940818088,-0.24751537315002087,-0.2156144726400872,-0.17312344566803528,-0.3534952562555048,-0.34609341325384646,-0.07539821211301015,2.5456983046395276,-0.11769257077989986,-0.1703840090496498,-0.17292756419133937,-0.3523356461840155,-0.21810119498253336,-0.18388694175215664,-0.1729768409772181,-0.3538308936815525,-0.17348870828068486,-0.35381521168513563,-0.17357502552807857,-0.21570359688464077,0.5826424501288202,-0.3651237654414783,0.20118315741769524,0.25647675283594923,0.07464554081045639,-0.17332191297080177,-0.16893573433094872,-0.17326123620844286,-0.3595324225479884,-0.30148741115514255,-0.17363189707674254,-0.14709882927376516,-0.15289332785808038,-0.17242955275959734,-0.17270621898535773,-0.3518975704133918,-0.3317001588477885,1.5716410386799864,-0.39563066727203894,-0.12056302482207057,-0.17000059637009818,-0.17334829504614033,-0.17370237443921008,-0.5157973387239814,-0.17296313640247085,-0.11421713607656901,-0.05055384502868889,-0.17358385692261719,-0.2642840763476724,-0.3096717507052643,-0.2695746269007253,-0.03867147990318436,-0.12064042450665356,-0.16726095947137368,-0.2701951296913958,-0.33206422440837924,-0.34814764721673036,-0.35223986805236607,0.0033244780550118164,-0.17356321870584787,-0.1716599112369714,-0.17305098423374282,-0.35153223503578424,-0.39600149199369067,-0.10781673277890899,-0.24470238487308404,-0.12010532909402882,-0.3008695211375141,-0.3959132504644448,-0.1203918154522451,-0.1203743785942234,-0.1209644622900111,-0.21587724051368584,-0.3291151865955287,-0.35251474102696057,-0.17328045374778778,-0.3277423766099021,-0.1681792389886557,-0.17038852028045978,-0.39587787949347003,-0.24517007605245697,-0.1201724658225884,-0.2699765940018769,-0.34495011598944164,3.8758497875863442,0.4819097711940953,-0.15337770947095666,-0.3610668656615371,-0.17215011315294365,-0.3001200497082816,-0.3645469685947207,-0.15677145929376984,-0.3096522640925011,-0.17087165711526103,-0.27027016152676486,-0.17370456200867332,-0.3043147832455442,-0.17073714180766997,-0.35381707025374026,-0.2702225027895328,-0.15698786264384668,-0.11649336336271027,-0.3519756127501744,-0.10933703946029262,-0.186734989730707,-0.17357797530564148,-0.35355193325823414,-0.046738045349724394,-0.06964245671715558,-0.17371345512922426,-0.12066812657931905,0.4778042784023859,-0.3959830715526922,-0.6506859416009746,-0.2152656849187543,-0.12905129705990712,-0.12040829209354004,-0.40420516307983556,-0.21554995761798523,-0.32683365521398494,-0.1718397531640402,-0.17103369953231368,-0.3080569499212826,-0.12888641160716494,-0.2697449578879141,0.3907765588521617,-0.2934718028465178,-0.24995412167453868,-0.2155853197836956,-0.1205641441249633,-0.04900445491616747,-0.16967971818009425,-0.10500643501067126,-0.30087773527243794,-0.0740077617194068,-0.17227968353269152,-0.30094139703266765,0.29704893194772963,-0.23418548148907353,-0.35342788228188954,-0.30792485964378535,-0.21474748436529423,-0.14663092510216008,-0.17252539952776466,-0.11421652690766061,-0.39315529515814357,0.8415484631033121,-0.30074164396726305,-0.14659007582097053,-0.3592163178957091,-0.17350369886977285,-0.21554855232675263,-0.39383105697454573,-0.29948637787651666,-0.29715727473656206,-0.3552102209234165,-0.39472001649286476,-0.17371351350248102,-0.35814371982145204,-0.3297651658624993,-0.3534658466936154,-0.35190844323335946,-0.22505100758802785,-0.21569811614941908,-0.33949284860379886,-0.282624508762533,-0.3954578029420332,-0.35267169154265127,0.32711275444177135,-0.30092227167521357,-0.12082366140859988,-0.3959722557573361,-0.35365477803757484,-0.08944886458993719,-0.3538113191661248,-0.17088546612179484,-0.30791719453598926,-0.1207823923221212,-0.32252550427147975,-0.17337746625844183,0.018279385710007118,-0.3581755905527423,-0.3534265341628533,-0.3821541158425547,-0.15493842786597675,-0.3575064904140546,-0.22648012529629996,-0.4087782646415635,-0.35725289853495523,-0.29553819421215394,-0.12862915430997215,-0.1409033287646874,3.7626195060328733,-0.39556558302003714,-0.10051551317439215,-0.20231201983423108,0.8588497037646802,-0.3959272786848494,-0.3586383648592088,-0.35335381234068997,-0.35350767252879417,-0.21352966767362927,-0.3592163178957091,-0.3955026573322864,-0.30078533356573917,-0.3533546145021732,-0.40971605723518284,-0.3535016626261606,-0.34909411609419966,-0.39595617889688,0.32710726880335506,-0.35271309959240127,0.33223635247309746,-0.3537005772470667,-0.35377107434432875,-0.3590363645652234,-0.36599553314343536,-0.1736952751577272,0.32723767904733764,-0.12959096000368464,-0.35000206052193633,-0.300898750053924,-0.39586632365497604,-0.3535492894158303,0.49883350077579375,-0.35367587053625194,-0.12728727416732877,-0.30955835226240525,-0.3459905471176508,-0.17366364045305174,-0.22624846770424284,-0.2084399217640451,-0.1409157191135465,-0.3345698521383525,-0.17180078711248978,-0.12930996948839207,-0.30930044659761585,-0.14747573036582765,-0.39513296485312754,-0.42400696334240856,-0.39387467209683963,-0.14461715987712426,-0.3574665666363198,-0.3950311301133883,-0.17628967436451717,-0.35187826212308365,-0.39097831426150637,-0.35361932150095465,-0.3536184226047314,-0.3467470291868233,0.27513566474805995,-0.39550903655331493,-0.17322681074751847,-0.29222408029071234,-0.087209627327223,-0.3592503947606241,-0.35283114137842636,0.8824194869766318,-0.25568377539606896,-0.1730489107087809,-0.3569246010970629,-0.12714637858299022,0.5831856534430396,-0.12047798143951752,-0.008435658175022436,-0.1492900114186366,0.36315552276041185,-0.3567426451398787,-0.2147556586687494,-0.35524762441765984,-0.4058980834715148,-0.17336795277944422,-0.2699082138950682,-0.17313129160423876,-0.21514975842146894,-0.2157261475360469,0.11045349723707654,0.3275015893246089,-0.2699789290307403,-0.14438931661241747,3.229185180281445,-0.1015873093650663,-0.3291044550791123,-0.20660978009895012,-0.40540432677515137,-0.12060071692349703,-0.3957810498115344,-0.30963281447027996,4.323319606193244,-0.09936023633751435,-0.35911664620908945,1.5685632914615766,-0.1734655258339231,-0.17291787178423673,-0.17261946228605302,-0.17260642868690038,-0.35325518472104744,-0.3537540399299167,0.3276851290130467,-0.440376045914417,0.6602290566785771,-0.39572182414144796,0.07109179817247256,-0.3270722948379422,-0.17021503411035094,-0.353709634645534,-0.15177863205035041,-0.3051932843264123,-0.1407621391654758,0.4136056331259434,-0.29924858154765915,-0.34153659316930535,-0.38024836735768475,-0.14539183904697744,-0.3536600446453274,-0.4013316926379961,-0.17179900112841984,-0.34282745837837514,-0.3535308759790218,-0.08384084028960125,-0.21127860622126088,-0.1516242426732241,-0.12699567931518577,-0.15172433779477904,-0.39451634578618344,3.767466822960421,0.20158516883056446,-0.26665655458050924,-0.09958726991583577,-0.3509957061909441,1.1638180096696458,0.32708998093254427,-0.05196951682221644,-0.31265511635382176,-0.3589225196142558,-0.2110184276727098,-0.11627702447433746,0.06009480075599861,-0.352670102634322,-0.09001929784562937,-0.3950970522005266,1.1347855912499196,-0.2157002056748989,-0.15177627095400273,-0.3580883136639992,-0.14482716135216753,-0.17271801994280792,-0.3402607151380129,-0.3537761131962665,-0.35194760688467386,-0.21562577632442909,-0.12058018047934652,-0.18413596181737912,-0.3584249679808583,-0.26536090570908205,-0.3686746262538899,8.0561960573485,-0.09869712491551197,-0.34933077305199167,0.3309578642884198,0.018925622731146355,-0.14489709385514518,-0.15376402179382112,-0.21805703073048696,-0.24421445872370395,-0.38983650844801027,-0.17329048195385421,0.13317768142300773,-0.20977673732697324,-0.3642795459068985,-0.3957980563818667,-0.2621768105154035,-0.30879378646850697,-0.3125598922839507,-0.08008536615703256,0.33500372533551337,-0.17352708246417353,-0.11267294319131457,-0.35634221176871894,-0.3538034052247352,-0.3537851416986426,-0.13975536741016142,-0.30318598436721267,-0.15272453904843053,-0.34624735806645285,-0.35871189032156925,-0.3535021215638942,3.9640750942429612,-0.21479632049626848,-0.40000337465989266,-0.35890014052098823,0.32727207679298936,-0.3177933093017841,-0.3004549241139685,-0.1763493086238975,-0.1294364188357542,-0.19316140456450495,-0.1574701874638414,-0.3093277569374846,-0.1550227090598033,0.33119676355505495,0.6132822928009835,2.133106052042283,-0.1573309209449497,-0.3095789010712227,-0.15469797477082844,-0.36076557438236034,0.34085214349427473,-0.35297692886357745,-0.2054473873694514,2.1600267431349924,-0.3546344487717104,-0.2558123840145344,1.0366500634723563,-0.1816522378297801,-0.1483651916688917,-0.21568239957806057,-0.3609827125148875,-0.35903572773357856,-0.40301362896284165,-0.19042943175368307,-0.34897290899303657,-0.3577577975124167,-0.17355158407814653,-0.3466872848434483,-0.11614803065235664,-0.0960598259363735,-0.08083042351529003,3.131254605379615,-0.3515257536968063,-0.39527252889309816,-0.30682926742700584,-0.3580008001376441,-0.08051196795546613,-0.34175997534044333,-0.35138695562251165,-0.2156537938520024,-0.2134482623921358,-0.6058122224641018,-0.18108055798273323,-0.03570101002356088,-0.21831855089230345,-0.15442119451228778,-0.12060075438704815,0.7073995461706488,-0.1424768953102449,0.4069146713571757,-0.4023095894130123,-0.122408222705353,-0.12280016257746935,-0.2764707360730036,-0.15590526367949506,-0.1724456863418051,-0.35350619601707406,-0.1388245424011308,-0.4027648889199649,-0.1405952903544751,-0.3591524778131489,0.5514440274466618,-0.1859468780770613,-0.3520017889309649,-0.3529897555485497,-0.2566421954810716,-0.31554893574267423,-0.3928392748904685,-0.11987833336622343,-0.0902410899945737,-0.11874806851340759,-0.39549938952643515,3.7796811231214025,0.0806633025598044,0.5216793463912598,-0.3930461679157959,-0.07709610136728588,-0.352375492799433,-0.07331450378981645,-0.353200031188415,-0.2570245205722842,-0.35371761385777295,-0.38714438370041504,-0.15713804031442866,-0.2675271838429419,-0.081168205925399,-0.3828982140531704,-0.12039118761081943,-0.35299772974605004,0.5407959278881015,-0.34607632408702393,-0.18344887528264775,-0.3920752165440041,-0.3514394069908485,-0.35949132816366614,-0.17362842362662037,-0.17158751147080756,-0.40430813346218675,-0.2994248534504104,3.763010677379431,-0.1172668944146455,-0.34864015209674654,-0.3316904098721783,-0.11006989729197249,-0.270377218797193,-0.09307763318577937,3.7728495900320884,-0.1286622439503292,3.7740903068278517,-0.2379616499011621,-0.35942737542742575,34.00841438845563,-0.3568525802309842,2.5054191358066475,-0.3518825862745437,0.34880509059479364,-0.14088282447578518,-0.30997481476814054],\"y\":[0.8291400255562273,0.8289982730933929,1.5966916104628663,-1.1781070423866156,-1.8128841884846698,-1.1831063548397178,1.2028556191018882,-1.9816525788349415,-1.8129973750552106,-2.097972488935449,0.9461531785684774,-1.6779806036162737,0.8340996681637989,0.6780442840151901,-1.1830801396601567,1.8041967630859155,-0.8093525713521117,-1.183102581087591,0.8291334507114076,0.829228541596579,-1.6690221177929603,-1.3914849568906016,-1.178166588394645,-1.1831872708244868,-1.1831227953701497,0.8291571685068642,-0.38832930990682546,-1.1023875789323272,-1.1830910288181211,0.8291397601303565,-1.1830799374424108,0.8291396275760631,-1.1830760219348397,-0.8093523429472186,-0.4807014611492011,0.9098587638450646,-1.6749379788897416,-1.1868806178741966,-1.188649935883935,-1.1830780303209132,-1.1832017680154305,-1.1830841974846975,1.58259853143262,0.11076130497223753,-1.1830754845163545,-1.432649721871726,-1.1837174183965309,-1.183098389511699,-1.183102953577938,0.8290873308480562,1.0470380915350355,-1.2196223580422696,1.202856819834887,-1.178106601888439,-1.183192505204719,-1.183077708249562,-1.1830701243540274,1.0012424545858467,-1.183087026254825,-1.945923048930437,0.6760442870925886,-1.1830741644267762,0.8330232231093729,0.673071466118948,1.7631315845165292,-1.190881173964463,-1.1781074868689734,-1.1832058259434375,1.7631244897474234,0.5797115470565918,0.8289430906711073,0.8290971389219156,0.8332237520898913,-1.1830807893874316,-1.1832018593671283,-1.1830937689358738,1.0468113334872615,1.2028663011091107,-1.1785016285176761,0.18793264638886364,-1.1781175928622005,1.6773952734668969,1.202861073463394,-1.1781177424476212,-1.1781412444916677,-1.1780982496655066,-0.8093431013854954,0.8284247146712229,0.8290927486078999,-1.183078803723069,-0.022941717537304004,-1.2401180237172462,-1.1831969406893235,1.2028642846382276,0.18798967099878416,-1.1781171055894697,1.7631269884634349,0.8286178924894038,-2.165887441275946,-2.095874337832153,-1.1643351645777482,1.4645541065147971,-1.1831170995237699,0.8340799719355728,0.9098680907846056,-1.1839235479273267,0.6730817807401892,-1.1831406946994891,1.7631161471831538,-1.1830709464825089,0.6728309482528279,-1.183135173579196,0.8291402300468264,1.7631179395514778,-1.1835018916709972,-2.1525620882585326,1.0467937895200483,-1.6681627281581033,-1.4977370320768513,-1.1830699627375842,0.829130787168522,-1.1878547990068018,-1.8292075076265704,-1.1830697954073217,-1.178107803611802,-1.2330023921794475,1.2028665123503792,-0.05243608260685362,-0.8093566917258739,-2.0575050531683026,-1.1781252658042949,1.8381354392091616,-0.8093524574150247,1.5889769217114982,-1.183179116497224,-1.18319469932285,0.6730376492628801,-1.8129069030511904,1.7630984508955425,-1.9418929959737925,0.83357467895068,1.804370778553694,-0.8093497431353297,-1.1781066146864407,0.9471016777070003,-1.1831542691722448,-2.1270833973060412,0.8340999998189198,1.1899881423044625,-1.1831054080218135,0.8341064447132546,-1.1868073437631237,1.4634015747516589,0.8291184836833556,0.6729636564462681,-0.8093825764650417,-1.9895290647740156,-1.1831608292306317,-1.9898693096391404,1.2026593358333046,0.6244960745724978,0.8340903288875446,-0.4654300088843264,1.5825896713135907,-1.1830794851219042,-0.8093549362328917,1.2028443391683177,0.8339907119756507,0.8338288073127912,1.4619616546137786,1.202794256717554,-1.1830697941848802,1.5805986018617664,0.8281677942877639,0.8291165942520703,0.8290996809584386,1.6069524935533024,-0.8093566463312257,1.0465392056735565,-2.1818050329011003,1.202841332148154,0.8290971912654092,-2.091413294638291,0.8341001143154407,-1.1781025563835483,1.2028647648527673,0.829128987529769,-1.6686837944328918,0.8291402958042081,-1.1831618183634252,0.6731016193582774,-1.1781026472994147,-0.060975617638390545,-1.183084279004971,1.747343825809239,1.5825678899310014,0.8291446953988512,1.20208904911031,-2.1381981853631746,1.5825967469506899,1.607059338069756,1.7225611391580378,1.5824368551316617,1.7515484417403755,-1.8129097616704533,-2.0979727354317714,2.4086337690164927,1.2028525742302878,-1.188469685390988,-0.8094998586885789,1.775503716319774,1.2028647468780578,1.5825775679291718,0.8291214886681691,0.8291175713693626,-0.8094584679562978,1.5825896713135907,1.2028345820728,0.8341023037740445,0.829124934913209,0.5155771006699134,0.8291263721864209,0.8287884013498603,1.2028637012311243,-2.0914202182965886,0.829063036851032,0.660140821947181,0.8291334536376852,0.8291386878308729,1.4679094553314123,0.5144330753903976,-1.18307089411598,-2.0914212220842594,-2.057476426762979,0.8288719897714659,0.8341003832593914,1.2028620129440728,0.8291308173979615,-0.8635433134422723,0.8291281642203524,-1.9817538554090157,0.673048549838819,-0.09133149227011994,-1.1830709351534932,1.6070544867397807,-0.8098817852576087,-2.097970382215994,0.8287365794258569,-1.1831099119096258,-2.0574800748811697,0.6730643308887746,-2.0969286087106846,1.2028138602426606,1.875581016917232,1.202822010226186,-1.185231610621542,1.58255336197171,1.20281502461126,-0.550235472427183,1.582436559782069,1.2026118755339479,0.829129260631972,0.8291246629312042,0.8285973467570865,0.637357268605319,1.2028469835625597,-1.183085999616315,0.6720336099982824,-1.1792714478501451,1.5825830444674234,0.8290860123094855,1.761199700675146,0.6779422428198194,-1.1831067186337136,1.5805710636708152,-1.9817023467058508,1.7568911182154916,-2.027061424014517,-1.946669791402377,-2.2230364830201057,-2.0922423908002745,1.4619940307396107,-0.809392649472566,1.4619425153020928,1.855254276558889,-1.183077481938832,1.7631090586712481,-1.183109531733307,-0.8093722067128403,-0.8093531621385056,0.8032625820749906,-2.091436292481863,1.7631151745598046,-2.0308123393852684,-1.2689052855718503,-1.0266555462671532,1.5854484983677972,-0.8099232317399846,1.8552599221253687,-1.1781070328562941,1.2028628923585685,0.6730711466974616,0.33195083395423247,-1.1887683367959319,1.582564864159232,-1.1631483846208106,-1.183079048655091,-1.1831127050047747,-1.1831192725626587,-1.1831191235377425,0.8291165587840673,0.8291383310993514,-2.0914559548548426,0.9476793569760222,1.3416884759139898,1.2028526589487378,-2.1086338560473323,0.579521487144925,-0.8099437027425104,0.8291316452378201,-1.4325105003551533,0.6160582951869412,-2.0979711210835013,0.8223218308275121,0.8340699771318786,1.4614256667374146,1.8344482248990468,-1.9895936774029495,0.8291289273118836,1.6238738916006257,-1.1831098914888565,1.4475883260423983,0.82913427859952,0.6744183820658384,-0.8095088235544675,-1.4325199620681377,-1.8130493817260174,-1.4325128734228663,1.202793466861496,2.4084552972243563,1.449672490631804,1.7630339679680425,-1.6684629063950072,0.8290415077454448,-2.1348565740969736,-2.091415114332045,-1.8182541123857556,1.3059236479260943,1.4679076384163199,-0.8096305929896002,-1.982135974873762,0.8026867855928554,0.8290597861453592,-1.1852310653863474,1.2028454569373648,-1.1097537405065392,-0.8093534268710775,-1.4325067310298583,1.467854804500966,-1.4327260381587448,-1.1830979454889226,0.828733882792579,0.8291382034600427,1.0467934860149577,-0.8093545717617228,-1.178106277860875,-0.9693153885560053,1.58060068772981,0.043247697423035386,-0.15435332014943698,-2.626754921754283,-1.9038477141057282,0.82904682255842,-2.0915726632181633,-1.1871040069544445,-1.9895529008166928,-1.2405869025143732,1.6066582291358864,2.1444820041361914,3.3806182564663003,-1.1830895216493946,-1.1910412736490679,-0.8095852095489621,1.042896075965174,1.2028530347595636,2.0891690747192393,0.6730142550298237,1.6172436030939827,-1.8163925611946432,-2.0919405542809315,-1.1830803762091269,-2.0270087756160984,1.4619736603978681,0.8291385151270779,0.829137476507559,-2.097990172103718,0.6728438548304119,-2.1383466407699765,1.4583960414402264,1.5825530258307219,0.829125119496055,2.4128575251588145,-0.8093931143959832,1.6238890794603673,1.582555863167747,-2.091416712222128,0.6823552321888857,0.8265556968006197,-0.5502191566223862,-2.0574848139401176,2.475302276955356,-1.9953192864265508,0.673069274365819,-2.138192350462331,-2.0917345944549486,-2.031523829172316,-2.185522252370702,0.8250248748705727,0.6730551758217561,-2.2378972324865707,1.755421919279213,-2.091873684031358,0.8290974435400472,1.648276506516187,-0.3963232619838257,1.4675637232865792,0.6780030334415231,1.9601493932752176,-1.1737793465490554,-2.083370018011194,-0.8093539717436319,0.8384014155611882,1.467905720284137,1.6239761920051394,0.6639165449052912,0.7721033725601151,1.467871058019947,-1.183081345734469,0.8285980298681507,-1.9826026144538615,-1.9476315773412114,0.07688008716197549,-2.11769791554711,1.0467771029140822,1.2028434505537735,0.6729518910329338,1.5824850623494857,-1.1789453788752267,0.9877575943030805,1.0467506224522807,-0.8093561395543488,0.8195182072252089,0.09177448180431061,-1.1738214130747833,-2.101497047187878,1.9331133576036064,-2.138231316330123,-1.178107033284649,3.1438562036085957,1.0492016520935183,-2.0955342793766873,1.6239537737560017,-2.0887673330100403,-2.088721984556128,-0.2418696916977175,-2.042746740794929,-1.1831297600544186,0.8291306864022714,-2.0980997826373606,1.6239703757029973,-2.0979753794606095,1.467909144369703,0.7928365331398448,-1.49779039302995,1.0467936773405575,0.8290972968809672,2.0889579195326506,1.7528826868238139,1.2026404952061032,-1.1781255932150116,-0.2490881693710909,-1.178177536907239,1.2028533310803142,2.4082830936262623,0.8122777857287766,-1.2363054297738612,1.2029000926235136,-1.4341346328492866,0.8290319686129224,-2.092506484764282,0.8291134445063881,0.6780386115270038,0.8291413672216729,1.2026557123264807,-1.183503608788009,0.82357778498363,0.8365073521975592,1.2023924018920382,-1.1781177352689425,0.8291402424853569,-1.2060858504980196,0.8289792484093019,-1.1023956682731504,1.2027814603246754,0.8290676205861567,1.5825933878087288,-1.1830715553908846,-1.1831586184960423,0.7590660564084831,0.8340648430486417,2.4086164622766137,0.6690387709612946,0.8290123059927245,0.5796806444827486,-1.668172854004002,1.7631223329115615,-1.9164753407252217,2.408828703993231,-1.8129090687133549,2.4088428902294976,0.6776459512457393,1.5825943472328843,1.5060978102537992,1.9133805928358814,1.125772372320434,0.8290064183857275,-2.0920323782304906,-2.0979725009877086,0.6730774690053929],\"z\":[-0.5762370489909743,-0.5766560392494277,-0.6661042259293053,0.2567661694351403,0.4202297882949714,0.022691858459994538,-0.5005461201329395,0.47538629176992664,0.42021866123401386,0.41318698075343124,-0.1612543942342267,0.42345924035266075,-0.34218380184936864,-0.0665281679271471,0.022716061332954535,-0.5697664348714709,0.09840934590497263,0.022711802143878395,-0.5762445766690145,-0.5764756376355344,0.4279220640764752,0.006269235483543102,0.2567026183154901,0.022660002567321334,0.022712080291535448,-0.5762832565351258,0.05395218688800613,0.15090106543374682,0.022704506313829975,-0.576237086380254,0.022715516269365847,-0.5762374819786849,0.022716797713515247,0.09841174181228861,0.0553564921725088,-0.4480343358645951,0.42195124556246766,0.24882499785809395,0.017432666901012934,0.02271037575865181,0.022624102316783766,0.02271043535038934,-0.23429922393614194,-0.3872010352245783,0.022718216423481534,0.2780007428934295,0.022326299243280286,0.02269146937888399,0.022700389969455184,-0.57627570747001,-0.22551278952611437,-0.01517886943366146,-0.500549356623562,0.2567649821035679,0.022650891162668378,0.022711013416422586,0.022718654328373274,-0.49392690269297046,0.02270300231708996,0.604594387726317,-0.30857323489747257,0.02271651907600367,-0.342891972188735,-0.30058457033500635,-0.6416771800731091,0.021188143494571977,0.25676736750582035,0.022579013866332313,-0.6416580566262575,-0.32086405904818227,-0.5763386517803609,-0.5762690173158168,-0.5872444441162206,0.022717812626734304,0.02269932494916044,0.022707323575644298,-0.22490157929363613,-0.5005417871099112,0.2565242386168838,0.10531029673380166,0.25675543923798777,-0.28245549330046,-0.5005427526384487,0.2567633893472921,0.2567695178663155,0.25677371417784867,0.09841393584675293,-0.576718224381145,-0.5762601950923214,0.02270944885279707,-0.4591401308577371,0.27969436765228073,0.02266284669678342,-0.5005446321302931,0.10530716876802271,0.2567571554065658,-0.6416647917380194,-0.5763354545357934,0.4175142836192032,0.4915082076169218,0.8599420153289202,-0.04743441679569982,0.022689017957009932,-0.3421999778629335,-0.4480528806597711,0.02249132236961357,-0.3005880091727724,0.022660364069047787,-0.641653639175078,0.0227189459327715,-0.3006647971219682,0.02265509818085905,-0.5762376001176399,-0.6416554588202489,0.022378707052403985,0.5239114648651166,-0.2248844063395451,0.428617196780691,0.27487035404210675,0.02271517501742095,-0.5762422630740427,0.020559655733360417,0.30314297021351705,0.022718867680003217,0.2567682212636473,0.01877797390536734,-0.5005423549899881,-0.11931705953879553,0.09840087696289437,0.41773914240044047,0.2567659600692894,-0.8769100322971526,0.098407533017385,-0.4876499359917705,0.022697892899905755,0.022680025557712626,-0.300619633731362,0.4202655565128345,-0.6416631596606875,0.4136070323096315,-0.342241381796155,-0.5697480577892908,0.09840774576026569,0.25676501659967305,-0.35757143244432343,0.022631280084775447,0.37592213527499535,-0.3421846958022208,-0.5058080346526425,0.022689306379508653,-0.34218475110783175,0.24768445388600496,-0.5617731979860461,-0.5762422270240734,-0.3006024697635078,0.09839385275032726,0.4123717423723118,0.022711675963482815,0.5193517816664253,-0.5005621442331196,-0.3187007315869465,-0.3421857325012462,0.07119087178309702,-0.23430545767883307,0.02271580284977651,0.0984081913821017,-0.5005955221194922,-0.3421923655126942,-0.34221112209984306,-0.5580275154391382,-0.5005568982342133,0.022718868947506195,-0.16554860099740157,-0.5766280250130932,-0.5762406476781576,-0.5762788807514462,-0.36600356375107096,0.09841280083085326,-0.2251573743867912,0.3593134241226832,-0.5005497724536556,-0.5762571121779764,0.49452650687045024,-0.34218349864121933,0.2567710388183331,-0.5005421620688906,-0.5762389180536948,0.4282147600600417,-0.5762377773619972,0.022666686176608067,-0.3006414827605574,0.25676992521489733,-0.3133114489851689,0.022713666639008263,-0.7875923331140615,-0.2343280595327349,-0.576249636157268,-0.5007054253539897,0.4373298284243441,-0.23435464496815891,-0.3659941645480646,-0.8191658405317299,-0.23431667618932253,-0.7801123836215634,0.42025925927249647,0.4131876451667825,-0.5341170407656429,-0.5005499591235464,0.022217038364387088,0.09808357491164715,-0.6763052952338025,-0.5005433985402385,-0.23431800721224585,-0.5762451167547259,-0.5762397679464206,0.09838158081333157,-0.23430545767883307,-0.5005466358868781,-0.34218789439332326,-0.5762460638522534,-0.1554906070847427,-0.5762424090289834,-0.5762690202480408,-0.5005423067087041,0.49452860553948813,-0.5762463634023895,-0.31466682744550845,-0.5762389099047609,-0.576238436026898,-0.2692412942160924,-0.32409815877959386,0.022718674854925187,0.4945252880649424,0.41774598797049944,-0.5762674666091215,-0.342184223560561,-0.5005443122092244,-0.5762423445553516,0.0939289375346411,-0.5762381042740973,0.47538070661462656,-0.30058125543923553,-0.47503294201700685,0.022717813166532527,-0.3659991947053751,0.09836014176030568,0.41318732535359015,-0.5766553667538322,0.022677353837593783,0.41773925765202313,-0.3005928128951421,0.385409505613248,-0.5005510127937267,-0.6381566112706707,-0.5005880382787099,0.022523707029312605,-0.23434354518694386,-0.5005541512666912,0.04095798162766951,-0.23446495214236412,-0.5006088886400402,-0.576239973588499,-0.5762387053197453,-0.5762800749717631,-0.06977375070950038,-0.5005499476577804,0.022709991926572835,-0.3007742957943019,0.25617191747798607,-0.23430265326758523,-0.5762495667690496,-0.5888639234435036,-0.06653558333213248,0.022710908379937344,-0.16557450801087625,0.47536233081919865,-0.8428049607760664,0.5320130642484094,0.42597015575321884,0.4057361892725372,0.49376477804151686,-0.5579943207295545,0.09839691137554389,-0.5580211001297054,-0.6644026623514384,0.022711492390734386,-0.6416616366025983,0.02271397355558511,0.09840204049689623,0.09841259468386594,-0.5817751482489134,0.49452224168335207,-0.6416614046787313,0.3850994075302877,-0.04707237494237223,0.27398161844866215,-0.06586433800961565,0.0983212799883371,-0.6644178795754097,0.2567661437468502,-0.5005469134007544,-0.30058555527735126,10.504806950414912,0.022269142915453514,-0.23430123207654238,-0.030976949154408875,0.022714626384443715,0.022708974879462784,0.02270258481383678,0.022702183127745638,-0.576246452720216,-0.576238805908081,0.49452270528617404,-0.1600840506026417,-0.22068817378313987,-0.5005456701413623,0.4103342175873904,-0.32094840055502627,0.09732241334734029,-0.576238151284592,0.27809076665108684,-0.04358978764736264,0.41318329380553637,-0.5955035449835326,-0.34222122248262044,-0.5582542119985695,-0.5574127508949362,0.41235571119909037,-0.5762387557406561,-0.5449160486640459,0.022677298794857182,-0.1624518534497109,-0.5762438262779632,-0.07028798846641326,0.09833360580947055,0.2780891660187292,0.42025343704841706,0.2780899353511619,-0.5005622981244953,-0.5342006495543818,-0.569940773176896,-0.641730275024037,0.42843249227873015,-0.5762877145900772,0.48364869135106137,0.49452764728025483,0.4196462547329352,-0.2823392404131156,-0.2692439257416037,0.09836067103370526,0.47518425397265796,-0.5802231296759863,-0.5762466360253504,0.021016459136349527,-0.5005608905303763,0.22623603606182022,0.09841195305130801,0.2780896413716434,-0.26925209349575885,0.27795950039824446,0.02269930721649754,-0.5764975203449522,-0.5762381607097288,-0.2248850940413539,0.09841022053242342,0.2567653645293163,0.07417367325372871,-0.16554142419161053,0.09697261589144819,-0.2944906163021579,0.43173869390098973,0.4312745571584731,-0.5763351674129772,0.49446518986248894,0.018535949014376364,0.4123305862568979,0.27942832648587196,-0.3661138618388582,18.942697657919467,11.63897810651242,0.022712740032643907,0.01648952469062511,0.09831363210136687,-0.5247820959895445,-0.5005436715562818,-0.7702299162652265,-0.30059271491369005,-0.05963418362318353,0.4198987994290599,0.49445697736636407,0.022716698933923543,0.35051952424537,-0.5579996450484423,-0.5762374950078609,-0.5762377070391271,0.4131608613447972,-0.3006995858863064,0.4373104696216364,-0.16138674903352443,-0.23430907530035244,-0.576242044047467,-0.655195806778241,0.09839816454363466,-0.5449569864626155,-0.23430467691502332,0.4945230701879413,-0.009184038873797581,-0.5769836968420332,0.040955039002132265,0.4177440809400808,-0.7573402084929192,0.49633649205808356,-0.3005934493623524,0.43733051384596705,0.494504137786062,0.35501611793998855,0.4711423862039163,-0.5805038903337781,-0.30058255174545423,0.6183026037842182,-0.7794012738267753,0.4942767333521441,-0.5762487574968578,-0.2940978303006734,-0.3943783216204811,-0.26926556720388994,-0.06654913035158565,-0.3462877944759377,0.31411247437608375,0.5454064468671004,0.09841161478272514,-0.28485710466225705,-0.26924026133061973,-0.5448983927610764,-0.30130130301281,-0.3192462501743025,-0.2692657881381802,0.022717647939722137,-0.5762819162491792,0.47531193344860645,0.4383354602628379,-0.1712855456611406,0.3097472075735558,-0.22489213101565086,-0.5005554824657313,-0.30062940302615077,-0.23430958950444253,0.2558953329867758,-0.32393634624255574,-0.22488851483060723,0.09841143484972995,-0.5774061286794713,-0.08912957863249378,0.3141085249959382,0.4112748841355115,-0.4945726319648874,0.4373248688770225,0.25676614490144967,-1.0173304554842402,-0.2313445135372883,0.49348269841580306,-0.5449115217226012,0.495629801979696,0.495627866872639,0.08988416582214745,0.7101179472999175,0.022700737538901616,-0.5762434972440138,0.41316599471597815,-0.5449036230607565,0.4131798858351635,-0.2692380016223119,-0.5910157735674944,0.2748636068808082,-0.22488365223420906,-0.5762483621877114,-0.7703233048690092,-0.7799352662993279,-0.5005655686760367,0.25675142341235424,-0.04269671931096884,0.2567348330119033,-0.5005519991591041,-0.5344893760969848,-0.5834883164205172,0.01849583010177514,-0.5006328682341719,0.2764860435857303,-0.5762469447525136,0.49532625994322377,-0.5762470992774555,-0.06652567725276443,-0.5762406652917713,-0.5007270476047058,0.022383335419504324,-0.5770550956697187,-0.34892651411730563,-0.500770202132682,0.2567633699976737,-0.5762602203185919,0.0094690317239202,-0.5764059968337484,0.15089124833482565,-0.5006263051642986,-0.5762828109872931,-0.23429891166707603,0.022717015496091487,0.02268516516959328,-0.06091678242412514,-0.3422149128167044,-0.5341229710432717,-0.30476145013229106,-0.5763445233797242,-0.3208656864526675,0.42864027410092015,-0.6416524237215805,0.2864148944727465,-0.5344542518860839,0.4202599777729888,-0.534492489879624,-0.06694144622673677,-0.23430094682279765,-1.365849589872801,-0.41876540782968774,-0.2551506342649706,-0.5762533648401233,0.4941018358068147,0.413187013239441,-0.3005778929757368],\"type\":\"scatter3d\"},{\"customdata\":[[\"Proof-of-Authority\"]],\"hovertemplate\":\"<b>%{hovertext}</b><br><br>Class=%{marker.color}<br>PrincipleComponent1=%{x}<br>PrincipleComponent2=%{y}<br>PrincipleComponent3=%{z}<br>Algorithm=%{customdata[0]}<extra></extra>\",\"hovertext\":[\"Poa Network\"],\"legendgroup\":\"2\",\"marker\":{\"color\":[2],\"coloraxis\":\"coloraxis\",\"symbol\":\"diamond\"},\"mode\":\"markers\",\"name\":\"2\",\"scene\":\"scene\",\"showlegend\":true,\"x\":[-0.3967167302903927],\"y\":[4.953938197816398],\"z\":[9.005209454296969],\"type\":\"scatter3d\"},{\"customdata\":[[\"ECC 256K1\"]],\"hovertemplate\":\"<b>%{hovertext}</b><br><br>Class=%{marker.color}<br>PrincipleComponent1=%{x}<br>PrincipleComponent2=%{y}<br>PrincipleComponent3=%{z}<br>Algorithm=%{customdata[0]}<extra></extra>\",\"hovertext\":[\"Acute Angle Cloud\"],\"legendgroup\":\"1\",\"marker\":{\"color\":[1],\"coloraxis\":\"coloraxis\",\"symbol\":\"square\"},\"mode\":\"markers\",\"name\":\"1\",\"scene\":\"scene\",\"showlegend\":true,\"x\":[-0.33162303962933315],\"y\":[4.64351031499303],\"z\":[16.42047494682594],\"type\":\"scatter3d\"},{\"customdata\":[[\"Leased POS\"]],\"hovertemplate\":\"<b>%{hovertext}</b><br><br>Class=%{marker.color}<br>PrincipleComponent1=%{x}<br>PrincipleComponent2=%{y}<br>PrincipleComponent3=%{z}<br>Algorithm=%{customdata[0]}<extra></extra>\",\"hovertext\":[\"Waves\"],\"legendgroup\":\"3\",\"marker\":{\"color\":[3],\"coloraxis\":\"coloraxis\",\"symbol\":\"x\"},\"mode\":\"markers\",\"name\":\"3\",\"scene\":\"scene\",\"showlegend\":true,\"x\":[-0.31282713135305185],\"y\":[8.234488995398987],\"z\":[5.004533532458842],\"type\":\"scatter3d\"}],                        {\"template\":{\"data\":{\"bar\":[{\"error_x\":{\"color\":\"#2a3f5f\"},\"error_y\":{\"color\":\"#2a3f5f\"},\"marker\":{\"line\":{\"color\":\"#E5ECF6\",\"width\":0.5},\"pattern\":{\"fillmode\":\"overlay\",\"size\":10,\"solidity\":0.2}},\"type\":\"bar\"}],\"barpolar\":[{\"marker\":{\"line\":{\"color\":\"#E5ECF6\",\"width\":0.5},\"pattern\":{\"fillmode\":\"overlay\",\"size\":10,\"solidity\":0.2}},\"type\":\"barpolar\"}],\"carpet\":[{\"aaxis\":{\"endlinecolor\":\"#2a3f5f\",\"gridcolor\":\"white\",\"linecolor\":\"white\",\"minorgridcolor\":\"white\",\"startlinecolor\":\"#2a3f5f\"},\"baxis\":{\"endlinecolor\":\"#2a3f5f\",\"gridcolor\":\"white\",\"linecolor\":\"white\",\"minorgridcolor\":\"white\",\"startlinecolor\":\"#2a3f5f\"},\"type\":\"carpet\"}],\"choropleth\":[{\"colorbar\":{\"outlinewidth\":0,\"ticks\":\"\"},\"type\":\"choropleth\"}],\"contour\":[{\"colorbar\":{\"outlinewidth\":0,\"ticks\":\"\"},\"colorscale\":[[0.0,\"#0d0887\"],[0.1111111111111111,\"#46039f\"],[0.2222222222222222,\"#7201a8\"],[0.3333333333333333,\"#9c179e\"],[0.4444444444444444,\"#bd3786\"],[0.5555555555555556,\"#d8576b\"],[0.6666666666666666,\"#ed7953\"],[0.7777777777777778,\"#fb9f3a\"],[0.8888888888888888,\"#fdca26\"],[1.0,\"#f0f921\"]],\"type\":\"contour\"}],\"contourcarpet\":[{\"colorbar\":{\"outlinewidth\":0,\"ticks\":\"\"},\"type\":\"contourcarpet\"}],\"heatmap\":[{\"colorbar\":{\"outlinewidth\":0,\"ticks\":\"\"},\"colorscale\":[[0.0,\"#0d0887\"],[0.1111111111111111,\"#46039f\"],[0.2222222222222222,\"#7201a8\"],[0.3333333333333333,\"#9c179e\"],[0.4444444444444444,\"#bd3786\"],[0.5555555555555556,\"#d8576b\"],[0.6666666666666666,\"#ed7953\"],[0.7777777777777778,\"#fb9f3a\"],[0.8888888888888888,\"#fdca26\"],[1.0,\"#f0f921\"]],\"type\":\"heatmap\"}],\"heatmapgl\":[{\"colorbar\":{\"outlinewidth\":0,\"ticks\":\"\"},\"colorscale\":[[0.0,\"#0d0887\"],[0.1111111111111111,\"#46039f\"],[0.2222222222222222,\"#7201a8\"],[0.3333333333333333,\"#9c179e\"],[0.4444444444444444,\"#bd3786\"],[0.5555555555555556,\"#d8576b\"],[0.6666666666666666,\"#ed7953\"],[0.7777777777777778,\"#fb9f3a\"],[0.8888888888888888,\"#fdca26\"],[1.0,\"#f0f921\"]],\"type\":\"heatmapgl\"}],\"histogram\":[{\"marker\":{\"pattern\":{\"fillmode\":\"overlay\",\"size\":10,\"solidity\":0.2}},\"type\":\"histogram\"}],\"histogram2d\":[{\"colorbar\":{\"outlinewidth\":0,\"ticks\":\"\"},\"colorscale\":[[0.0,\"#0d0887\"],[0.1111111111111111,\"#46039f\"],[0.2222222222222222,\"#7201a8\"],[0.3333333333333333,\"#9c179e\"],[0.4444444444444444,\"#bd3786\"],[0.5555555555555556,\"#d8576b\"],[0.6666666666666666,\"#ed7953\"],[0.7777777777777778,\"#fb9f3a\"],[0.8888888888888888,\"#fdca26\"],[1.0,\"#f0f921\"]],\"type\":\"histogram2d\"}],\"histogram2dcontour\":[{\"colorbar\":{\"outlinewidth\":0,\"ticks\":\"\"},\"colorscale\":[[0.0,\"#0d0887\"],[0.1111111111111111,\"#46039f\"],[0.2222222222222222,\"#7201a8\"],[0.3333333333333333,\"#9c179e\"],[0.4444444444444444,\"#bd3786\"],[0.5555555555555556,\"#d8576b\"],[0.6666666666666666,\"#ed7953\"],[0.7777777777777778,\"#fb9f3a\"],[0.8888888888888888,\"#fdca26\"],[1.0,\"#f0f921\"]],\"type\":\"histogram2dcontour\"}],\"mesh3d\":[{\"colorbar\":{\"outlinewidth\":0,\"ticks\":\"\"},\"type\":\"mesh3d\"}],\"parcoords\":[{\"line\":{\"colorbar\":{\"outlinewidth\":0,\"ticks\":\"\"}},\"type\":\"parcoords\"}],\"pie\":[{\"automargin\":true,\"type\":\"pie\"}],\"scatter\":[{\"marker\":{\"colorbar\":{\"outlinewidth\":0,\"ticks\":\"\"}},\"type\":\"scatter\"}],\"scatter3d\":[{\"line\":{\"colorbar\":{\"outlinewidth\":0,\"ticks\":\"\"}},\"marker\":{\"colorbar\":{\"outlinewidth\":0,\"ticks\":\"\"}},\"type\":\"scatter3d\"}],\"scattercarpet\":[{\"marker\":{\"colorbar\":{\"outlinewidth\":0,\"ticks\":\"\"}},\"type\":\"scattercarpet\"}],\"scattergeo\":[{\"marker\":{\"colorbar\":{\"outlinewidth\":0,\"ticks\":\"\"}},\"type\":\"scattergeo\"}],\"scattergl\":[{\"marker\":{\"colorbar\":{\"outlinewidth\":0,\"ticks\":\"\"}},\"type\":\"scattergl\"}],\"scattermapbox\":[{\"marker\":{\"colorbar\":{\"outlinewidth\":0,\"ticks\":\"\"}},\"type\":\"scattermapbox\"}],\"scatterpolar\":[{\"marker\":{\"colorbar\":{\"outlinewidth\":0,\"ticks\":\"\"}},\"type\":\"scatterpolar\"}],\"scatterpolargl\":[{\"marker\":{\"colorbar\":{\"outlinewidth\":0,\"ticks\":\"\"}},\"type\":\"scatterpolargl\"}],\"scatterternary\":[{\"marker\":{\"colorbar\":{\"outlinewidth\":0,\"ticks\":\"\"}},\"type\":\"scatterternary\"}],\"surface\":[{\"colorbar\":{\"outlinewidth\":0,\"ticks\":\"\"},\"colorscale\":[[0.0,\"#0d0887\"],[0.1111111111111111,\"#46039f\"],[0.2222222222222222,\"#7201a8\"],[0.3333333333333333,\"#9c179e\"],[0.4444444444444444,\"#bd3786\"],[0.5555555555555556,\"#d8576b\"],[0.6666666666666666,\"#ed7953\"],[0.7777777777777778,\"#fb9f3a\"],[0.8888888888888888,\"#fdca26\"],[1.0,\"#f0f921\"]],\"type\":\"surface\"}],\"table\":[{\"cells\":{\"fill\":{\"color\":\"#EBF0F8\"},\"line\":{\"color\":\"white\"}},\"header\":{\"fill\":{\"color\":\"#C8D4E3\"},\"line\":{\"color\":\"white\"}},\"type\":\"table\"}]},\"layout\":{\"annotationdefaults\":{\"arrowcolor\":\"#2a3f5f\",\"arrowhead\":0,\"arrowwidth\":1},\"autotypenumbers\":\"strict\",\"coloraxis\":{\"colorbar\":{\"outlinewidth\":0,\"ticks\":\"\"}},\"colorscale\":{\"diverging\":[[0,\"#8e0152\"],[0.1,\"#c51b7d\"],[0.2,\"#de77ae\"],[0.3,\"#f1b6da\"],[0.4,\"#fde0ef\"],[0.5,\"#f7f7f7\"],[0.6,\"#e6f5d0\"],[0.7,\"#b8e186\"],[0.8,\"#7fbc41\"],[0.9,\"#4d9221\"],[1,\"#276419\"]],\"sequential\":[[0.0,\"#0d0887\"],[0.1111111111111111,\"#46039f\"],[0.2222222222222222,\"#7201a8\"],[0.3333333333333333,\"#9c179e\"],[0.4444444444444444,\"#bd3786\"],[0.5555555555555556,\"#d8576b\"],[0.6666666666666666,\"#ed7953\"],[0.7777777777777778,\"#fb9f3a\"],[0.8888888888888888,\"#fdca26\"],[1.0,\"#f0f921\"]],\"sequentialminus\":[[0.0,\"#0d0887\"],[0.1111111111111111,\"#46039f\"],[0.2222222222222222,\"#7201a8\"],[0.3333333333333333,\"#9c179e\"],[0.4444444444444444,\"#bd3786\"],[0.5555555555555556,\"#d8576b\"],[0.6666666666666666,\"#ed7953\"],[0.7777777777777778,\"#fb9f3a\"],[0.8888888888888888,\"#fdca26\"],[1.0,\"#f0f921\"]]},\"colorway\":[\"#636efa\",\"#EF553B\",\"#00cc96\",\"#ab63fa\",\"#FFA15A\",\"#19d3f3\",\"#FF6692\",\"#B6E880\",\"#FF97FF\",\"#FECB52\"],\"font\":{\"color\":\"#2a3f5f\"},\"geo\":{\"bgcolor\":\"white\",\"lakecolor\":\"white\",\"landcolor\":\"#E5ECF6\",\"showlakes\":true,\"showland\":true,\"subunitcolor\":\"white\"},\"hoverlabel\":{\"align\":\"left\"},\"hovermode\":\"closest\",\"mapbox\":{\"style\":\"light\"},\"paper_bgcolor\":\"white\",\"plot_bgcolor\":\"#E5ECF6\",\"polar\":{\"angularaxis\":{\"gridcolor\":\"white\",\"linecolor\":\"white\",\"ticks\":\"\"},\"bgcolor\":\"#E5ECF6\",\"radialaxis\":{\"gridcolor\":\"white\",\"linecolor\":\"white\",\"ticks\":\"\"}},\"scene\":{\"xaxis\":{\"backgroundcolor\":\"#E5ECF6\",\"gridcolor\":\"white\",\"gridwidth\":2,\"linecolor\":\"white\",\"showbackground\":true,\"ticks\":\"\",\"zerolinecolor\":\"white\"},\"yaxis\":{\"backgroundcolor\":\"#E5ECF6\",\"gridcolor\":\"white\",\"gridwidth\":2,\"linecolor\":\"white\",\"showbackground\":true,\"ticks\":\"\",\"zerolinecolor\":\"white\"},\"zaxis\":{\"backgroundcolor\":\"#E5ECF6\",\"gridcolor\":\"white\",\"gridwidth\":2,\"linecolor\":\"white\",\"showbackground\":true,\"ticks\":\"\",\"zerolinecolor\":\"white\"}},\"shapedefaults\":{\"line\":{\"color\":\"#2a3f5f\"}},\"ternary\":{\"aaxis\":{\"gridcolor\":\"white\",\"linecolor\":\"white\",\"ticks\":\"\"},\"baxis\":{\"gridcolor\":\"white\",\"linecolor\":\"white\",\"ticks\":\"\"},\"bgcolor\":\"#E5ECF6\",\"caxis\":{\"gridcolor\":\"white\",\"linecolor\":\"white\",\"ticks\":\"\"}},\"title\":{\"x\":0.05},\"xaxis\":{\"automargin\":true,\"gridcolor\":\"white\",\"linecolor\":\"white\",\"ticks\":\"\",\"title\":{\"standoff\":15},\"zerolinecolor\":\"white\",\"zerolinewidth\":2},\"yaxis\":{\"automargin\":true,\"gridcolor\":\"white\",\"linecolor\":\"white\",\"ticks\":\"\",\"title\":{\"standoff\":15},\"zerolinecolor\":\"white\",\"zerolinewidth\":2}}},\"scene\":{\"domain\":{\"x\":[0.0,1.0],\"y\":[0.0,1.0]},\"xaxis\":{\"title\":{\"text\":\"PrincipleComponent1\"}},\"yaxis\":{\"title\":{\"text\":\"PrincipleComponent2\"}},\"zaxis\":{\"title\":{\"text\":\"PrincipleComponent3\"}}},\"coloraxis\":{\"colorbar\":{\"title\":{\"text\":\"Class\"}},\"colorscale\":[[0.0,\"#0d0887\"],[0.1111111111111111,\"#46039f\"],[0.2222222222222222,\"#7201a8\"],[0.3333333333333333,\"#9c179e\"],[0.4444444444444444,\"#bd3786\"],[0.5555555555555556,\"#d8576b\"],[0.6666666666666666,\"#ed7953\"],[0.7777777777777778,\"#fb9f3a\"],[0.8888888888888888,\"#fdca26\"],[1.0,\"#f0f921\"]]},\"legend\":{\"title\":{\"text\":\"Class\"},\"tracegroupgap\":0,\"x\":0,\"y\":1},\"margin\":{\"t\":60},\"width\":800},                        {\"responsive\": true}                    ).then(function(){\n",
       "                            \n",
       "var gd = document.getElementById('e6fe2316-b3c0-4d6b-9977-98df8d94565a');\n",
       "var x = new MutationObserver(function (mutations, observer) {{\n",
       "        var display = window.getComputedStyle(gd).display;\n",
       "        if (!display || display === 'none') {{\n",
       "            console.log([gd, 'removed!']);\n",
       "            Plotly.purge(gd);\n",
       "            observer.disconnect();\n",
       "        }}\n",
       "}});\n",
       "\n",
       "// Listen for the removal of the full notebook cells\n",
       "var notebookContainer = gd.closest('#notebook-container');\n",
       "if (notebookContainer) {{\n",
       "    x.observe(notebookContainer, {childList: true});\n",
       "}}\n",
       "\n",
       "// Listen for the clearing of the current output cell\n",
       "var outputEl = gd.closest('.output');\n",
       "if (outputEl) {{\n",
       "    x.observe(outputEl, {childList: true});\n",
       "}}\n",
       "\n",
       "                        })                };                });            </script>        </div>"
      ]
     },
     "metadata": {},
     "output_type": "display_data"
    }
   ],
   "source": [
    "# Creating a 3D-Scatter with the PCA data and the clusters\n",
    "# YOUR CODE HERE\n",
    "fig = px.scatter_3d(\n",
    "    clustered_df,\n",
    "    x=\"PrincipleComponent1\",\n",
    "    y=\"PrincipleComponent2\",\n",
    "    z=\"PrincipleComponent3\",\n",
    "    color=\"Class\",\n",
    "    symbol=\"Class\",\n",
    "    width=800,\n",
    "    hover_name=\"CoinName\",\n",
    "    hover_data=[\"Algorithm\"]\n",
    ")\n",
    "fig.update_layout(legend=dict(x=0, y=1))\n",
    "fig.show()"
   ]
  },
  {
   "cell_type": "code",
   "execution_count": 76,
   "metadata": {},
   "outputs": [
    {
     "data": {},
     "metadata": {},
     "output_type": "display_data"
    },
    {
     "data": {
      "application/vnd.holoviews_exec.v0+json": "",
      "text/html": [
       "<div id='1120'>\n",
       "\n",
       "\n",
       "\n",
       "\n",
       "\n",
       "  <div class=\"bk-root\" id=\"472b4f3e-b4ad-4218-a6de-22b60beaafee\" data-root-id=\"1120\"></div>\n",
       "</div>\n",
       "<script type=\"application/javascript\">(function(root) {\n",
       "  function embed_document(root) {\n",
       "    var docs_json = {\"01710cf2-63f1-49f0-8c05-8083d857017a\":{\"defs\":[{\"extends\":null,\"module\":null,\"name\":\"ReactiveHTML1\",\"overrides\":[],\"properties\":[]},{\"extends\":null,\"module\":null,\"name\":\"FlexBox1\",\"overrides\":[],\"properties\":[{\"default\":\"flex-start\",\"kind\":null,\"name\":\"align_content\"},{\"default\":\"flex-start\",\"kind\":null,\"name\":\"align_items\"},{\"default\":\"row\",\"kind\":null,\"name\":\"flex_direction\"},{\"default\":\"wrap\",\"kind\":null,\"name\":\"flex_wrap\"},{\"default\":\"flex-start\",\"kind\":null,\"name\":\"justify_content\"}]},{\"extends\":null,\"module\":null,\"name\":\"GridStack1\",\"overrides\":[],\"properties\":[{\"default\":\"warn\",\"kind\":null,\"name\":\"mode\"},{\"default\":null,\"kind\":null,\"name\":\"ncols\"},{\"default\":null,\"kind\":null,\"name\":\"nrows\"},{\"default\":true,\"kind\":null,\"name\":\"allow_resize\"},{\"default\":true,\"kind\":null,\"name\":\"allow_drag\"},{\"default\":[],\"kind\":null,\"name\":\"state\"}]},{\"extends\":null,\"module\":null,\"name\":\"click1\",\"overrides\":[],\"properties\":[{\"default\":\"\",\"kind\":null,\"name\":\"terminal_output\"},{\"default\":\"\",\"kind\":null,\"name\":\"debug_name\"},{\"default\":0,\"kind\":null,\"name\":\"clears\"}]},{\"extends\":null,\"module\":null,\"name\":\"TemplateActions1\",\"overrides\":[],\"properties\":[{\"default\":0,\"kind\":null,\"name\":\"open_modal\"},{\"default\":0,\"kind\":null,\"name\":\"close_modal\"}]},{\"extends\":null,\"module\":null,\"name\":\"MaterialTemplateActions1\",\"overrides\":[],\"properties\":[{\"default\":0,\"kind\":null,\"name\":\"open_modal\"},{\"default\":0,\"kind\":null,\"name\":\"close_modal\"}]}],\"roots\":{\"references\":[{\"attributes\":{\"editor\":{\"id\":\"1140\"},\"field\":\"TotalCoinSupply\",\"formatter\":{\"id\":\"1139\"},\"title\":\"TotalCoinSupply\"},\"id\":\"1141\",\"type\":\"TableColumn\"},{\"attributes\":{},\"id\":\"1125\",\"type\":\"StringEditor\"},{\"attributes\":{},\"id\":\"1124\",\"type\":\"StringFormatter\"},{\"attributes\":{},\"id\":\"1164\",\"type\":\"NumberFormatter\"},{\"attributes\":{\"editor\":{\"id\":\"1135\"},\"field\":\"TotalCoinsMined\",\"formatter\":{\"id\":\"1134\"},\"title\":\"TotalCoinsMined\"},\"id\":\"1136\",\"type\":\"TableColumn\"},{\"attributes\":{\"format\":\"0,0.0[00000]\"},\"id\":\"1149\",\"type\":\"NumberFormatter\"},{\"attributes\":{\"margin\":[5,5,5,5],\"name\":\"HSpacer01804\",\"sizing_mode\":\"stretch_width\"},\"id\":\"1176\",\"type\":\"Spacer\"},{\"attributes\":{\"editor\":{\"id\":\"1160\"},\"field\":\"CoinName\",\"formatter\":{\"id\":\"1159\"},\"title\":\"CoinName\"},\"id\":\"1161\",\"type\":\"TableColumn\"},{\"attributes\":{},\"id\":\"1129\",\"type\":\"StringFormatter\"},{\"attributes\":{},\"id\":\"1160\",\"type\":\"StringEditor\"},{\"attributes\":{\"format\":\"0,0.0[00000]\"},\"id\":\"1134\",\"type\":\"NumberFormatter\"},{\"attributes\":{},\"id\":\"1172\",\"type\":\"UnionRenderers\"},{\"attributes\":{\"data\":{\"Algorithm\":[\"Scrypt\",\"Scrypt\",\"X13\",\"SHA-256\",\"Ethash\",\"Scrypt\",\"X11\",\"CryptoNight-V7\",\"Ethash\",\"Equihash\",\"SHA-512\",\"Multiple\",\"SHA-256\",\"SHA-256\",\"Scrypt\",\"X15\",\"X11\",\"Scrypt\",\"Scrypt\",\"Scrypt\",\"Multiple\",\"Scrypt\",\"SHA-256\",\"Scrypt\",\"Scrypt\",\"Scrypt\",\"Quark\",\"Groestl\",\"Scrypt\",\"Scrypt\",\"Scrypt\",\"Scrypt\",\"Scrypt\",\"X11\",\"Scrypt\",\"Groestl\",\"Multiple\",\"SHA-256\",\"Scrypt\",\"Scrypt\",\"Scrypt\",\"Scrypt\",\"PoS\",\"Scrypt\",\"Scrypt\",\"NeoScrypt\",\"Scrypt\",\"Scrypt\",\"Scrypt\",\"Scrypt\",\"X11\",\"Scrypt\",\"X11\",\"SHA-256\",\"Scrypt\",\"Scrypt\",\"Scrypt\",\"SHA3\",\"Scrypt\",\"HybridScryptHash256\",\"Scrypt\",\"Scrypt\",\"SHA-256\",\"Scrypt\",\"X13\",\"Scrypt\",\"SHA-256\",\"Scrypt\",\"X13\",\"NeoScrypt\",\"Scrypt\",\"Scrypt\",\"Scrypt\",\"Scrypt\",\"Scrypt\",\"Scrypt\",\"X11\",\"X11\",\"SHA-256\",\"Multiple\",\"SHA-256\",\"PHI1612\",\"X11\",\"SHA-256\",\"SHA-256\",\"SHA-256\",\"X11\",\"Scrypt\",\"Scrypt\",\"Scrypt\",\"Scrypt\",\"Lyra2REv2\",\"Scrypt\",\"X11\",\"Multiple\",\"SHA-256\",\"X13\",\"Scrypt\",\"CryptoNight\",\"CryptoNight\",\"Shabal256\",\"Counterparty\",\"Scrypt\",\"SHA-256\",\"Groestl\",\"Scrypt\",\"Scrypt\",\"Scrypt\",\"X13\",\"Scrypt\",\"Scrypt\",\"Scrypt\",\"Scrypt\",\"X13\",\"Scrypt\",\"Stanford Folding\",\"X11\",\"Multiple\",\"QuBit\",\"Scrypt\",\"Scrypt\",\"Scrypt\",\"M7 POW\",\"Scrypt\",\"SHA-256\",\"Scrypt\",\"X11\",\"SHA3\",\"X11\",\"Lyra2RE\",\"SHA-256\",\"QUAIT\",\"X11\",\"X11\",\"Scrypt\",\"Scrypt\",\"Scrypt\",\"Ethash\",\"X13\",\"Blake2b\",\"SHA-256\",\"X15\",\"X11\",\"SHA-256\",\"BLAKE256\",\"Scrypt\",\"1GB AES Pattern Search\",\"SHA-256\",\"X11\",\"Scrypt\",\"SHA-256\",\"SHA-256\",\"NIST5\",\"Scrypt\",\"Scrypt\",\"X11\",\"Dagger\",\"Scrypt\",\"X11GOST\",\"X11\",\"Scrypt\",\"SHA-256\",\"Scrypt\",\"PoS\",\"Scrypt\",\"X11\",\"X11\",\"SHA-256\",\"SHA-256\",\"NIST5\",\"X11\",\"Scrypt\",\"POS 3.0\",\"Scrypt\",\"Scrypt\",\"Scrypt\",\"X13\",\"X11\",\"X11\",\"Equihash\",\"X11\",\"Scrypt\",\"CryptoNight\",\"SHA-256\",\"SHA-256\",\"X11\",\"Scrypt\",\"Multiple\",\"Scrypt\",\"Scrypt\",\"Scrypt\",\"SHA-256\",\"Scrypt\",\"Scrypt\",\"SHA-256D\",\"PoS\",\"Scrypt\",\"X11\",\"Lyra2Z\",\"PoS\",\"X13\",\"X14\",\"PoS\",\"SHA-256D\",\"Ethash\",\"Equihash\",\"DPoS\",\"X11\",\"Scrypt\",\"X11\",\"X13\",\"X11\",\"PoS\",\"Scrypt\",\"Scrypt\",\"X11\",\"PoS\",\"X11\",\"SHA-256\",\"Scrypt\",\"X11\",\"Scrypt\",\"Scrypt\",\"X11\",\"CryptoNight\",\"Scrypt\",\"Scrypt\",\"Scrypt\",\"Scrypt\",\"Quark\",\"QuBit\",\"Scrypt\",\"CryptoNight\",\"Lyra2RE\",\"Scrypt\",\"SHA-256\",\"X11\",\"Scrypt\",\"X11\",\"Scrypt\",\"CryptoNight-V7\",\"Scrypt\",\"Scrypt\",\"Scrypt\",\"X13\",\"X11\",\"Equihash\",\"Scrypt\",\"Scrypt\",\"Lyra2RE\",\"Scrypt\",\"Dagger-Hashimoto\",\"X11\",\"Blake2S\",\"X11\",\"Scrypt\",\"PoS\",\"X11\",\"NIST5\",\"PoS\",\"X11\",\"Scrypt\",\"Scrypt\",\"Scrypt\",\"SHA-256\",\"X11\",\"Scrypt\",\"Scrypt\",\"SHA-256\",\"PoS\",\"Scrypt\",\"X15\",\"SHA-256\",\"Scrypt\",\"POS 3.0\",\"CryptoNight-V7\",\"536\",\"Argon2d\",\"Blake2b\",\"Cloverhash\",\"CryptoNight\",\"NIST5\",\"X11\",\"NIST5\",\"Skein\",\"Scrypt\",\"X13\",\"Scrypt\",\"X11\",\"X11\",\"Scrypt\",\"CryptoNight\",\"X13\",\"Time Travel\",\"Scrypt\",\"Keccak\",\"SkunkHash v2 Raptor\",\"X11\",\"Skein\",\"SHA-256\",\"X11\",\"Scrypt\",\"VeChainThor Authority\",\"Scrypt\",\"PoS\",\"Scrypt\",\"Scrypt\",\"Scrypt\",\"Scrypt\",\"Scrypt\",\"Scrypt\",\"Scrypt\",\"CryptoNight\",\"SHA-512\",\"Ouroboros\",\"X11\",\"Equihash\",\"NeoScrypt\",\"X11\",\"Scrypt\",\"NeoScrypt\",\"Lyra2REv2\",\"Equihash\",\"Scrypt\",\"SHA-256\",\"NIST5\",\"PHI1612\",\"Dagger\",\"Scrypt\",\"Quark\",\"Scrypt\",\"POS 2.0\",\"Scrypt\",\"SHA-256\",\"X11\",\"NeoScrypt\",\"Ethash\",\"NeoScrypt\",\"X11\",\"DPoS\",\"NIST5\",\"X13\",\"Multiple\",\"Scrypt\",\"CryptoNight\",\"CryptoNight\",\"Ethash\",\"NIST5\",\"Quark\",\"X11\",\"CryptoNight-V7\",\"Scrypt\",\"Scrypt\",\"Scrypt\",\"X11\",\"BLAKE256\",\"X11\",\"NeoScrypt\",\"Quark\",\"NeoScrypt\",\"Scrypt\",\"Scrypt\",\"Scrypt\",\"X11\",\"X11\",\"SHA-256\",\"C11\",\"POS 3.0\",\"Ethash\",\"Scrypt\",\"CryptoNight\",\"SkunkHash\",\"Scrypt\",\"CryptoNight\",\"Scrypt\",\"Dagger\",\"Lyra2REv2\",\"X13\",\"Proof-of-BibleHash\",\"SHA-256 + Hive\",\"Scrypt\",\"Scrypt\",\"X11\",\"C11\",\"Proof-of-Authority\",\"X11\",\"XEVAN\",\"Scrypt\",\"VBFT\",\"Ethash\",\"CryptoNight\",\"Scrypt\",\"IMesh\",\"NIST5\",\"Scrypt\",\"Scrypt\",\"Equihash\",\"Scrypt\",\"Lyra2Z\",\"Green Protocol\",\"PoS\",\"Scrypt\",\"Semux BFT consensus\",\"X11\",\"Quark\",\"PoS\",\"CryptoNight\",\"X16R\",\"Scrypt\",\"NIST5\",\"Lyra2RE\",\"XEVAN\",\"Tribus\",\"Scrypt\",\"Lyra2Z\",\"CryptoNight\",\"CryptoNight Heavy\",\"CryptoNight\",\"Scrypt\",\"Scrypt\",\"Jump Consistent Hash\",\"SHA-256D\",\"CryptoNight\",\"Scrypt\",\"X15\",\"Scrypt\",\"Quark\",\"SHA-256\",\"DPoS\",\"X16R\",\"HMQ1725\",\"X11\",\"X16R\",\"Quark\",\"Quark\",\"Scrypt\",\"Lyra2REv2\",\"Quark\",\"Scrypt\",\"Scrypt\",\"CryptoNight-V7\",\"Cryptonight-GPU\",\"XEVAN\",\"CryptoNight Heavy\",\"X11\",\"X11\",\"Scrypt\",\"PoS\",\"SHA-256\",\"Keccak\",\"X11\",\"X11\",\"Scrypt\",\"SHA-512\",\"X16R\",\"ECC 256K1\",\"Equihash\",\"XEVAN\",\"Lyra2Z\",\"SHA-256\",\"XEVAN\",\"X11\",\"CryptoNight\",\"Quark\",\"Blake\",\"Blake\",\"Equihash\",\"Exosis\",\"Scrypt\",\"Scrypt\",\"Equihash\",\"Quark\",\"Equihash\",\"Quark\",\"Scrypt\",\"QuBit\",\"X11\",\"Scrypt\",\"XEVAN\",\"SHA-256D\",\"X11\",\"SHA-256\",\"X13\",\"SHA-256\",\"X11\",\"DPoS\",\"Scrypt\",\"Scrypt\",\"X11\",\"NeoScrypt\",\"Scrypt\",\"Blake\",\"Scrypt\",\"SHA-256\",\"Scrypt\",\"X11\",\"Scrypt\",\"Scrypt\",\"SHA-256\",\"X11\",\"SHA-256\",\"Scrypt\",\"Scrypt\",\"Scrypt\",\"Groestl\",\"X11\",\"Scrypt\",\"PoS\",\"Scrypt\",\"Scrypt\",\"X11\",\"SHA-256\",\"DPoS\",\"Scrypt\",\"Scrypt\",\"NeoScrypt\",\"Multiple\",\"X13\",\"Equihash+Scrypt\",\"DPoS\",\"Ethash\",\"DPoS\",\"SHA-256\",\"Leased POS\",\"PoS\",\"TRC10\",\"PoS\",\"SHA-256\",\"Scrypt\",\"CryptoNight\",\"Equihash\",\"Scrypt\"],\"Class\":{\"__ndarray__\":\"AAAAAAAAAAAAAAAAAAAAAAAAAAAAAAAAAAAAAAAAAAAAAAAAAAAAAAAAAAAAAAAAAAAAAAAAAAAAAAAAAAAAAAAAAAAAAAAAAAAAAAAAAAAAAAAAAAAAAAAAAAAAAAAAAAAAAAAAAAAAAAAAAAAAAAAAAAAAAAAAAAAAAAAAAAAAAAAAAAAAAAAAAAAAAAAAAAAAAAAAAAAAAAAAAAAAAAAAAAAAAAAAAAAAAAAAAAAAAAAAAAAAAAAAAAAAAAAAAAAAAAAAAAAAAAAAAAAAAAAAAAAAAAAAAAAAAAAAAAAAAAAAAAAAAAAAAAAAAAAAAAAAAAAAAAAAAAAAAAAAAAAAAAAAAAAAAAAAAAAAAAAAAAAAAAAAAAAAAAAAAAAAAAAAAAAAAAAAAAAAAAAAAAAAAAAAAAAAAAAAAAAAAAAAAAAAAAAAAAAAAAAAAAAAAAAAAAAAAAAAAAAAAAAAAAAAAAAAAAAAAAAAAAAAAAAAAAAAAAAAAAAAAAAAAAAAAAAAAAAAAAAAAAAAAAAAAAAAAAAAAAAAAAAAAAAAAAAAAAAAAAAAAAAAAAAAAAAAAAAAAAAAAAAAAAAAAAAAAAAAAAAAAAAAAAAAAAAAAAAAAAAAAAAAAAAAAAAAAAAAAAAAAAAAAAAAAAAAAAAAAAAAAAAAAAAAAAAAAAAAAAAAAAAAAAAAAAAAAAAAAAAAAAAAAAAAAAAAAAAAAAAAAAAAAAAAAAAAAAAAAAAAAAAAAAAAAAAAAAAAAAAAAAAAAAAAAAAAAAAAAAAAAAAAAAAAAAAAAAAAAAAAAAAAAAAAAAAAAAAAAAAAAAAAAAAAAAAAAAAAAAAAAAAAAAAAAAAAAAAAAAAAAAAAAAAAAAAAAAAAAAAAAAAAAAAAAAAAAAAAAAAAAAAAAAAAAAAAAAAAAAAAAAAAAAAAAAAAAAAAAAAAAAAAAAAAAAAAAAAAAAAAAAAAAAAAAAAAAAAAAAAAAAAAAAAAAAAAAAAAAAAAAAAAAAAAAAAAAAAAAAAAAAAAAAAAAAAAAAAAAAAAAAAAAAAAAAAAAAAAAAAAAAAAAAAAAAAAAAAAAAAAAAAAAAAAAAAAAAAAAAAAAAAAAAAAAAAAAAAAAAAAAAAAAAAAAAAAAAAAAAAAAAAAAAAAAAAAAAAAAAAAAAAAAAAAAAAAAAAAAAAAAAAAAAAAAAAAAAAAAAAAAAAAAAAAAAAAAAAAAAAAAAAAAAAAAAAAAAAAAAAAAAAAAAAAAAAAAAAAAAAAAAAAAAAAAAAAAAAAAAAAAAAAAAAAAAAAAAAAAAAAAAAAAAAAAAAAAAAAAAAAAAAAAAAAAAAAAAAAAAAAAAAAAAAAAAAAAAAAAAAAAAAAAAAAAAAAAAAAAAAAAAAAAAAAAAAAAAAAAAAAAAAAAAAAAAAAAAAAAAAAAAAAAAAAAAAAAAAAAAAAAAAAAAAAAAAAAAAAAAAAAAAAAAAAAAAAAAAAAAAAAAAAAAAAAAAAAAAAAAAAAAAAAAAAAAAAAAAAAAAAAAAAAAAAAAAAAAAAAAAAAAAAAAAAAAAAAAAAAAAAAAAAAAAAAAAAAAAAAAAAAAAAAAAAAAAAAAAAAAAAAAAAAAAAAAAAAAAAAAAAAAAAAAAAAAAAAAAAAAAAAAAAAAAAAAAAAAAAAAAAAAAAAAAAAAAAAAAAAAAAAAAAAAAAAAAAAAAAAAAAAAAAAAAAAAAAAAAAAAAAAAAAAAAAAAAAAAAAAAAAAAAAAAAAAAAAAAAAAAAAAAAAAAAAAAAAAAAAAAAAAAAAAAAAAAAAAAAAAAAAAAAAAAAAAAAAAAAAAAAAAAAAAAAAAAAAAAAAAAAAAAAAAAAAAAAAAAAAAAAAAAAAAAAAAAAAAAAAAAAAAAAAAAAAAAAAAAAAAAAAAAAAAAAAAAAAAAAAAAAAAAAAAAAAAAAAAAAAAAAAAAAAAAAAAAAAAAAAAAAAAAAAAAAAAAAAAAAAAAAAAAAAAAAAAAAAAAAAAAAAAAAAAAAAAAAAAAAAAAAAAAAAAAAAAAAAAAAAAAAAAAAAAgAAAAAAAAAAAAAAAAAAAAAAAAAAAAAAAAAAAAAAAAAAAAAAAAAAAAAAAAAAAAAAAAAAAAAAAAAAAAAAAAAAAAAAAAAAAAAAAAAAAAAAAAAAAAAAAAAAAAAAAAAAAAAAAAAAAAAAAAAAAAAAAAAAAAAAAAAAAAAAAAAAAAAAAAAAAAAAAAAAAAAAAAAAAAAAAAAAAAAAAAAAAAAAAAAAAAAAAAAAAAAAAAAAAAAAAAAAAAAAAAAAAAAAAAAAAAAAAAAAAAAAAAAAAAAAAAAAAAAAAAAAAAAAAAAAAAAAAAAAAAAAAAAAAAAAAAAAAAAAAAAAAAAAAAAAAAAAAAAAAAAAAAAAAAAAAAAAAAAAAAAAAAAAAAAAAAAAAAABAAAAAAAAAAAAAAAAAAAAAAAAAAAAAAAAAAAAAAAAAAAAAAAAAAAAAAAAAAAAAAAAAAAAAAAAAAAAAAAAAAAAAAAAAAAAAAAAAAAAAAAAAAAAAAAAAAAAAAAAAAAAAAAAAAAAAAAAAAAAAAAAAAAAAAAAAAAAAAAAAAAAAAAAAAAAAAAAAAAAAAAAAAAAAAAAAAAAAAAAAAAAAAAAAAAAAAAAAAAAAAAAAAAAAAAAAAAAAAAAAAAAAAAAAAAAAAAAAAAAAAAAAAAAAAAAAAAAAAAAAAAAAAAAAAAAAAAAAAAAAAAAAAAAAAAAAAAAAAAAAAAAAAAAAAAAAAAAAAAAAAAAAAAAAAAAAAAAAAAAAAMAAAAAAAAAAAAAAAAAAAAAAAAAAAAAAAAAAAAAAAAAAAAAAA==\",\"dtype\":\"int32\",\"order\":\"little\",\"shape\":[532]},\"CoinName\":[\"42 Coin\",\"404Coin\",\"EliteCoin\",\"Bitcoin\",\"Ethereum\",\"Litecoin\",\"Dash\",\"Monero\",\"Ethereum Classic\",\"ZCash\",\"Bitshares\",\"DigiByte\",\"BitcoinDark\",\"PayCoin\",\"ProsperCoin\",\"KoboCoin\",\"Spreadcoin\",\"Argentum\",\"Aurora Coin\",\"BlueCoin\",\"MyriadCoin\",\"MoonCoin\",\"ZetaCoin\",\"SexCoin\",\"Quatloo\",\"EnergyCoin\",\"QuarkCoin\",\"Riecoin\",\"Digitalcoin \",\"BitBar\",\"Catcoin\",\"CryptoBullion\",\"CannaCoin\",\"CryptCoin\",\"CasinoCoin\",\"Diamond\",\"Verge\",\"DevCoin\",\"EarthCoin\",\"E-Gulden\",\"Einsteinium\",\"Emerald\",\"Exclusive Coin\",\"FlutterCoin\",\"Franko\",\"FeatherCoin\",\"GrandCoin\",\"GlobalCoin\",\"GoldCoin\",\"HoboNickels\",\"HyperStake\",\"Infinite Coin\",\"IOCoin\",\"IXcoin\",\"KrugerCoin\",\"LuckyCoin\",\"Litebar \",\"MaxCoin\",\"MegaCoin\",\"MediterraneanCoin\",\"MintCoin\",\"MinCoin\",\"MazaCoin\",\"Nautilus Coin\",\"NavCoin\",\"NobleCoin\",\"Namecoin\",\"NyanCoin\",\"OpalCoin\",\"Orbitcoin\",\"PotCoin\",\"PhoenixCoin\",\"Reddcoin\",\"RonPaulCoin\",\"StableCoin\",\"SmartCoin\",\"SuperCoin\",\"SyncCoin\",\"SysCoin\",\"TeslaCoin\",\"TigerCoin\",\"TittieCoin\",\"TorCoin\",\"TerraCoin\",\"UnbreakableCoin\",\"Unobtanium\",\"UroCoin\",\"UnitaryStatus Dollar\",\"UltraCoin\",\"ViaCoin\",\"VeriCoin\",\"Vertcoin\",\"WorldCoin\",\"X11 Coin\",\"Crypti\",\"JouleCoin\",\"StealthCoin\",\"ZCC Coin\",\"ByteCoin\",\"DigitalNote \",\"BurstCoin\",\"StorjCoin\",\"MonaCoin\",\"Neutron\",\"FairCoin\",\"Gulden\",\"RubyCoin\",\"PesetaCoin\",\"Kore\",\"Wild Beast Coin\",\"Dnotes\",\"Flo\",\"8BIT Coin\",\"Sativa Coin\",\"ArtByte\",\"Folding Coin\",\"Ucoin\",\"Unitus\",\"CypherPunkCoin\",\"OmniCron\",\"Vtorrent\",\"GreenCoin\",\"Cryptonite\",\"MasterCoin\",\"SoonCoin\",\"1Credit\",\"IslaCoin\",\"Nexus\",\"MarsCoin \",\"Crypto\",\"Anarchists Prime\",\"Droidz\",\"BowsCoin\",\"Squall Coin\",\"Song Coin\",\"BitZeny\",\"Diggits\",\"Expanse\",\"Paycon\",\"Siacoin\",\"Emercoin\",\"EverGreenCoin\",\"MindCoin\",\"I0coin\",\"Decred\",\"Revolution VR\",\"HOdlcoin\",\"EDRCoin\",\"Hitcoin\",\"Gamecredits\",\"DubaiCoin\",\"CarpeDiemCoin\",\"PWR Coin\",\"BillaryCoin\",\"GPU Coin\",\"Adzcoin\",\"SoilCoin\",\"YoCoin\",\"SibCoin\",\"EuropeCoin\",\"ZeitCoin\",\"SwingCoin\",\"SafeExchangeCoin\",\"Nebuchadnezzar\",\"Francs\",\"BolivarCoin\",\"Ratecoin\",\"Revenu\",\"Clockcoin\",\"VIP Tokens\",\"BitSend\",\"Omni\",\"Let it Ride\",\"PutinCoin\",\"iBankCoin\",\"Frankywillcoin\",\"MudraCoin\",\"PizzaCoin\",\"Lutetium Coin\",\"Komodo\",\"GoldBlocks\",\"CarterCoin\",\"Karbo\",\"BitTokens\",\"ZayedCoin\",\"MustangCoin\",\"ZoneCoin\",\"Circuits of Value\",\"RootCoin\",\"DopeCoin\",\"BitCurrency\",\"DollarCoin\",\"Swiscoin\",\"Shilling\",\"BuzzCoin\",\"Opair\",\"PesoBit\",\"Halloween Coin\",\"ZCoin\",\"CoffeeCoin\",\"RoyalCoin\",\"GanjaCoin V2\",\"TeamUP\",\"LanaCoin\",\"Elementrem\",\"ZClassic\",\"ARK\",\"InsaneCoin\",\"KiloCoin\",\"ArtexCoin\",\"EmberCoin\",\"XenixCoin\",\"FreeCoin\",\"PLNCoin\",\"AquariusCoin\",\"Kurrent\",\"Creatio\",\"Eternity\",\"Eurocoin\",\"BitcoinFast\",\"Stakenet\",\"BitConnect Coin\",\"MoneyCoin\",\"Enigma\",\"Cannabis Industry Coin\",\"Russiacoin\",\"PandaCoin\",\"GameUnits\",\"GAKHcoin\",\"Allsafe\",\"LiteCreed\",\"OsmiumCoin\",\"Bikercoins\",\"HexxCoin\",\"Klingon Empire Darsek\",\"Internet of People\",\"KushCoin\",\"Printerium\",\"PacCoin\",\"Impeach\",\"Citadel\",\"Zilbercoin\",\"FirstCoin\",\"BeaverCoin\",\"FindCoin\",\"VaultCoin\",\"Zero\",\"OpenChat\",\"Canada eCoin\",\"Zoin\",\"RenosCoin\",\"DubaiCoin\",\"VirtacoinPlus\",\"TajCoin\",\"Impact\",\"EB3coin\",\"Atmos\",\"HappyCoin\",\"Coinonat\",\"MacronCoin\",\"Condensate\",\"Independent Money System\",\"ArgusCoin\",\"LomoCoin\",\"ProCurrency\",\"GoldReserve\",\"BenjiRolls\",\"GrowthCoin\",\"ILCoin\",\"Phreak\",\"Degas Coin\",\"HTML5 Coin\",\"Ultimate Secure Cash\",\"EquiTrader\",\"QTUM\",\"Quantum Resistant Ledger\",\"Espers\",\"Dynamic\",\"Nano\",\"ChanCoin\",\"Dinastycoin\",\"Denarius\",\"DigitalPrice\",\"Virta Unique Coin\",\"Bitcoin Planet\",\"Unify\",\"BritCoin\",\"SocialCoin\",\"ArcticCoin\",\"DAS\",\"Linda\",\"LeviarCoin\",\"DeepOnion\",\"Bitcore\",\"gCn Coin\",\"SmartCash\",\"Signatum\",\"Onix\",\"Cream\",\"Bitcoin Cash\",\"Monoeci\",\"Draftcoin\",\"Vechain\",\"Sojourn Coin\",\"Stakecoin\",\"NewYorkCoin\",\"FrazCoin\",\"Kronecoin\",\"AdCoin\",\"Linx\",\"CoinonatX\",\"Ethereum Dark\",\"Sumokoin\",\"Obsidian\",\"Cardano\",\"Regalcoin\",\"BitcoinZ\",\"TrezarCoin\",\"Elements\",\"TerraNovaCoin\",\"VIVO Coin\",\"Rupee\",\"Bitcoin Gold\",\"WomenCoin\",\"Theresa May Coin\",\"NamoCoin\",\"LUXCoin\",\"Pirl\",\"Xios\",\"Bitcloud 2.0\",\"eBoost\",\"KekCoin\",\"BlackholeCoin\",\"Infinity Economics\",\"Pura\",\"Innova\",\"Ellaism\",\"GoByte\",\"Magnet\",\"Lamden Tau\",\"Electra\",\"Bitcoin Diamond\",\"SHIELD\",\"Cash & Back Coin\",\"UltraNote\",\"BitCoal\",\"DaxxCoin\",\"Bulwark\",\"Kalkulus\",\"AC3\",\"Lethean\",\"GermanCoin\",\"LiteCoin Ultra\",\"PopularCoin\",\"PhantomX\",\"Photon\",\"Sucre\",\"SparksPay\",\"Digiwage\",\"GunCoin\",\"IrishCoin\",\"Trollcoin\",\"Litecoin Plus\",\"Monkey Project\",\"Pioneer Coin\",\"UnitedBitcoin\",\"Interzone\",\"TokenPay\",\"1717 Masonic Commemorative Token\",\"My Big Coin\",\"TurtleCoin\",\"MUNcoin\",\"Unified Society USDEX\",\"Niobio Cash\",\"ShareChain\",\"Travelflex\",\"KREDS\",\"Tokyo Coin\",\"BiblePay\",\"LitecoinCash\",\"BitFlip\",\"LottoCoin\",\"Crypto Improvement Fund\",\"Stipend\",\"Poa Network\",\"Pushi\",\"Ellerium\",\"Velox\",\"Ontology\",\"Callisto Network\",\"BitTube\",\"Poseidon\",\"Aidos Kuneen\",\"Bitspace\",\"Briacoin\",\"Ignition\",\"Bitrolium\",\"MedicCoin\",\"Alpenschillling\",\"Bitcoin Green\",\"Deviant Coin\",\"Abjcoin\",\"Semux\",\"FuturoCoin\",\"Carebit\",\"Zealium\",\"Monero Classic\",\"Proton\",\"iDealCash\",\"Jumpcoin\",\"Infinex\",\"Bitcoin Incognito\",\"KEYCO\",\"HollyWoodCoin\",\"GINcoin\",\"PlatinCoin\",\"Loki\",\"Newton Coin\",\"Swisscoin\",\"Xt3ch\",\"MassGrid\",\"TheVig\",\"PluraCoin\",\"EmaratCoin\",\"Dekado\",\"Lynx\",\"Poseidon Quark\",\"BitcoinWSpectrum\",\"Muse\",\"Motion\",\"PlusOneCoin\",\"Axe\",\"Trivechain\",\"Dystem\",\"Giant\",\"Peony Coin\",\"Absolute Coin\",\"Vitae\",\"HexCoin\",\"TPCash\",\"Webchain\",\"Ryo\",\"Urals Coin\",\"Qwertycoin\",\"ARENON\",\"EUNO\",\"MMOCoin\",\"Ketan\",\"Project Pai\",\"XDNA\",\"PAXEX\",\"Azart\",\"ThunderStake\",\"Kcash\",\"Xchange\",\"Acute Angle Cloud\",\"CrypticCoin\",\"Bettex coin\",\"Actinium\",\"Bitcoin SV\",\"BitMoney\",\"Junson Ming Chan Coin\",\"FREDEnergy\",\"HerbCoin\",\"Universal Molecule\",\"Lithium\",\"PirateCash\",\"Exosis\",\"Block-Logic\",\"Oduwa\",\"Beam\",\"Galilel\",\"Bithereum\",\"Crypto Sports\",\"Credit\",\"SLICE\",\"Dash Platinum\",\"Nasdacoin\",\"Beetle Coin\",\"Titan Coin\",\"Award\",\"BLAST\",\"Bitcoin Rhodium\",\"GlobalToken\",\"Insane Coin\",\"ALAX\",\"LiteDoge\",\"SolarCoin\",\"TruckCoin\",\"UFO Coin\",\"OrangeCoin\",\"BlakeCoin\",\"BitstarCoin\",\"NeosCoin\",\"HyperCoin\",\"PinkCoin\",\"Crypto Escudo\",\"AudioCoin\",\"IncaKoin\",\"Piggy Coin\",\"Crown Coin\",\"Genstake\",\"SmileyCoin\",\"XiaoMiCoin\",\"Groestlcoin\",\"CapriCoin\",\" ClubCoin\",\"Radium\",\"Bata\",\"Pakcoin\",\"Creditbit \",\"OKCash\",\"Lisk\",\"HiCoin\",\"WhiteCoin\",\"FriendshipCoin\",\"JoinCoin\",\"Triangles Coin\",\"Vollar\",\"EOS\",\"Reality Clash\",\"Oxycoin\",\"TigerCash\",\"Waves\",\"Particl\",\"BitTorrent\",\"Nxt\",\"ZEPHYR\",\"Gapcoin\",\"Beldex\",\"Horizen\",\"BitcoinPlus\"],\"PrincipleComponent1\":{\"__ndarray__\":\"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\",\"dtype\":\"float64\",\"order\":\"little\",\"shape\":[532]},\"PrincipleComponent2\":{\"__ndarray__\":\"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\",\"dtype\":\"float64\",\"order\":\"little\",\"shape\":[532]},\"PrincipleComponent3\":{\"__ndarray__\":\"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\",\"dtype\":\"float64\",\"order\":\"little\",\"shape\":[532]},\"ProofType\":[\"PoW/PoS\",\"PoW/PoS\",\"PoW/PoS\",\"PoW\",\"PoW\",\"PoW\",\"PoW/PoS\",\"PoW\",\"PoW\",\"PoW\",\"PoS\",\"PoW\",\"PoW/PoS\",\"PoS\",\"PoW\",\"PoW/PoS\",\"PoW\",\"PoW\",\"PoW/PoS\",\"PoW/PoS\",\"PoW\",\"PoW\",\"PoW\",\"PoW\",\"PoW\",\"PoW/PoS\",\"PoW\",\"PoW\",\"PoW\",\"PoW/PoS\",\"PoW\",\"PoW/PoS\",\"PoW\",\"PoW\",\"PoC\",\"PoW/PoS\",\"PoW\",\"PoW\",\"PoW\",\"PoW\",\"PoW\",\"PoW\",\"PoS\",\"PoS/PoW/PoT\",\"PoW\",\"PoW\",\"PoW\",\"PoW\",\"PoW\",\"PoW/PoS\",\"PoS\",\"PoW\",\"PoW/PoS\",\"PoW\",\"PoW\",\"PoW\",\"PoW\",\"PoW/PoS\",\"PoW\",\"PoW\",\"PoS\",\"PoW\",\"PoW/PoS\",\"PoS\",\"PoW/PoS\",\"PoW\",\"PoW\",\"PoW\",\"PoW/PoS\",\"PoW/PoS\",\"PoW/PoS\",\"PoW/PoS\",\"PoW/PoS\",\"PoW\",\"PoW\",\"PoW\",\"PoS\",\"PoW/PoS\",\"PoW\",\"PoS\",\"PoW\",\"PoS\",\"PoW/PoS\",\"PoW\",\"PoW\",\"PoW\",\"PoW\",\"PoW/PoS\",\"PoW/PoS\",\"PoW\",\"PoST\",\"PoW\",\"PoW\",\"PoW/PoS\",\"PoS\",\"PoW\",\"PoW/PoS\",\"PoW/PoS\",\"PoW\",\"PoW\",\"PoC\",\"PoS\",\"PoW\",\"PoW/PoS\",\"PoW/PoS\",\"PoW\",\"PoS\",\"PoW\",\"PoW/PoS\",\"PoW\",\"PoS\",\"PoW\",\"PoW/PoS\",\"PoW/PoS\",\"PoW\",\"PoW\",\"PoS\",\"PoW\",\"PoW\",\"PoW\",\"PoW/PoS\",\"PoW\",\"PoW\",\"PoW\",\"PoW\",\"PoW\",\"PoW/PoS\",\"PoW/nPoS\",\"PoW\",\"PoW\",\"PoW\",\"PoW/PoS\",\"PoW\",\"PoS/PoW\",\"PoW\",\"PoW\",\"PoS\",\"PoW\",\"PoW/PoS\",\"PoW\",\"PoW/PoS\",\"PoW/PoS\",\"PoW\",\"PoW\",\"PoW/PoS\",\"PoW\",\"PoW\",\"PoW/PoS\",\"PoW/PoS\",\"PoW\",\"PoW/PoS\",\"PoW\",\"PoW/PoS\",\"PoW/PoS\",\"PoS\",\"PoW\",\"PoW\",\"PoW\",\"PoW\",\"PoW/PoS\",\"PoS\",\"PoW/PoS\",\"PoC\",\"PoS\",\"PoW\",\"PoW\",\"PoW/PoS\",\"PoW/PoS\",\"PoW/PoS\",\"PoW/PoS\",\"PoW/PoS\",\"PoW\",\"PoS\",\"PoW/PoS\",\"PoW/PoS\",\"PoW/PoS\",\"PoS\",\"PoW\",\"PoS\",\"dPoW/PoW\",\"PoW/PoS\",\"PoW/PoS\",\"PoW\",\"PoW/PoS\",\"PoW\",\"PoW/PoS\",\"PoW/PoS\",\"PoW\",\"PoW/PoS\",\"PoW\",\"PoS\",\"PoW\",\"PoW/PoW\",\"PoW\",\"PoW/PoS\",\"PoS\",\"PoW/PoS\",\"PoW/PoS\",\"PoW\",\"PoS\",\"PoS\",\"PoW/PoS\",\"PoS\",\"PoW/PoS\",\"PoW\",\"PoW\",\"DPoS\",\"PoW/PoS\",\"PoW\",\"PoW\",\"PoW/PoS\",\"PoW/PoS\",\"PoS\",\"PoW/PoS\",\"PoW/PoS\",\"PoW\",\"PoS\",\"PoW/PoS\",\"PoW/PoS\",\"PoW/PoS\",\"TPoS\",\"PoW/PoS\",\"PoW/PoS\",\"PoW/PoS\",\"PoW\",\"PoW/PoS\",\"PoS\",\"PoW/PoS\",\"PoW/PoS\",\"PoS\",\"PoW/PoS\",\"PoW\",\"PoW\",\"PoW\",\"PoW/PoS\",\"PoW/PoS\",\"PoW/PoS\",\"PoW/PoS\",\"PoW\",\"PoW/PoS\",\"PoW\",\"PoS\",\"PoW/PoS \",\"PoW\",\"PoS\",\"PoW\",\"PoW\",\"PoW/PoS\",\"PoW\",\"PoW\",\"PoS\",\"PoW\",\"PoW/PoS\",\"PoW/PoS\",\"PoW/PoS\",\"PoW\",\"PoS\",\"PoW/PoS\",\"PoW\",\"PoS\",\"PoW/PoS\",\"PoW/PoS\",\"PoW/PoS\",\"PoW/PoS\",\"PoS\",\"PoW/PoS\",\"PoW\",\"PoS\",\"PoW\",\"PoS\",\"PoW/PoS\",\"PoW/PoS\",\"PoS\",\"PoW\",\"PoS\",\"PoW\",\"PoW/PoS\",\"PoW\",\"PoW\",\"PoW\",\"PoW\",\"PoW/PoS\",\"PoW\",\"PoW/PoS\",\"PoW/PoS\",\"PoW\",\"PoW/PoS\",\"PoW\",\"PoW\",\"PoW\",\"PoW/PoS\",\"PoW\",\"PoW/PoS\",\"PoW\",\"PoW\",\"PoW\",\"PoS\",\"PoW\",\"PoW/PoS\",\"PoW\",\"PoW/PoS\",\"PoS\",\"Proof of Authority\",\"PoW\",\"PoS\",\"PoW\",\"PoW\",\"PoW\",\"PoW\",\"PoW\",\"PoW/PoS\",\"PoW/PoS\",\"PoW\",\"PoS\",\"PoS\",\"PoW/PoS\",\"PoW\",\"PoW/PoS\",\"PoW\",\"PoW/PoS\",\"PoW\",\"PoS\",\"PoW\",\"PoW/PoS\",\"PoW/PoS\",\"PoW/PoS\",\"PoW/PoS\",\"PoW\",\"PoW/PoS\",\"PoW/PoS\",\"PoW\",\"PoS\",\"PoW/PoS\",\"PoS\",\"PoW\",\"PoW\",\"PoW\",\"PoW\",\"PoW/PoS\",\"DPoS\",\"PoW/PoS\",\"PoW/PoS\",\"PoW\",\"PoW/PoS\",\"PoW\",\"PoW\",\"PoW\",\"PoS\",\"PoS\",\"PoW\",\"PoW\",\"PoW/PoS\",\"PoW/PoS\",\"PoW\",\"PoW/PoS\",\"PoW\",\"PoW\",\"PoW\",\"PoS\",\"PoW\",\"PoW\",\"PoW/PoS\",\"PoW/PoS\",\"PoS\",\"PoW\",\"PoW\",\"PoW\",\"PoS\",\"PoS\",\"PoW and PoS\",\"PoW\",\"PoW\",\"PoW/PoS\",\"PoW\",\"PoW\",\"PoW\",\"PoW\",\"PoS\",\"POBh\",\"PoW + Hive\",\"PoW\",\"PoW\",\"PoW\",\"PoW/PoS\",\"PoA\",\"PoW/PoS\",\"PoW/PoS\",\"PoS\",\"PoS\",\"PoW\",\"PoW\",\"PoW\",\"PoW\",\"PoW/PoS\",\"PoW/PoS\",\"PoW/PoS\",\"PoW\",\"PoS\",\"PoW\",\"PoS\",\"PoS\",\"PoW/PoS\",\"DPoS\",\"PoW\",\"PoW/PoS\",\"PoS\",\"PoW\",\"PoS\",\"PoW/PoS\",\"PoW\",\"PoW\",\"PoS/PoW\",\"PoW\",\"PoS\",\"PoW\",\"PoW\",\"PoW\",\"PoW\",\"PoW/PoS\",\"PoS\",\"PoW\",\"PoW/PoS\",\"PoW\",\"PoW/PoS\",\"PoS\",\"HPoW\",\"PoS\",\"PoS\",\"PoS\",\"PoW\",\"PoW\",\"PoW\",\"PoW/PoS\",\"PoS\",\"PoW/PoS\",\"PoS\",\"PoW/PoS\",\"PoS\",\"PoW\",\"PoW/PoS\",\"PoW\",\"PoW\",\"PoW\",\"PoW\",\"PoS\",\"PoW/PoS\",\"PoS\",\"PoS\",\"PoW\",\"PoW/PoS\",\"PoS\",\"PoW\",\"PoW/PoS\",\"Zero-Knowledge Proof\",\"PoW\",\"DPOS\",\"PoW\",\"PoS\",\"PoW\",\"PoW\",\"Pos\",\"PoS\",\"PoW\",\"PoW/PoS\",\"PoW\",\"PoW\",\"PoS\",\"PoW\",\"PoW\",\"PoW/PoS\",\"PoW\",\"PoW/PoS\",\"PoW\",\"PoS\",\"PoW/PoS\",\"PoW\",\"PoS\",\"PoW/PoS\",\"PoW/PoS\",\"PoW/PoS\",\"PoW/PoS\",\"PoW\",\"PoW\",\"PoW\",\"PoW/PoS\",\"DPoS\",\"PoW/PoS\",\"PoW\",\"PoW/PoS\",\"PoW\",\"PoW/PoS\",\"PoW\",\"PoW/PoS\",\"PoS\",\"PoW/PoS\",\"PoW/PoS\",\"PoW\",\"PoW/PoS\",\"PoW/PoS\",\"PoW/PoS\",\"PoW\",\"PoW/PoS\",\"PoW\",\"PoW/PoS\",\"PoW\",\"PoW/PoS\",\"PoW/PoS\",\"PoS\",\"PoW\",\"PoW\",\"Proof of Trust\",\"PoW/PoS\",\"DPoS\",\"PoS\",\"PoW/PoS\",\"PoW/PoS\",\"PoW\",\"PoW/PoS\",\"PoW\",\"DPoS\",\"PoW\",\"DPoS\",\"PoS\",\"LPoS\",\"PoS\",\"DPoS\",\"PoS/LPoS\",\"DPoS\",\"PoW/PoS\",\"PoW\",\"PoW\",\"PoS\"],\"TotalCoinSupply\":[\"42\",\"532000000\",\"314159265359\",\"21000000\",\"0\",\"84000000\",\"22000000\",\"0\",\"210000000\",\"21000000\",\"3600570502\",\"21000000000\",\"22000000\",\"12500000\",\"21000000\",\"350000000\",\"20000000\",\"64000000\",\"16768584\",\"0\",\"2000000000\",\"384000000000\",\"169795588\",\"250000000\",\"100000000\",\"0\",\"247000000\",\"84000000\",\"48166000\",\"500000\",\"21000000 \",\"1000000\",\"13140000\",\"18000000\",\"40000000000\",\"4380000\",\"16555000000\",\"21000000000\",\"13500000000\",\"21000000 \",\"299792458\",\"32000000\",\"0\",\"0\",\"11235813\",\"336000000\",\"1420609614\",\"70000000\",\"72245700\",\"120000000\",\"0\",\"90600000000\",\"22000000\",\"21000000\",\"265420800\",\"20000000\",\"1350000\",\"100000000\",\"42000000\",\"200000000\",\"0\",\"10000000\",\"2419200000\",\"16180000\",\"0\",\"15000000000\",\"21000000\",\"337000000\",\"0\",\"3770000\",\"420000000\",\"98000000\",\"0\",\"21000000\",\"250000000\",\"51200000\",\"0\",\"1000\",\"888000000\",\"100000000\",\"47011968\",\"2300000000\",\"10000000\",\"42000000\",\"80000000\",\"250000\",\"0\",\"1600000000\",\"100000000\",\"23000000\",\"0\",\"84000000\",\"265420800\",\"5500000\",\"0\",\"45000000\",\"0\",\"1000000000\",\"184467440735\",\"10000000000\",\"2158812800\",\"500000000\",\"105120000\",\"68000000\",\"0\",\"1680000000\",\"0\",\"166386000\",\"12000000\",\"2628000\",\"500000000\",\"160000000\",\"0\",\"10000000\",\"1000000000\",\"1000000000\",\"20000000\",\"0\",\"0\",\"3371337\",\"20000000\",\"10000000000\",\"1840000000\",\"619478\",\"21000000\",\"92000000000\",\"0\",\"78000000\",\"33000000\",\"65789100\",\"53760000\",\"5060000\",\"21000000\",\"0\",\"210240000\",\"250000000\",\"100000000\",\"16906397\",\"50000000\",\"0\",\"1000000000\",\"26298000\",\"16000000\",\"21000000\",\"21000000\",\"210000000\",\"81962100\",\"22000000\",\"26550000000\",\"84000000\",\"10500000\",\"21626280000 \",\"0\",\"42000000\",\"221052632\",\"84000000\",\"30000000\",\"168351300\",\"24000000\",\"384000000\",\" 99000000000\",\"40000000\",\"2147483647\",\"20000000\",\"20000000\",\"25000000\",\"75000000\",\"222725000\",\"525000000\",\"90000000\",\"139000000\",\"616448\",\"33500000\",\"2000000000\",\"44333333\",\"100000000\",\"200000000\",\"25000000\",\"657000000\",\"200000000\",\"50000000\",\"90000000\",\"10000000\",\"21000000\",\"9736000\",\"3000000\",\"21000000\",\"1200000000\",\"0\",\"200000000\",\"0\",\"10638298\",\"3100000000\",\"30000000\",\"20000000000\",\"74000000\",\"0\",\"1500000000\",\"21400000\",\"39999898\",\"2500124\",\"100000000\",\"301000000\",\"7506000000\",\"26205539\",\"21000000\",\"125000000\",\"30000000\",\"10000000000\",\"500000000\",\"850000000\",\"3853326.77707314\",\"50000000\",\"38540000 \",\"42000000\",\"228000000\",\"20000000\",\"60000000\",\"20000000\",\"33000000\",\"76500000\",\"28000000\",\"650659833\",\"5000000\",\"21000000\",\"144000000\",\"32514916898\",\"13000000\",\"3315789\",\"15000000\",\"78835200\",\"2714286\",\"25000000\",\"9999999\",\"500000000\",\"21000000\",\"9354000\",\"20000000\",\"100000000000\",\"21933333\",\"185000000\",\"55000000\",\"110000000\",\"3360000\",\"14524851.4827\",\"1000000000\",\"17000000\",\"1000000000\",\"100000000 \",\"21000000\",\"34426423\",\"2232901\",\"100000000\",\"36900000\",\"110000000\",\"4000000000\",\"110290030\",\"100000000\",\"48252000\",\"400000000\",\"500000000\",\"21212121\",\"28600000\",\"1000000000\",\"75000000000\",\"40000000\",\"35520400\",\"2000000000\",\"2500000000\",\"30000000\",\"105000000\",\"90000000000\",\"200084200\",\"72000000\",\"100000000\",\"105000000\",\"50000000000\",\"0\",\"340282367\",\"30000000\",\"2000000000\",\"10000000\",\"100000000\",\"120000000\",\"100000000\",\"19276800\",\"30000000\",\" 75000000\",\"60000000\",\"18900000\",\"50000000000\",\"54000000\",\"18898187.6216583\",\"21000000\",\"200000000000\",\"5000000000\",\"137500000\",\"1100000000\",\"100000000\",\"21000000\",\"9507271\",\"17405891.19707116\",\"86712634466\",\"10500000000\",\"61599965\",\"0\",\"20000000\",\"84000000\",\"100000000\",\"100000000\",\"48252000\",\"4200000\",\"88888888\",\"91388946\",\"45000000000\",\"27000000\",\"21000000000\",\"400000000\",\"1800000000\",\"15733333\",\"27000000\",\"24000000\",\"21000000\",\"25000000000\",\"100000000\",\"1200000000\",\"60000000\",\"156306732.71\",\"21000000\",\"200000000\",\"100000000\",\"21000000\",\"14788275.991\",\"9000000000\",\"350000000\",\"45000000\",\"280000000\",\"31800000\",\"144000000\",\"500000000\",\"30000000000\",\"210000000\",\"660000000\",\"210000000\",\"85000000000\",\"12500000\",\"10000000000\",\"27716121\",\"20000000\",\"550000000\",\"999481516\",\"50000000000\",\"150000000\",\"4999999999\",\"50000000\",\" 90000000000\",\"19800000\",\"21000000\",\"120000000\",\"500000000\",\"64000000\",\"900000000\",\"4000000\",\"21000000\",\"23000000\",\"20166000\",\"23000000\",\"25000000\",\"1618033\",\"30000000\",\"1000000000000\",\"16600000\",\"232000000\",\"336000000\",\"10000000000\",\"100000000\",\"1100000000\",\"800000000\",\"5200000000\",\"840000000\",\"40000000\",\"18406979840\",\"500000000\",\"19340594\",\"252460800\",\"25000000\",\"60000000\",\"124000000\",\"1000000000\",\"6500000000\",\"1000000000\",\"21000000\",\"25000000\",\"50000000\",\"3000000\",\"5000000\",\"70000000\",\"500000000\",\"300000000\",\"21000000\",\"88000000\",\"30000000\",\"100000000\",\"100000000\",\"200000000\",\"80000000\",\"18400000\",\"45000000\",\"5121951220\",\"21000000\",\"26280000\",\"21000000\",\"18000000\",\"26000000\",\"10500000\",\"600000518\",\"150000000\",\"184000000000\",\"10200000000\",\"44000000\",\"168000000\",\"100000000\",\"1000000000\",\"84000000\",\"90000000\",\"92000000000\",\"650000000 \",\"100262205\",\"18081806 \",\"22075700\",\"21000000\",\"21000000\",\"82546564\",\"21000000\",\"5151000\",\"16880000000\",\"52500000\",\"100000000\",\"22105263\",\"1000000000\",\"1750000000\",\"88188888\",\"210000000\",\"184470000000\",\"55000000\",\"50000000\",\"260000000\",\"210000000\",\"2100000000\",\"366000000\",\"100000000\",\"25000000\",\"18000000000\",\"1000000000\",\"100000000\",\"1000000000\",\"7600000000\",\"50000000\",\"84000000\",\"21000000\",\"70000000000\",\"0\",\"8080000000\",\"54000000\",\"105120001.44\",\"25228800\",\"105000000\",\"21000000\",\"120000000\",\"21000000\",\"262800000\",\"19035999\",\"30886000\",\"13370000\",\"74800000000\",\"100000000\",\"19700000\",\"84000000\",\"500000000\",\"5000000000\",\"420000000\",\"64000000\",\"2100000\",\"168000000\",\"30000000\",\"1000000000\",\"35000000000\",\"98100000000\",\"0\",\"4000000000\",\"200000000\",\"7000000000\",\"54256119\",\"21000000\",\"0\",\"500000000\",\"1000000000\",\"10500000000\",\"190000000\",\"1000000000\",\"42000000\",\"15000000\",\"50000000000\",\"400000000\",\"105000000\",\"208000000\",\"160000000\",\"9000000\",\"5000000\",\"182000000\",\"16504333\",\"105000000\",\"159918400\",\"10008835635\",\"300000000\",\"60168145\",\"2800000\",\"120000\",\"2100000000\",\"0\",\"24487944\",\"0\",\"1000000000\",\"100000000\",\"8634140\",\"990000000000\",\"1000000000\",\"2000000000\",\"250000000\",\"1400222610\",\"21000000\",\"1000000\"],\"TotalCoinsMined\":{\"__ndarray__\":\"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\",\"dtype\":\"float64\",\"order\":\"little\",\"shape\":[532]}},\"selected\":{\"id\":\"1123\"},\"selection_policy\":{\"id\":\"1172\"}},\"id\":\"1122\",\"type\":\"ColumnDataSource\"},{\"attributes\":{},\"id\":\"1130\",\"type\":\"StringEditor\"},{\"attributes\":{},\"id\":\"1140\",\"type\":\"StringEditor\"},{\"attributes\":{},\"id\":\"1155\",\"type\":\"NumberEditor\"},{\"attributes\":{\"editor\":{\"id\":\"1145\"},\"field\":\"PrincipleComponent1\",\"formatter\":{\"id\":\"1144\"},\"title\":\"PrincipleComponent1\"},\"id\":\"1146\",\"type\":\"TableColumn\"},{\"attributes\":{\"source\":{\"id\":\"1122\"}},\"id\":\"1171\",\"type\":\"CDSView\"},{\"attributes\":{\"format\":\"0,0.0[00000]\"},\"id\":\"1144\",\"type\":\"NumberFormatter\"},{\"attributes\":{},\"id\":\"1159\",\"type\":\"StringFormatter\"},{\"attributes\":{\"editor\":{\"id\":\"1165\"},\"field\":\"Class\",\"formatter\":{\"id\":\"1164\"},\"title\":\"Class\"},\"id\":\"1166\",\"type\":\"TableColumn\"},{\"attributes\":{\"editor\":{\"id\":\"1150\"},\"field\":\"PrincipleComponent2\",\"formatter\":{\"id\":\"1149\"},\"title\":\"PrincipleComponent2\"},\"id\":\"1151\",\"type\":\"TableColumn\"},{\"attributes\":{},\"id\":\"1139\",\"type\":\"StringFormatter\"},{\"attributes\":{\"editor\":{\"id\":\"1125\"},\"field\":\"Algorithm\",\"formatter\":{\"id\":\"1124\"},\"title\":\"Algorithm\"},\"id\":\"1126\",\"type\":\"TableColumn\"},{\"attributes\":{\"editor\":{\"id\":\"1130\"},\"field\":\"ProofType\",\"formatter\":{\"id\":\"1129\"},\"title\":\"ProofType\"},\"id\":\"1131\",\"type\":\"TableColumn\"},{\"attributes\":{\"format\":\"0,0.0[00000]\"},\"id\":\"1154\",\"type\":\"NumberFormatter\"},{\"attributes\":{\"margin\":[5,5,5,5],\"name\":\"HSpacer01803\",\"sizing_mode\":\"stretch_width\"},\"id\":\"1121\",\"type\":\"Spacer\"},{\"attributes\":{},\"id\":\"1145\",\"type\":\"NumberEditor\"},{\"attributes\":{},\"id\":\"1150\",\"type\":\"NumberEditor\"},{\"attributes\":{},\"id\":\"1165\",\"type\":\"IntEditor\"},{\"attributes\":{\"children\":[{\"id\":\"1121\"},{\"id\":\"1169\"},{\"id\":\"1176\"}],\"margin\":[0,0,0,0],\"name\":\"Row01799\",\"tags\":[\"embedded\"]},\"id\":\"1120\",\"type\":\"Row\"},{\"attributes\":{\"editor\":{\"id\":\"1155\"},\"field\":\"PrincipleComponent3\",\"formatter\":{\"id\":\"1154\"},\"title\":\"PrincipleComponent3\"},\"id\":\"1156\",\"type\":\"TableColumn\"},{\"attributes\":{},\"id\":\"1135\",\"type\":\"NumberEditor\"},{\"attributes\":{},\"id\":\"1123\",\"type\":\"Selection\"},{\"attributes\":{\"columns\":[{\"id\":\"1126\"},{\"id\":\"1131\"},{\"id\":\"1136\"},{\"id\":\"1141\"},{\"id\":\"1146\"},{\"id\":\"1151\"},{\"id\":\"1156\"},{\"id\":\"1161\"},{\"id\":\"1166\"}],\"height\":300,\"reorderable\":false,\"source\":{\"id\":\"1122\"},\"view\":{\"id\":\"1171\"},\"width\":700},\"id\":\"1169\",\"type\":\"DataTable\"}],\"root_ids\":[\"1120\"]},\"title\":\"Bokeh Application\",\"version\":\"2.4.2\"}};\n",
       "    var render_items = [{\"docid\":\"01710cf2-63f1-49f0-8c05-8083d857017a\",\"root_ids\":[\"1120\"],\"roots\":{\"1120\":\"472b4f3e-b4ad-4218-a6de-22b60beaafee\"}}];\n",
       "    root.Bokeh.embed.embed_items_notebook(docs_json, render_items);\n",
       "  }\n",
       "  if (root.Bokeh !== undefined && root.Bokeh.Panel !== undefined) {\n",
       "    embed_document(root);\n",
       "  } else {\n",
       "    var attempts = 0;\n",
       "    var timer = setInterval(function(root) {\n",
       "      if (root.Bokeh !== undefined && root.Bokeh.Panel !== undefined) {\n",
       "        clearInterval(timer);\n",
       "        embed_document(root);\n",
       "      } else if (document.readyState == \"complete\") {\n",
       "        attempts++;\n",
       "        if (attempts > 200) {\n",
       "          clearInterval(timer);\n",
       "          console.log(\"Bokeh: ERROR: Unable to run BokehJS code because BokehJS library is missing\");\n",
       "        }\n",
       "      }\n",
       "    }, 25, root)\n",
       "  }\n",
       "})(window);</script>"
      ],
      "text/plain": [
       ":Table   [Algorithm,ProofType,TotalCoinsMined,TotalCoinSupply,PrincipleComponent1,PrincipleComponent2,PrincipleComponent3,CoinName,Class]"
      ]
     },
     "execution_count": 76,
     "metadata": {
      "application/vnd.holoviews_exec.v0+json": {
       "id": "1120"
      }
     },
     "output_type": "execute_result"
    }
   ],
   "source": [
    "# Create a table with tradable cryptocurrencies.\n",
    "# YOUR CODE HERE\n",
    "clustered_df.hvplot.table(sortable=True, selectable=True)"
   ]
  },
  {
   "cell_type": "code",
   "execution_count": 77,
   "metadata": {},
   "outputs": [
    {
     "name": "stdout",
     "output_type": "stream",
     "text": [
      "There are 532 tradable cryptocurrencies.\n"
     ]
    }
   ],
   "source": [
    "# Print the total number of tradable cryptocurrencies.\n",
    "# YOUR CODE HERE\n",
    "print(f\"There are {clustered_df['CoinName'].count()} tradable cryptocurrencies.\")\n"
   ]
  },
  {
   "cell_type": "code",
   "execution_count": 78,
   "metadata": {},
   "outputs": [
    {
     "data": {
      "text/plain": [
       "array([[4.20000000e-11, 0.00000000e+00],\n",
       "       [5.32000000e-04, 1.06585544e-03],\n",
       "       [3.14159265e-01, 2.95755135e-02],\n",
       "       ...,\n",
       "       [1.40022261e-03, 9.90135079e-04],\n",
       "       [2.10000000e-05, 7.37028150e-06],\n",
       "       [1.00000000e-06, 1.29582282e-07]])"
      ]
     },
     "execution_count": 78,
     "metadata": {},
     "output_type": "execute_result"
    }
   ],
   "source": [
    "# Scaling data to create the scatter plot with tradable cryptocurrencies.\n",
    "# YOUR CODE HERE\n",
    "coins = clustered_df[['TotalCoinSupply', 'TotalCoinsMined']]\n",
    "coins_scaled = MinMaxScaler().fit_transform(coins)\n",
    "coins_scaled"
   ]
  },
  {
   "cell_type": "code",
   "execution_count": 79,
   "metadata": {},
   "outputs": [
    {
     "data": {
      "text/html": [
       "<div>\n",
       "<style scoped>\n",
       "    .dataframe tbody tr th:only-of-type {\n",
       "        vertical-align: middle;\n",
       "    }\n",
       "\n",
       "    .dataframe tbody tr th {\n",
       "        vertical-align: top;\n",
       "    }\n",
       "\n",
       "    .dataframe thead th {\n",
       "        text-align: right;\n",
       "    }\n",
       "</style>\n",
       "<table border=\"1\" class=\"dataframe\">\n",
       "  <thead>\n",
       "    <tr style=\"text-align: right;\">\n",
       "      <th></th>\n",
       "      <th>TotalCoinSupply</th>\n",
       "      <th>TotalCoinsMined</th>\n",
       "      <th>CoinName</th>\n",
       "      <th>Class</th>\n",
       "    </tr>\n",
       "  </thead>\n",
       "  <tbody>\n",
       "    <tr>\n",
       "      <th>42</th>\n",
       "      <td>4.200000e-11</td>\n",
       "      <td>0.000000</td>\n",
       "      <td>42 Coin</td>\n",
       "      <td>0</td>\n",
       "    </tr>\n",
       "    <tr>\n",
       "      <th>404</th>\n",
       "      <td>5.320000e-04</td>\n",
       "      <td>0.001066</td>\n",
       "      <td>404Coin</td>\n",
       "      <td>0</td>\n",
       "    </tr>\n",
       "    <tr>\n",
       "      <th>1337</th>\n",
       "      <td>3.141593e-01</td>\n",
       "      <td>0.029576</td>\n",
       "      <td>EliteCoin</td>\n",
       "      <td>0</td>\n",
       "    </tr>\n",
       "    <tr>\n",
       "      <th>BTC</th>\n",
       "      <td>2.100000e-05</td>\n",
       "      <td>0.000018</td>\n",
       "      <td>Bitcoin</td>\n",
       "      <td>0</td>\n",
       "    </tr>\n",
       "    <tr>\n",
       "      <th>ETH</th>\n",
       "      <td>0.000000e+00</td>\n",
       "      <td>0.000109</td>\n",
       "      <td>Ethereum</td>\n",
       "      <td>0</td>\n",
       "    </tr>\n",
       "    <tr>\n",
       "      <th>LTC</th>\n",
       "      <td>8.400000e-05</td>\n",
       "      <td>0.000064</td>\n",
       "      <td>Litecoin</td>\n",
       "      <td>0</td>\n",
       "    </tr>\n",
       "    <tr>\n",
       "      <th>DASH</th>\n",
       "      <td>2.200000e-05</td>\n",
       "      <td>0.000009</td>\n",
       "      <td>Dash</td>\n",
       "      <td>0</td>\n",
       "    </tr>\n",
       "    <tr>\n",
       "      <th>XMR</th>\n",
       "      <td>0.000000e+00</td>\n",
       "      <td>0.000017</td>\n",
       "      <td>Monero</td>\n",
       "      <td>0</td>\n",
       "    </tr>\n",
       "    <tr>\n",
       "      <th>ETC</th>\n",
       "      <td>2.100000e-04</td>\n",
       "      <td>0.000115</td>\n",
       "      <td>Ethereum Classic</td>\n",
       "      <td>0</td>\n",
       "    </tr>\n",
       "    <tr>\n",
       "      <th>ZEC</th>\n",
       "      <td>2.100000e-05</td>\n",
       "      <td>0.000007</td>\n",
       "      <td>ZCash</td>\n",
       "      <td>0</td>\n",
       "    </tr>\n",
       "  </tbody>\n",
       "</table>\n",
       "</div>"
      ],
      "text/plain": [
       "      TotalCoinSupply  TotalCoinsMined          CoinName  Class\n",
       "42       4.200000e-11         0.000000           42 Coin      0\n",
       "404      5.320000e-04         0.001066           404Coin      0\n",
       "1337     3.141593e-01         0.029576         EliteCoin      0\n",
       "BTC      2.100000e-05         0.000018           Bitcoin      0\n",
       "ETH      0.000000e+00         0.000109          Ethereum      0\n",
       "LTC      8.400000e-05         0.000064          Litecoin      0\n",
       "DASH     2.200000e-05         0.000009              Dash      0\n",
       "XMR      0.000000e+00         0.000017            Monero      0\n",
       "ETC      2.100000e-04         0.000115  Ethereum Classic      0\n",
       "ZEC      2.100000e-05         0.000007             ZCash      0"
      ]
     },
     "execution_count": 79,
     "metadata": {},
     "output_type": "execute_result"
    }
   ],
   "source": [
    "# Create a new DataFrame that has the scaled data with the clustered_df DataFrame index.\n",
    "# YOUR CODE HERE\n",
    "plot_df = pd.DataFrame(coins_scaled, columns=['TotalCoinSupply', 'TotalCoinsMined'], index=clustered_df.index)\n",
    "\n",
    "\n",
    "# Add the \"CoinName\" column from the clustered_df DataFrame to the new DataFrame.\n",
    "# YOUR CODE HERE\n",
    "plot_df['CoinName'] = clustered_df['CoinName']\n",
    "\n",
    "# Add the \"Class\" column from the clustered_df DataFrame to the new DataFrame. \n",
    "# YOUR CODE HERE\n",
    "plot_df['Class'] = clustered_df['Class']\n",
    "\n",
    "plot_df.head(10)"
   ]
  },
  {
   "cell_type": "code",
   "execution_count": 80,
   "metadata": {},
   "outputs": [
    {
     "data": {
      "text/plain": [
       "Class\n",
       "0        529\n",
       "1          1\n",
       "2          1\n",
       "3          1\n",
       "dtype: int64"
      ]
     },
     "execution_count": 80,
     "metadata": {},
     "output_type": "execute_result"
    }
   ],
   "source": [
    "# Create a hvplot.scatter plot using x=\"TotalCoinsMined\" and y=\"TotalCoinSupply\".\n",
    "# YOUR CODE HERE\n",
    "plot_df.value_counts(['Class'])"
   ]
  },
  {
   "cell_type": "code",
   "execution_count": null,
   "metadata": {},
   "outputs": [],
   "source": []
  }
 ],
 "metadata": {
  "file_extension": ".py",
  "kernelspec": {
   "display_name": "mlenv",
   "language": "python",
   "name": "mlenv"
  },
  "language_info": {
   "codemirror_mode": {
    "name": "ipython",
    "version": 3
   },
   "file_extension": ".py",
   "mimetype": "text/x-python",
   "name": "python",
   "nbconvert_exporter": "python",
   "pygments_lexer": "ipython3",
   "version": "3.7.13"
  },
  "latex_envs": {
   "LaTeX_envs_menu_present": true,
   "autoclose": false,
   "autocomplete": true,
   "bibliofile": "biblio.bib",
   "cite_by": "apalike",
   "current_citInitial": 1,
   "eqLabelWithNumbers": true,
   "eqNumInitial": 1,
   "hotkeys": {
    "equation": "Ctrl-E",
    "itemize": "Ctrl-I"
   },
   "labels_anchors": false,
   "latex_user_defs": false,
   "report_style_numbering": false,
   "user_envs_cfg": false
  },
  "mimetype": "text/x-python",
  "name": "python",
  "npconvert_exporter": "python",
  "pygments_lexer": "ipython3",
  "version": 3
 },
 "nbformat": 4,
 "nbformat_minor": 2
}
